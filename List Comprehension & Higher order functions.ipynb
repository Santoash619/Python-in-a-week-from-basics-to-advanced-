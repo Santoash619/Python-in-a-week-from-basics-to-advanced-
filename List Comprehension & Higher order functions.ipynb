{
 "cells": [
  {
   "cell_type": "markdown",
   "id": "7d112347",
   "metadata": {},
   "source": [
    "### List Comprehension\n",
    "\n",
    "List comprehension offers a shorter syntax when you want to create a new list based on the values of an existing list."
   ]
  },
  {
   "cell_type": "code",
   "execution_count": 1,
   "id": "6a7cde7c",
   "metadata": {},
   "outputs": [],
   "source": [
    "flowers = [\"lotus\",\"rose\",\"lily\",\"daisy\",\"iris\"]"
   ]
  },
  {
   "cell_type": "code",
   "execution_count": 2,
   "id": "c751bd72",
   "metadata": {},
   "outputs": [
    {
     "name": "stdout",
     "output_type": "stream",
     "text": [
      "['lotus', 'rose', 'lily', 'daisy', 'iris']\n"
     ]
    }
   ],
   "source": [
    "new_list = flowers\n",
    "print(new_list)"
   ]
  },
  {
   "cell_type": "code",
   "execution_count": 6,
   "id": "453ac525",
   "metadata": {},
   "outputs": [
    {
     "name": "stdout",
     "output_type": "stream",
     "text": [
      "['lotus', 'rose', 'daisy', 'iris']\n"
     ]
    }
   ],
   "source": [
    "new = []\n",
    "\n",
    "for i in flowers:\n",
    "    if i!=\"lily\":\n",
    "        new.append(i)\n",
    "print(new)"
   ]
  },
  {
   "cell_type": "code",
   "execution_count": 33,
   "id": "051720da",
   "metadata": {},
   "outputs": [
    {
     "data": {
      "text/plain": [
       "['LOTUS', 'ROSE', 'DAISY', 'IRIS']"
      ]
     },
     "execution_count": 33,
     "metadata": {},
     "output_type": "execute_result"
    }
   ],
   "source": [
    "fl = [i.upper() for i in flowers if i!=\"lily\"]\n",
    "fl"
   ]
  },
  {
   "cell_type": "markdown",
   "id": "01557c0c",
   "metadata": {},
   "source": [
    "[expression for item in iteration ]"
   ]
  },
  {
   "cell_type": "code",
   "execution_count": 10,
   "id": "961459c2",
   "metadata": {},
   "outputs": [
    {
     "data": {
      "text/plain": [
       "['Lotus', 'Rose', 'Daisy', 'Iris']"
      ]
     },
     "execution_count": 10,
     "metadata": {},
     "output_type": "execute_result"
    }
   ],
   "source": [
    "#mylist=[expression for item in iteration]\n",
    "flowers=[\"lotus\",\"rose\",\"lily\",\"daisy\",\"iris\"]\n",
    "new = [i.capitalize() for i in flowers if i!=\"lily\"]\n",
    "new"
   ]
  },
  {
   "cell_type": "code",
   "execution_count": 15,
   "id": "33d66d4e",
   "metadata": {},
   "outputs": [
    {
     "data": {
      "text/plain": [
       "['lotus', 'rose', 'daisy', 'iris']"
      ]
     },
     "execution_count": 15,
     "metadata": {},
     "output_type": "execute_result"
    }
   ],
   "source": [
    "flowers=[\"lotus\",\"rose\",\"lily\",\"daisy\",\"iris\"]\n",
    "mylist=[]\n",
    "for x in flowers:\n",
    "    if \"s\" in x:\n",
    "        mylist.append(x)\n",
    "        \n",
    "mylist\n",
    "\n",
    "new1 = [x for x in flowers if \"s\" in x]\n",
    "new1"
   ]
  },
  {
   "cell_type": "code",
   "execution_count": 5,
   "id": "19fb5966",
   "metadata": {},
   "outputs": [
    {
     "name": "stdout",
     "output_type": "stream",
     "text": [
      "['lily', 'daisy', 'iris']\n"
     ]
    }
   ],
   "source": [
    "#mylist = [expression for item in iterable if condition == True]\n",
    "flowers=[\"lotus\",\"rose\",\"lily\",\"daisy\",\"iris\"]\n",
    "mylist=[x for x in flowers if \"i\" in x]\n",
    "print(mylist)"
   ]
  },
  {
   "cell_type": "code",
   "execution_count": 17,
   "id": "e9b64216",
   "metadata": {},
   "outputs": [
    {
     "name": "stdout",
     "output_type": "stream",
     "text": [
      "[2, 3, 4, 5, 6, 7, 8, 9, 10, 11, 12, 13, 14, 15, 16, 17, 18, 19, 20]\n"
     ]
    }
   ],
   "source": [
    "list1 = list(range(2,21))\n",
    "print(list1)"
   ]
  },
  {
   "cell_type": "code",
   "execution_count": 18,
   "id": "9c9272e8",
   "metadata": {},
   "outputs": [
    {
     "data": {
      "text/plain": [
       "[2, 3, 4, 5, 6, 7, 8, 9, 10, 11, 12, 13, 14, 15, 16, 17, 18, 19, 20]"
      ]
     },
     "execution_count": 18,
     "metadata": {},
     "output_type": "execute_result"
    }
   ],
   "source": [
    "list2 = [no for no in range(2,21)]\n",
    "list2"
   ]
  },
  {
   "cell_type": "code",
   "execution_count": 19,
   "id": "8a313729",
   "metadata": {},
   "outputs": [
    {
     "data": {
      "text/plain": [
       "[2, 5, 8, 11, 14, 17, 20]"
      ]
     },
     "execution_count": 19,
     "metadata": {},
     "output_type": "execute_result"
    }
   ],
   "source": [
    "list3 = [no for no in range(2,21,3)]\n",
    "list3"
   ]
  },
  {
   "cell_type": "code",
   "execution_count": 23,
   "id": "a3403b39",
   "metadata": {},
   "outputs": [
    {
     "data": {
      "text/plain": [
       "[12, 24]"
      ]
     },
     "execution_count": 23,
     "metadata": {},
     "output_type": "execute_result"
    }
   ],
   "source": [
    "new = []\n",
    "for i in range(1,25):\n",
    "    if (i%4==0) and (i%6==0):\n",
    "        new.append(i)\n",
    "new"
   ]
  },
  {
   "cell_type": "code",
   "execution_count": 25,
   "id": "1a4d71a8",
   "metadata": {},
   "outputs": [
    {
     "name": "stdout",
     "output_type": "stream",
     "text": [
      "[4, 6, 8, 12, 16, 18, 20, 24]\n"
     ]
    }
   ],
   "source": [
    "mylist=[i for i in range(1,25) if (i%4==0) or (i%6==0)]\n",
    "print(mylist)"
   ]
  },
  {
   "cell_type": "code",
   "execution_count": 26,
   "id": "49c63114",
   "metadata": {},
   "outputs": [
    {
     "name": "stdout",
     "output_type": "stream",
     "text": [
      "['LOTUS', 'ROSE', 'LILY', 'DAISY', 'IRIS']\n"
     ]
    }
   ],
   "source": [
    "mylist=[x.upper() for x in flowers]\n",
    "print(mylist)"
   ]
  },
  {
   "cell_type": "code",
   "execution_count": 29,
   "id": "d72d9b14",
   "metadata": {
    "collapsed": true
   },
   "outputs": [
    {
     "data": {
      "text/plain": [
       "['lotus', 'rose', 'Sunflower', 'daisy', 'iris']"
      ]
     },
     "execution_count": 29,
     "metadata": {},
     "output_type": "execute_result"
    }
   ],
   "source": [
    "new = []\n",
    "for i in flowers:\n",
    "    if i!=\"lily\":\n",
    "        new.append(i)\n",
    "    else:\n",
    "        new.append(\"Sunflower\")\n",
    "new"
   ]
  },
  {
   "cell_type": "code",
   "execution_count": 28,
   "id": "0181bc8d",
   "metadata": {
    "collapsed": true
   },
   "outputs": [
    {
     "name": "stdout",
     "output_type": "stream",
     "text": [
      "['lotus', 'rose', 'sunflower', 'daisy', 'iris']\n"
     ]
    }
   ],
   "source": [
    "mylist=[x if x !=\"lily\" else \"sunflower\" for x in flowers]\n",
    "print(mylist)"
   ]
  },
  {
   "cell_type": "code",
   "execution_count": 10,
   "id": "3cb9ad04",
   "metadata": {
    "collapsed": true
   },
   "outputs": [
    {
     "name": "stdout",
     "output_type": "stream",
     "text": [
      "[2, 4, 6, 8, 10, 12, 14, 16, 18, 20, 22, 24, 26, 28, 30, 32, 34, 36, 38, 40, 42, 44, 46, 48, 50, 52, 54, 56, 58, 60, 62, 64, 66, 68, 70, 72, 74, 76, 78, 80, 82, 84, 86, 88, 90, 92, 94, 96, 98, 100]\n"
     ]
    }
   ],
   "source": [
    "mylist = [x for x in range(1,101) if x%2==0]\n",
    "#finding even numbers between 1 to 100 using list comprehension\n",
    "print(mylist)"
   ]
  },
  {
   "cell_type": "code",
   "execution_count": 36,
   "id": "d90b612e",
   "metadata": {
    "collapsed": true
   },
   "outputs": [
    {
     "name": "stdout",
     "output_type": "stream",
     "text": [
      "1 is odd\n",
      "2 is even\n",
      "3 is odd\n",
      "4 is even\n",
      "5 is odd\n",
      "6 is even\n",
      "7 is odd\n",
      "8 is even\n",
      "9 is odd\n",
      "10 is even\n",
      "11 is odd\n",
      "12 is even\n",
      "13 is odd\n",
      "14 is even\n",
      "15 is odd\n",
      "16 is even\n",
      "17 is odd\n",
      "18 is even\n",
      "19 is odd\n",
      "20 is even\n",
      "21 is odd\n",
      "22 is even\n",
      "23 is odd\n",
      "24 is even\n",
      "25 is odd\n",
      "26 is even\n",
      "27 is odd\n",
      "28 is even\n",
      "29 is odd\n",
      "30 is even\n",
      "31 is odd\n",
      "32 is even\n",
      "33 is odd\n",
      "34 is even\n",
      "35 is odd\n",
      "36 is even\n",
      "37 is odd\n",
      "38 is even\n",
      "39 is odd\n",
      "40 is even\n",
      "41 is odd\n",
      "42 is even\n",
      "43 is odd\n",
      "44 is even\n",
      "45 is odd\n",
      "46 is even\n",
      "47 is odd\n",
      "48 is even\n",
      "49 is odd\n",
      "50 is even\n",
      "51 is odd\n",
      "52 is even\n",
      "53 is odd\n",
      "54 is even\n",
      "55 is odd\n",
      "56 is even\n",
      "57 is odd\n",
      "58 is even\n",
      "59 is odd\n",
      "60 is even\n",
      "61 is odd\n",
      "62 is even\n",
      "63 is odd\n",
      "64 is even\n",
      "65 is odd\n",
      "66 is even\n",
      "67 is odd\n",
      "68 is even\n",
      "69 is odd\n",
      "70 is even\n",
      "71 is odd\n",
      "72 is even\n",
      "73 is odd\n",
      "74 is even\n",
      "75 is odd\n",
      "76 is even\n",
      "77 is odd\n",
      "78 is even\n",
      "79 is odd\n",
      "80 is even\n",
      "81 is odd\n",
      "82 is even\n",
      "83 is odd\n",
      "84 is even\n",
      "85 is odd\n",
      "86 is even\n",
      "87 is odd\n",
      "88 is even\n",
      "89 is odd\n",
      "90 is even\n",
      "91 is odd\n",
      "92 is even\n",
      "93 is odd\n",
      "94 is even\n",
      "95 is odd\n",
      "96 is even\n",
      "97 is odd\n",
      "98 is even\n",
      "99 is odd\n",
      "100 is even\n"
     ]
    }
   ],
   "source": [
    "for i in range(1,101):\n",
    "    if i%2==0:\n",
    "        print(i,\"is even\")\n",
    "    else:\n",
    "        print(i,\"is odd\")"
   ]
  },
  {
   "cell_type": "code",
   "execution_count": 38,
   "id": "34bfd0f5",
   "metadata": {
    "collapsed": true
   },
   "outputs": [
    {
     "name": "stdout",
     "output_type": "stream",
     "text": [
      "1 is odd\n",
      "2 is even\n",
      "3 is odd\n",
      "4 is even\n",
      "5 is odd\n",
      "6 is even\n",
      "7 is odd\n",
      "8 is even\n",
      "9 is odd\n",
      "10 is even\n",
      "11 is odd\n",
      "12 is even\n",
      "13 is odd\n",
      "14 is even\n",
      "15 is odd\n",
      "16 is even\n",
      "17 is odd\n",
      "18 is even\n",
      "19 is odd\n",
      "20 is even\n",
      "21 is odd\n",
      "22 is even\n",
      "23 is odd\n",
      "24 is even\n",
      "25 is odd\n",
      "26 is even\n",
      "27 is odd\n",
      "28 is even\n",
      "29 is odd\n",
      "30 is even\n",
      "31 is odd\n",
      "32 is even\n",
      "33 is odd\n",
      "34 is even\n",
      "35 is odd\n",
      "36 is even\n",
      "37 is odd\n",
      "38 is even\n",
      "39 is odd\n",
      "40 is even\n",
      "41 is odd\n",
      "42 is even\n",
      "43 is odd\n",
      "44 is even\n",
      "45 is odd\n",
      "46 is even\n",
      "47 is odd\n",
      "48 is even\n",
      "49 is odd\n",
      "50 is even\n",
      "51 is odd\n",
      "52 is even\n",
      "53 is odd\n",
      "54 is even\n",
      "55 is odd\n",
      "56 is even\n",
      "57 is odd\n",
      "58 is even\n",
      "59 is odd\n",
      "60 is even\n",
      "61 is odd\n",
      "62 is even\n",
      "63 is odd\n",
      "64 is even\n",
      "65 is odd\n",
      "66 is even\n",
      "67 is odd\n",
      "68 is even\n",
      "69 is odd\n",
      "70 is even\n",
      "71 is odd\n",
      "72 is even\n",
      "73 is odd\n",
      "74 is even\n",
      "75 is odd\n",
      "76 is even\n",
      "77 is odd\n",
      "78 is even\n",
      "79 is odd\n",
      "80 is even\n",
      "81 is odd\n",
      "82 is even\n",
      "83 is odd\n",
      "84 is even\n",
      "85 is odd\n",
      "86 is even\n",
      "87 is odd\n",
      "88 is even\n",
      "89 is odd\n",
      "90 is even\n",
      "91 is odd\n",
      "92 is even\n",
      "93 is odd\n",
      "94 is even\n",
      "95 is odd\n",
      "96 is even\n",
      "97 is odd\n",
      "98 is even\n",
      "99 is odd\n",
      "100 is even\n"
     ]
    },
    {
     "data": {
      "text/plain": [
       "[None,\n",
       " None,\n",
       " None,\n",
       " None,\n",
       " None,\n",
       " None,\n",
       " None,\n",
       " None,\n",
       " None,\n",
       " None,\n",
       " None,\n",
       " None,\n",
       " None,\n",
       " None,\n",
       " None,\n",
       " None,\n",
       " None,\n",
       " None,\n",
       " None,\n",
       " None,\n",
       " None,\n",
       " None,\n",
       " None,\n",
       " None,\n",
       " None,\n",
       " None,\n",
       " None,\n",
       " None,\n",
       " None,\n",
       " None,\n",
       " None,\n",
       " None,\n",
       " None,\n",
       " None,\n",
       " None,\n",
       " None,\n",
       " None,\n",
       " None,\n",
       " None,\n",
       " None,\n",
       " None,\n",
       " None,\n",
       " None,\n",
       " None,\n",
       " None,\n",
       " None,\n",
       " None,\n",
       " None,\n",
       " None,\n",
       " None,\n",
       " None,\n",
       " None,\n",
       " None,\n",
       " None,\n",
       " None,\n",
       " None,\n",
       " None,\n",
       " None,\n",
       " None,\n",
       " None,\n",
       " None,\n",
       " None,\n",
       " None,\n",
       " None,\n",
       " None,\n",
       " None,\n",
       " None,\n",
       " None,\n",
       " None,\n",
       " None,\n",
       " None,\n",
       " None,\n",
       " None,\n",
       " None,\n",
       " None,\n",
       " None,\n",
       " None,\n",
       " None,\n",
       " None,\n",
       " None,\n",
       " None,\n",
       " None,\n",
       " None,\n",
       " None,\n",
       " None,\n",
       " None,\n",
       " None,\n",
       " None,\n",
       " None,\n",
       " None,\n",
       " None,\n",
       " None,\n",
       " None,\n",
       " None,\n",
       " None,\n",
       " None,\n",
       " None,\n",
       " None,\n",
       " None,\n",
       " None]"
      ]
     },
     "execution_count": 38,
     "metadata": {},
     "output_type": "execute_result"
    }
   ],
   "source": [
    "mylist=[print(x,\"is even\") if x%2==0 else\n",
    "        print(x,\"is odd\") for x in range(1,101)]\n",
    "mylist"
   ]
  },
  {
   "cell_type": "code",
   "execution_count": 12,
   "id": "4eb76539",
   "metadata": {},
   "outputs": [
    {
     "name": "stdout",
     "output_type": "stream",
     "text": [
      "[10, 20, 30, 40, 50]\n"
     ]
    }
   ],
   "source": [
    "num = [x for x in range(1, 51) if x % 2 == 0 and x % 5 == 0]\n",
    "print(num)"
   ]
  },
  {
   "cell_type": "code",
   "execution_count": 45,
   "id": "60186f6c",
   "metadata": {},
   "outputs": [
    {
     "name": "stdout",
     "output_type": "stream",
     "text": [
      "[5]\n",
      "[5, 6]\n",
      "[5, 6, 7]\n",
      "[5, 6, 7, 5]\n",
      "[5, 6, 7, 5, 10]\n"
     ]
    }
   ],
   "source": [
    "fruits = [\"apple\", \"banana\", \"avocado\", \"mango\", \"pine-apple\"]\n",
    "length = []\n",
    "\n",
    "for word in fruits:\n",
    "    length.append(len(word))\n",
    "    print(length)"
   ]
  },
  {
   "cell_type": "code",
   "execution_count": 46,
   "id": "b11da7bd",
   "metadata": {},
   "outputs": [
    {
     "name": "stdout",
     "output_type": "stream",
     "text": [
      "[5, 6, 7, 5, 10]\n"
     ]
    }
   ],
   "source": [
    "fruits = [\"apple\", \"banana\", \"avocado\", \"mango\", \"pine-apple\"]\n",
    "length = [len(word) for word in fruits]\n",
    "print(length)"
   ]
  },
  {
   "cell_type": "code",
   "execution_count": 48,
   "id": "48424244",
   "metadata": {},
   "outputs": [],
   "source": [
    "def new_f(l1):\n",
    "    new=[]\n",
    "    for i in l1:\n",
    "        new.append(i*2)\n",
    "    print(new)"
   ]
  },
  {
   "cell_type": "code",
   "execution_count": 50,
   "id": "febd89d6",
   "metadata": {},
   "outputs": [
    {
     "name": "stdout",
     "output_type": "stream",
     "text": [
      "['appleapple', 'bananabanana', 'avocadoavocado', 'mangomango', 'pine-applepine-apple']\n"
     ]
    }
   ],
   "source": [
    "new_f(fruits)"
   ]
  },
  {
   "cell_type": "code",
   "execution_count": 47,
   "id": "00eb12e7",
   "metadata": {},
   "outputs": [
    {
     "data": {
      "text/plain": [
       "5"
      ]
     },
     "execution_count": 47,
     "metadata": {},
     "output_type": "execute_result"
    }
   ],
   "source": [
    "len(fruits)"
   ]
  },
  {
   "cell_type": "markdown",
   "id": "92b274ad",
   "metadata": {},
   "source": [
    "#### Higher-order functions -\n",
    "This functions are called as higher order functions because they include some functions as there arguments\n",
    "\n",
    "* Map , Filter and reduce\n",
    "\n",
    "#### Map:\n",
    "map() is a built-in function in Python that is often used in combination with lambda functions. It allows you to apply a given function to each element of an iterable (such as a list, tuple, or string), and returns a new iterable containing the results.\n",
    "\n",
    "map(function, iterable)"
   ]
  },
  {
   "cell_type": "code",
   "execution_count": 62,
   "id": "7c01f932",
   "metadata": {},
   "outputs": [],
   "source": [
    "# Map\n",
    "# User defined function for doubling the arguments\n",
    "def doubled(x):\n",
    "    return x*x"
   ]
  },
  {
   "cell_type": "code",
   "execution_count": 63,
   "id": "ba8a8fc2",
   "metadata": {},
   "outputs": [
    {
     "name": "stdout",
     "output_type": "stream",
     "text": [
      "25\n"
     ]
    }
   ],
   "source": [
    "print(doubled(5))"
   ]
  },
  {
   "cell_type": "code",
   "execution_count": 64,
   "id": "c1480780",
   "metadata": {},
   "outputs": [
    {
     "name": "stdout",
     "output_type": "stream",
     "text": [
      "[9, 36, 25, 25, 81, 0, 81, 1]\n"
     ]
    }
   ],
   "source": [
    "l1 = [3,6,5,5,9,0,9,1]\n",
    "doub = []\n",
    "\n",
    "for i in l1:\n",
    "    doub.append(doubled(i))\n",
    "print(doub)"
   ]
  },
  {
   "cell_type": "code",
   "execution_count": 65,
   "id": "dd907873",
   "metadata": {},
   "outputs": [
    {
     "data": {
      "text/plain": [
       "[9, 36, 25, 25, 81, 0, 81, 1]"
      ]
     },
     "execution_count": 65,
     "metadata": {},
     "output_type": "execute_result"
    }
   ],
   "source": [
    "dou = [doubled(i) for i in l1]\n",
    "dou"
   ]
  },
  {
   "cell_type": "code",
   "execution_count": 67,
   "id": "6ea1f7d8",
   "metadata": {},
   "outputs": [
    {
     "data": {
      "text/plain": [
       "[9, 36, 25, 25, 81, 0, 81, 1]"
      ]
     },
     "execution_count": 67,
     "metadata": {},
     "output_type": "execute_result"
    }
   ],
   "source": [
    "new = list(map(doubled,l1))\n",
    "new"
   ]
  },
  {
   "cell_type": "code",
   "execution_count": 69,
   "id": "31ff108b",
   "metadata": {},
   "outputs": [
    {
     "ename": "TypeError",
     "evalue": "can't multiply sequence by non-int of type 'str'",
     "output_type": "error",
     "traceback": [
      "\u001b[1;31m---------------------------------------------------------------------------\u001b[0m",
      "\u001b[1;31mTypeError\u001b[0m                                 Traceback (most recent call last)",
      "Cell \u001b[1;32mIn[69], line 3\u001b[0m\n\u001b[0;32m      1\u001b[0m l2 \u001b[38;5;241m=\u001b[39m [\u001b[38;5;241m23\u001b[39m,\u001b[38;5;241m90\u001b[39m,\u001b[38;5;241m0\u001b[39m,\u001b[38;5;241m-\u001b[39m\u001b[38;5;241m6\u001b[39m,\u001b[38;5;241m56\u001b[39m,\u001b[38;5;241m9\u001b[39m,\u001b[38;5;241m33\u001b[39m,\u001b[38;5;124m\"\u001b[39m\u001b[38;5;124mabc\u001b[39m\u001b[38;5;124m\"\u001b[39m]\n\u001b[1;32m----> 3\u001b[0m new1 \u001b[38;5;241m=\u001b[39m \u001b[38;5;28;43mlist\u001b[39;49m\u001b[43m(\u001b[49m\u001b[38;5;28;43mmap\u001b[39;49m\u001b[43m(\u001b[49m\u001b[43mdoubled\u001b[49m\u001b[43m,\u001b[49m\u001b[43ml2\u001b[49m\u001b[43m)\u001b[49m\u001b[43m)\u001b[49m\n\u001b[0;32m      4\u001b[0m new1\n",
      "Cell \u001b[1;32mIn[62], line 4\u001b[0m, in \u001b[0;36mdoubled\u001b[1;34m(x)\u001b[0m\n\u001b[0;32m      3\u001b[0m \u001b[38;5;28;01mdef\u001b[39;00m \u001b[38;5;21mdoubled\u001b[39m(x):\n\u001b[1;32m----> 4\u001b[0m     \u001b[38;5;28;01mreturn\u001b[39;00m \u001b[43mx\u001b[49m\u001b[38;5;241;43m*\u001b[39;49m\u001b[43mx\u001b[49m\n",
      "\u001b[1;31mTypeError\u001b[0m: can't multiply sequence by non-int of type 'str'"
     ]
    }
   ],
   "source": [
    "l2 = [23,90,0,-6,56,9,33,\"abc\"]\n",
    "\n",
    "new1 = list(map(doubled,l2))\n",
    "new1"
   ]
  },
  {
   "cell_type": "code",
   "execution_count": 70,
   "id": "7ccd591c",
   "metadata": {},
   "outputs": [
    {
     "data": {
      "text/plain": [
       "158"
      ]
     },
     "execution_count": 70,
     "metadata": {},
     "output_type": "execute_result"
    }
   ],
   "source": [
    "c = lambda x: x*2\n",
    "c(79)"
   ]
  },
  {
   "cell_type": "code",
   "execution_count": 72,
   "id": "76d13d3e",
   "metadata": {},
   "outputs": [
    {
     "data": {
      "text/plain": [
       "[6, 12, 10, 10, 18, 0, 18, 2]"
      ]
     },
     "execution_count": 72,
     "metadata": {},
     "output_type": "execute_result"
    }
   ],
   "source": [
    "new = list(map(lambda x: x*2,l1))\n",
    "new"
   ]
  },
  {
   "cell_type": "code",
   "execution_count": 73,
   "id": "b62230ae",
   "metadata": {},
   "outputs": [
    {
     "data": {
      "text/plain": [
       "[46, 180, 0, -12, 112, 18, 66, 'abcabc']"
      ]
     },
     "execution_count": 73,
     "metadata": {},
     "output_type": "execute_result"
    }
   ],
   "source": [
    "n1 = list(map(c,l2))\n",
    "n1"
   ]
  },
  {
   "cell_type": "code",
   "execution_count": 8,
   "id": "f7d9fee8",
   "metadata": {
    "collapsed": true
   },
   "outputs": [
    {
     "name": "stdout",
     "output_type": "stream",
     "text": [
      "[9, 36, 25, 25, 81, 0, 81, 1]\n"
     ]
    }
   ],
   "source": [
    "new_lambda = list(map(lambda x: x*x,l1))\n",
    "print(new_lambda)"
   ]
  },
  {
   "cell_type": "markdown",
   "id": "a4c4e3ea",
   "metadata": {},
   "source": [
    "### Filter:\n",
    "filter() is another built-in function in Python that is often used in combination with lambda functions. It allows you to filter elements from an iterable (such as a list, tuple, or string) based on a given condition, and returns a new iterable containing only the elements that satisfy the condition."
   ]
  },
  {
   "cell_type": "code",
   "execution_count": 80,
   "id": "e4f6727e",
   "metadata": {},
   "outputs": [
    {
     "name": "stdout",
     "output_type": "stream",
     "text": [
      "[90, 80]\n"
     ]
    }
   ],
   "source": [
    "# filtering the values\n",
    "list2 = [56,89,90,45,7,45,80]\n",
    "l4 = []\n",
    "\n",
    "for i in list2:\n",
    "    if i%5==0 and i%10==0:\n",
    "        l4.append(i)\n",
    "print(l4)"
   ]
  },
  {
   "cell_type": "code",
   "execution_count": 79,
   "id": "36f92c8c",
   "metadata": {},
   "outputs": [
    {
     "data": {
      "text/plain": [
       "[90, 80]"
      ]
     },
     "execution_count": 79,
     "metadata": {},
     "output_type": "execute_result"
    }
   ],
   "source": [
    "l5 = [i for i in list2 if i%5==0 and i%10==0]\n",
    "l5"
   ]
  },
  {
   "cell_type": "code",
   "execution_count": 84,
   "id": "d4ae54eb",
   "metadata": {},
   "outputs": [
    {
     "data": {
      "text/plain": [
       "[90, 45, 45, 80]"
      ]
     },
     "execution_count": 84,
     "metadata": {},
     "output_type": "execute_result"
    }
   ],
   "source": [
    "new_list = list(filter(lambda i : i%3==0 or i%10==0,list2))\n",
    "new_list\n"
   ]
  },
  {
   "cell_type": "code",
   "execution_count": 87,
   "id": "c09fc4e2",
   "metadata": {},
   "outputs": [],
   "source": [
    "def ev_no(l):\n",
    "    l1 = []\n",
    "    for i in l:\n",
    "        if i>0:\n",
    "            if i%2==0:\n",
    "                l1.append(i)\n",
    "    print(l1)"
   ]
  },
  {
   "cell_type": "code",
   "execution_count": 88,
   "id": "032b1809",
   "metadata": {},
   "outputs": [
    {
     "name": "stdout",
     "output_type": "stream",
     "text": [
      "[56, 6]\n"
     ]
    }
   ],
   "source": [
    "ev_no(numbers)"
   ]
  },
  {
   "cell_type": "code",
   "execution_count": 96,
   "id": "00fbe96c",
   "metadata": {},
   "outputs": [],
   "source": [
    "no=numbers"
   ]
  },
  {
   "cell_type": "code",
   "execution_count": 98,
   "id": "847bb78b",
   "metadata": {},
   "outputs": [
    {
     "name": "stdout",
     "output_type": "stream",
     "text": [
      "<filter object at 0x000001D49D947010>\n"
     ]
    }
   ],
   "source": [
    "new = filter(ev_no,no)\n",
    "print(new)"
   ]
  },
  {
   "cell_type": "code",
   "execution_count": 99,
   "id": "c34d7990",
   "metadata": {},
   "outputs": [
    {
     "name": "stdout",
     "output_type": "stream",
     "text": [
      "[56, 0, 6]\n"
     ]
    }
   ],
   "source": [
    "numbers = [56,89,67,0,6,77,91,67,5,23]\n",
    "even_no = filter(lambda x: x % 2 == 0, numbers)\n",
    "\n",
    "print(list(even_no))"
   ]
  },
  {
   "cell_type": "markdown",
   "id": "f70cf72d",
   "metadata": {},
   "source": [
    "reduce:\n",
    "reduce() is a function from the functools package in Python that can be used in combination with lambda functions to repeatedly apply a given function to the elements of an iterable (such as a list, tuple, or string) in a cumulative way, reducing the iterable to a single value."
   ]
  },
  {
   "cell_type": "code",
   "execution_count": 100,
   "id": "8c58ca3e",
   "metadata": {},
   "outputs": [],
   "source": [
    "from functools import reduce"
   ]
  },
  {
   "cell_type": "code",
   "execution_count": 106,
   "id": "91ac5c14",
   "metadata": {},
   "outputs": [
    {
     "data": {
      "text/plain": [
       "0.0002976190476190476"
      ]
     },
     "execution_count": 106,
     "metadata": {},
     "output_type": "execute_result"
    }
   ],
   "source": [
    "l2 = [3,7,9,4,5,8]\n",
    "\n",
    "cum_sum = reduce(lambda x,y:x/y,l2)\n",
    "cum_sum"
   ]
  },
  {
   "cell_type": "code",
   "execution_count": null,
   "id": "56698b18",
   "metadata": {},
   "outputs": [],
   "source": []
  }
 ],
 "metadata": {
  "kernelspec": {
   "display_name": "Python 3 (ipykernel)",
   "language": "python",
   "name": "python3"
  },
  "language_info": {
   "codemirror_mode": {
    "name": "ipython",
    "version": 3
   },
   "file_extension": ".py",
   "mimetype": "text/x-python",
   "name": "python",
   "nbconvert_exporter": "python",
   "pygments_lexer": "ipython3",
   "version": "3.11.3"
  }
 },
 "nbformat": 4,
 "nbformat_minor": 5
}
