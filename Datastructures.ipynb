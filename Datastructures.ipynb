{
 "cells": [
  {
   "cell_type": "markdown",
   "id": "3f37eb6e",
   "metadata": {},
   "source": [
    "### Datastructures\n",
    "Datastructures are the building blocks or raw materials for any programming language."
   ]
  },
  {
   "cell_type": "markdown",
   "id": "9ae9fdd1",
   "metadata": {},
   "source": [
    "#### Numbers"
   ]
  },
  {
   "cell_type": "code",
   "execution_count": null,
   "id": "97f43181",
   "metadata": {},
   "outputs": [],
   "source": [
    "# We are studying now about nos.\n",
    "# Datastructures are very important for any programming language\n",
    "# Python has many datastructures\n",
    "\n",
    "print(int(-13.8))\n",
    "print(float(5))\n",
    "a=-354609989897.8097867698678\n",
    "print(type(a))\n",
    "print(int(-222222.8))\n",
    "\n",
    "b=int(a)\n",
    "print(b)\n",
    "\n",
    "d= 4+5j\n",
    "print(type(d)) #This is a complex datatype\n",
    "\n",
    "\n",
    "c=chr(127) #ASCII\n",
    "print(c)"
   ]
  },
  {
   "cell_type": "code",
   "execution_count": null,
   "id": "0a8650bd",
   "metadata": {},
   "outputs": [],
   "source": [
    "import math"
   ]
  },
  {
   "cell_type": "code",
   "execution_count": null,
   "id": "44899de6",
   "metadata": {},
   "outputs": [],
   "source": [
    "?math"
   ]
  },
  {
   "cell_type": "code",
   "execution_count": null,
   "id": "d9d70e67",
   "metadata": {},
   "outputs": [],
   "source": [
    "print(math.sqrt(144))\n",
    "print(math.floor(10.7/3))\n",
    "print(math.pow(16,3))\n",
    "print(math.factorial(6))\n",
    "print(round(math.pi,2))\n",
    "print(math.pi)"
   ]
  },
  {
   "cell_type": "code",
   "execution_count": null,
   "id": "0b5cc59b",
   "metadata": {},
   "outputs": [],
   "source": [
    "import random as rn\n",
    "rn.seed(6)\n",
    "print(rn.random())\n",
    "print(rn.randint(1,50))\n",
    "print(rn.uniform(50,100))\n",
    "\n",
    "x=[1,2,3,4,5,6]\n",
    "print(rn.choice(x))"
   ]
  },
  {
   "cell_type": "code",
   "execution_count": null,
   "id": "48bce687",
   "metadata": {},
   "outputs": [],
   "source": []
  },
  {
   "cell_type": "code",
   "execution_count": null,
   "id": "17f91ff5",
   "metadata": {},
   "outputs": [],
   "source": []
  },
  {
   "cell_type": "code",
   "execution_count": null,
   "id": "57d50435",
   "metadata": {},
   "outputs": [],
   "source": []
  },
  {
   "cell_type": "code",
   "execution_count": null,
   "id": "1810c127",
   "metadata": {},
   "outputs": [],
   "source": []
  },
  {
   "cell_type": "markdown",
   "id": "70319efe",
   "metadata": {},
   "source": [
    "#### Strings\n",
    "Text is a string data type. Any data type written as text is a string. Any data under single, double or triple quote are strings. There are different string methods and built-in functions to deal with string data types."
   ]
  },
  {
   "cell_type": "code",
   "execution_count": null,
   "id": "ca6fcd58",
   "metadata": {},
   "outputs": [],
   "source": [
    "letter = 'Pic  '   \n",
    "# A string could be a single character or a bunch of texts\n",
    "print(letter)\n",
    "print(len(letter))\n",
    "\n",
    "greeting = 'Hello,\\'World!\\''\n",
    "# String could be made using a single or double quote,\"Hello, World!\"\n",
    "print(greeting)             \n",
    "print(len(greeting))     \n",
    "\n",
    "sentence = \"\"\"I hope its understandable?\"\"\"\n",
    "print(sentence)\n",
    "print(len(sentence))\n",
    "\n",
    "sent = '''We are studying Python Programming'''\n",
    "print(sent)"
   ]
  },
  {
   "cell_type": "markdown",
   "id": "d5268370",
   "metadata": {},
   "source": [
    "##### String Concatenation\n",
    "We can connect strings together. Merging or connecting strings is called concatenation\n",
    "\n"
   ]
  },
  {
   "cell_type": "code",
   "execution_count": null,
   "id": "9810f397",
   "metadata": {},
   "outputs": [],
   "source": [
    "first_name = 'Priya'\n",
    "last_name = 'Saroj'\n",
    "\n",
    "full_name = first_name +\" \" + last_name\n",
    "print(full_name) \n",
    "# Checking the length of a string using len() built-in function\n",
    "print(len(first_name))  \n",
    "print(len(last_name))   \n",
    "print(len(first_name) > len(last_name)) # False\n",
    "print(len(full_name)) \n",
    "print(full_name + 15)"
   ]
  },
  {
   "cell_type": "markdown",
   "id": "e7324fbb",
   "metadata": {},
   "source": [
    "##### String Replication\n",
    "The Replication operater is used to repeat a string no. of times. The string will be repeated the number of times which is given by an integer value"
   ]
  },
  {
   "cell_type": "code",
   "execution_count": null,
   "id": "3823f4a7",
   "metadata": {},
   "outputs": [],
   "source": [
    "print(\"Python\\t\"*3)"
   ]
  },
  {
   "cell_type": "code",
   "execution_count": null,
   "id": "173376f2",
   "metadata": {},
   "outputs": [],
   "source": [
    "print(\"New linecode\\n\"*10)"
   ]
  },
  {
   "cell_type": "markdown",
   "id": "7596e93a",
   "metadata": {},
   "source": [
    "##### String formatting"
   ]
  },
  {
   "cell_type": "code",
   "execution_count": null,
   "id": "578b70f9",
   "metadata": {},
   "outputs": [],
   "source": [
    "first_name = 'Shravani'\n",
    "last_name = 'Mehta'\n",
    "language = 'SQL'\n",
    "age = 24\n",
    "\n",
    "print(\"My name is\",first_name,last_name,\". I teach \",language,\". My age is \",age,\".\")\n",
    "\n",
    "new = f'My name is {first_name} {last_name}.\\nI teach {language}.\\nMy age is {age}.'\n",
    "print(new)\n",
    "\n",
    "new_str = \"My name is {} {}.I teach {}.My age is {}.\".format(last_name,first_name,language,age)\n",
    "print(new_str)"
   ]
  },
  {
   "cell_type": "code",
   "execution_count": null,
   "id": "50123156",
   "metadata": {},
   "outputs": [],
   "source": [
    "a = 5\n",
    "b = 9\n",
    "print('{} + {} = {}'.format(a, b, a + b))\n",
    "print('{} - {} = {}'.format(a, b, a - b))\n",
    "print('{} * {} = {}'.format(a, b, a * b))\n",
    "print('{} / {} = {:.2f}'.format(a, b, a / b)) \n",
    "# limits it to two digits after decimal\n",
    "\n",
    "print('{} % {} = {}'.format(a, b, a % b))\n",
    "print('{} // {} = {}'.format(a, b, a // b))\n",
    "print('{} ** {} = {}'.format(a, b, a ** b))"
   ]
  },
  {
   "cell_type": "markdown",
   "id": "54b5302a",
   "metadata": {},
   "source": [
    "##### Python Strings as Sequences of Characters\n",
    "Python strings are sequences of characters, and share their basic methods of access with other Python ordered sequences of objects – lists and tuples. The simplest way of extracting single characters from strings (and individual members from any sequence) is to unpack them into corresponding variables."
   ]
  },
  {
   "cell_type": "code",
   "execution_count": null,
   "id": "417460eb",
   "metadata": {},
   "outputs": [],
   "source": [
    "language = 'Python'\n",
    "first_letter = language[0]\n",
    "print(first_letter) # P\n",
    "second_letter = language[1]\n",
    "print(second_letter) # y"
   ]
  },
  {
   "cell_type": "markdown",
   "id": "f8b2790a",
   "metadata": {},
   "source": [
    "If we want to start from right end we can use negative indexing. -1 at the last index."
   ]
  },
  {
   "cell_type": "code",
   "execution_count": null,
   "id": "4180459e",
   "metadata": {},
   "outputs": [],
   "source": [
    "language = 'Python'\n",
    "last_letter = language[-1]\n",
    "print(last_letter) \n",
    "second_last = language[-2]\n",
    "print(second_last) "
   ]
  },
  {
   "cell_type": "markdown",
   "id": "1c4345ad",
   "metadata": {},
   "source": [
    "**Slicing Python Strings**  \n",
    "In python we can slice strings into substrings."
   ]
  },
  {
   "cell_type": "code",
   "execution_count": null,
   "id": "be2eda58",
   "metadata": {},
   "outputs": [],
   "source": [
    "s = \"Programming Language\"\n",
    "print(s[4:6])\n",
    "print(s[:9])\n",
    "#print(s[-5:-9])\n",
    "print(s[-14:-5])\n",
    "print(s[:6])\n",
    "print(s[::2]) # step\n",
    "print(s[:5])\n",
    "print(s[:])"
   ]
  },
  {
   "cell_type": "markdown",
   "id": "e8d82d45",
   "metadata": {},
   "source": [
    "#### Reversing a String\n",
    "We can easily reverse strings in python."
   ]
  },
  {
   "cell_type": "code",
   "execution_count": null,
   "id": "4bf55c0f",
   "metadata": {},
   "outputs": [],
   "source": [
    "st = \"This is the Lecture upon Datastructures\"\n",
    "print(st.reverse())"
   ]
  },
  {
   "cell_type": "code",
   "execution_count": null,
   "id": "eaabbf1c",
   "metadata": {},
   "outputs": [],
   "source": [
    "language = 'Python is a programming language'\n",
    "new = language[::-1]\n",
    "print(new)"
   ]
  },
  {
   "cell_type": "code",
   "execution_count": null,
   "id": "59f2384c",
   "metadata": {},
   "outputs": [],
   "source": [
    "stm = \"Where are you from??\"\n",
    "print(stm[::-1])\n",
    "\n",
    "new = stm[2:11]\n",
    "print(new)\n",
    "\n",
    "print(new[::-1])"
   ]
  },
  {
   "cell_type": "markdown",
   "id": "1c2466f4",
   "metadata": {},
   "source": [
    "#### String Methods\n",
    "There are many string methods which allow us to format strings.\n",
    "\n",
    "capitalize(): Converts the first character of the string to capital letter"
   ]
  },
  {
   "cell_type": "code",
   "execution_count": null,
   "id": "519e45ac",
   "metadata": {},
   "outputs": [],
   "source": [
    "capital = \"beginning of python\"\n",
    "print(capital.capitalize())"
   ]
  },
  {
   "cell_type": "code",
   "execution_count": null,
   "id": "cf3c5859",
   "metadata": {},
   "outputs": [],
   "source": [
    "c=capital.title()\n",
    "print(c)"
   ]
  },
  {
   "cell_type": "code",
   "execution_count": null,
   "id": "c12d3106",
   "metadata": {},
   "outputs": [],
   "source": [
    "c.swapcase()"
   ]
  },
  {
   "cell_type": "code",
   "execution_count": null,
   "id": "f9321e10",
   "metadata": {},
   "outputs": [],
   "source": []
  },
  {
   "cell_type": "markdown",
   "id": "68b336d2",
   "metadata": {},
   "source": [
    "count(): returns occurrences of substring in string, count(substring, start=.., end=..). The start is a starting indexing for counting and end is the last index to count."
   ]
  },
  {
   "cell_type": "code",
   "execution_count": null,
   "id": "67ccf5de",
   "metadata": {},
   "outputs": [],
   "source": [
    "capital = \"beginning of python\"\n",
    "print(capital.count('g',2,8))\n",
    "print(capital.count('n'))"
   ]
  },
  {
   "cell_type": "markdown",
   "id": "5ce7c706",
   "metadata": {},
   "source": [
    "isalnum(): Checks alphanumeric character"
   ]
  },
  {
   "cell_type": "code",
   "execution_count": null,
   "id": "bfe14358",
   "metadata": {},
   "outputs": [],
   "source": [
    "capital = \"beginning of python\"\n",
    "print(capital.isalnum())\n",
    "\n",
    "new = 'jsvxubuKbns145dsxHH'\n",
    "print(new.isalnum())"
   ]
  },
  {
   "cell_type": "markdown",
   "id": "93a7a7c9",
   "metadata": {},
   "source": [
    "isalpha(): Checks if all string elements are alphabet characters (a-z and A-Z)"
   ]
  },
  {
   "cell_type": "code",
   "execution_count": null,
   "id": "449b7dd6",
   "metadata": {},
   "outputs": [],
   "source": [
    "capital = \"beginning of python\"\n",
    "print(capital.isalpha())\n",
    "\n",
    "new = 'dwdJJHOOSK'\n",
    "print(new.isalpha())"
   ]
  },
  {
   "cell_type": "markdown",
   "id": "525c486f",
   "metadata": {},
   "source": [
    "islower(): Checks if all alphabet characters in the string are lowercase"
   ]
  },
  {
   "cell_type": "code",
   "execution_count": null,
   "id": "e1121de1",
   "metadata": {},
   "outputs": [],
   "source": [
    "capital = \"beginning@ of python1\"\n",
    "print(capital.islower())"
   ]
  },
  {
   "cell_type": "markdown",
   "id": "8491497e",
   "metadata": {},
   "source": [
    "isupper(): Checks if all alphabet characters in the string are uppercase\n",
    "\n"
   ]
  },
  {
   "cell_type": "code",
   "execution_count": null,
   "id": "23222af8",
   "metadata": {},
   "outputs": [],
   "source": [
    "capital = \"Beginning of python\"\n",
    "print(capital.isupper())"
   ]
  },
  {
   "cell_type": "markdown",
   "id": "348abe32",
   "metadata": {},
   "source": [
    "replace(): Replaces substring with a given string"
   ]
  },
  {
   "cell_type": "code",
   "execution_count": null,
   "id": "b17cb4ae",
   "metadata": {},
   "outputs": [],
   "source": [
    "capital = \"beginning of python\""
   ]
  },
  {
   "cell_type": "code",
   "execution_count": null,
   "id": "00c1c9e9",
   "metadata": {},
   "outputs": [],
   "source": [
    "print(capital.replace(\"python\",\"coding\"))"
   ]
  },
  {
   "cell_type": "code",
   "execution_count": null,
   "id": "84e39160",
   "metadata": {},
   "outputs": [],
   "source": [
    "capital1 = capital.replace(\"python\",\"coding\")\n",
    "capital1"
   ]
  },
  {
   "cell_type": "code",
   "execution_count": null,
   "id": "37af942d",
   "metadata": {},
   "outputs": [],
   "source": [
    "st = \"I hope its understanding\"\n",
    "\n",
    "print(st.replace(\"its understanding\",\"you all are not sleeping\"))"
   ]
  },
  {
   "cell_type": "markdown",
   "id": "a0552d93",
   "metadata": {},
   "source": [
    "len() = The len() function returns the length of the string"
   ]
  },
  {
   "cell_type": "code",
   "execution_count": null,
   "id": "0f17bc70",
   "metadata": {},
   "outputs": [],
   "source": [
    "s = 'Python 1235Program'\n",
    "print(len(s))"
   ]
  },
  {
   "cell_type": "markdown",
   "id": "75b80149",
   "metadata": {},
   "source": [
    "lower() = The method lower() returns a copy of the string in which all case-based characters has been lowercased."
   ]
  },
  {
   "cell_type": "code",
   "execution_count": null,
   "id": "6169a8ea",
   "metadata": {},
   "outputs": [],
   "source": [
    "l = 'DHGDGCsjkvbl4'\n",
    "print(l.lower())"
   ]
  },
  {
   "cell_type": "markdown",
   "id": "458c78d0",
   "metadata": {},
   "source": [
    "upper() = The method upper() returns a copy of the string in which all case-based characters has been uppercased."
   ]
  },
  {
   "cell_type": "code",
   "execution_count": null,
   "id": "3d80052f",
   "metadata": {},
   "outputs": [],
   "source": [
    "l = 'DHGDGCsjkvbl4'\n",
    "print(l.upper())"
   ]
  },
  {
   "cell_type": "markdown",
   "id": "5b347a06",
   "metadata": {},
   "source": [
    "find() : The find() method finds the first occurrence of the specified value.\n",
    "\n",
    "The find() method returns -1 if the value is not found.\n",
    "\n",
    "The find() method is almost the same as the index() method, the only difference is that the index() method raises an exception if the value is not found."
   ]
  },
  {
   "cell_type": "code",
   "execution_count": null,
   "id": "9cc73d6d",
   "metadata": {},
   "outputs": [],
   "source": [
    "capital"
   ]
  },
  {
   "cell_type": "code",
   "execution_count": null,
   "id": "bd1e2b48",
   "metadata": {},
   "outputs": [],
   "source": [
    "capital.find('on')"
   ]
  },
  {
   "cell_type": "code",
   "execution_count": null,
   "id": "e4729f03",
   "metadata": {},
   "outputs": [],
   "source": [
    "capital.find(\"x\")"
   ]
  },
  {
   "cell_type": "markdown",
   "id": "ada3d149",
   "metadata": {},
   "source": [
    "index() : The index() method finds the first occurrence of the specified value.\n",
    "\n",
    "The index() method raises an exception if the value is not found.\n",
    "\n",
    "The index() method is almost the same as the find() method, the only difference is that the find() method returns -1 if the value is not found."
   ]
  },
  {
   "cell_type": "code",
   "execution_count": null,
   "id": "9c3308c2",
   "metadata": {},
   "outputs": [],
   "source": [
    "capital.index('3')"
   ]
  },
  {
   "cell_type": "code",
   "execution_count": null,
   "id": "a1f97bd3",
   "metadata": {},
   "outputs": [],
   "source": [
    "capital.index(\"b\")"
   ]
  },
  {
   "cell_type": "code",
   "execution_count": null,
   "id": "c369b214",
   "metadata": {},
   "outputs": [],
   "source": []
  },
  {
   "cell_type": "markdown",
   "id": "c8447203",
   "metadata": {},
   "source": [
    "The split() method splits a string into a list.\n",
    "\n",
    "You can specify the separator, default separator is any whitespace.\n",
    "\n",
    "Find all of the words in a string that are less than 8 letters  \n",
    "parah = 'Python is a programming language.Python is interesting.\""
   ]
  },
  {
   "cell_type": "code",
   "execution_count": null,
   "id": "e083b035",
   "metadata": {},
   "outputs": [],
   "source": [
    "parah = 'Python is a programming language. Python is interesting.'\n",
    "new = parah.split('?')\n",
    "print(new)\n",
    "\n",
    "for i in new:\n",
    "    if len(i)>8:\n",
    "        print(i)"
   ]
  },
  {
   "cell_type": "code",
   "execution_count": null,
   "id": "d1bd92f5",
   "metadata": {},
   "outputs": [],
   "source": [
    "parah = 'Python is a programming language.Python is interesting.'\n",
    "\n",
    "for i in parah.split():\n",
    "    if len(i)<8:\n",
    "        print(i)\n",
    "    "
   ]
  },
  {
   "cell_type": "markdown",
   "id": "7fa2d75a",
   "metadata": {},
   "source": [
    "Count all letters, digits, and special symbols from a given string  \n",
    "data = \"I77oma^26r$t^&i!c5u@s\""
   ]
  },
  {
   "cell_type": "code",
   "execution_count": null,
   "id": "5dd5b4c8",
   "metadata": {},
   "outputs": [],
   "source": [
    "data = \"I77oma^26r$t^ &i!c5u@s\"\n",
    "letters=0\n",
    "digits=0\n",
    "special_symbols=0\n",
    "\n",
    "for x in data:\n",
    "    if x.isalpha():\n",
    "        letters+=1\n",
    "    elif x.isdigit():\n",
    "        digits+=1\n",
    "    else:\n",
    "        special_symbols+=1\n",
    "        \n",
    "print(f'There are {letters} letters in the string')\n",
    "print(f'There are {digits} digits in the string')\n",
    "print(f'There are {special_symbols} special_symbols in the string')"
   ]
  },
  {
   "cell_type": "code",
   "execution_count": null,
   "id": "2a8f7e57",
   "metadata": {},
   "outputs": [],
   "source": []
  },
  {
   "cell_type": "code",
   "execution_count": null,
   "id": "cfab19d9",
   "metadata": {},
   "outputs": [],
   "source": []
  },
  {
   "cell_type": "markdown",
   "id": "bb9297d5",
   "metadata": {},
   "source": [
    "#### List\n",
    "A list is collection of different data types which is ordered and modifiable(mutable). A list can be empty or it may have different data type items."
   ]
  },
  {
   "cell_type": "code",
   "execution_count": 2,
   "id": "5c873184",
   "metadata": {},
   "outputs": [
    {
     "name": "stdout",
     "output_type": "stream",
     "text": [
      "<class 'list'>\n"
     ]
    }
   ],
   "source": [
    "# A list can be created by putting the values inside the square \n",
    "#bracket and separated by comma.\n",
    "list1 = []\n",
    "print(type(list1))"
   ]
  },
  {
   "cell_type": "code",
   "execution_count": 3,
   "id": "241ab5f6",
   "metadata": {},
   "outputs": [
    {
     "name": "stdout",
     "output_type": "stream",
     "text": [
      "[2, 3, 4, 5, 65, 7]\n"
     ]
    }
   ],
   "source": [
    "l1=[2,3,4,5,65,7]\n",
    "print(l1)"
   ]
  },
  {
   "cell_type": "code",
   "execution_count": 5,
   "id": "a730208e",
   "metadata": {},
   "outputs": [
    {
     "name": "stdout",
     "output_type": "stream",
     "text": [
      "[32, 56, 0.8888, -2, 'cat', 'am', False, (2, 4), [34, 45]]\n",
      "<class 'list'>\n"
     ]
    }
   ],
   "source": [
    "# list supports mixed datatypes.\n",
    "l2 = [32,56,0.8888,-2,\"cat\",\"am\",False,(2,4),[34,45]]\n",
    "print(l2)\n",
    "print(type(l2))"
   ]
  },
  {
   "cell_type": "code",
   "execution_count": 6,
   "id": "ec9e262f",
   "metadata": {},
   "outputs": [
    {
     "name": "stdout",
     "output_type": "stream",
     "text": [
      "['dfhirbh', '6767676', 0, 56, [34, 89, 67, 56, 56, [34, 78]]]\n"
     ]
    },
    {
     "data": {
      "text/plain": [
       "list"
      ]
     },
     "execution_count": 6,
     "metadata": {},
     "output_type": "execute_result"
    }
   ],
   "source": [
    "# lists preserve the order/ the values inside \n",
    "#list are arranged in ordered manner.\n",
    "l3 = [\"dfhirbh\",\"6767676\",0,56,[34,89,67,56,56,[34,78]]]\n",
    "print(l3)\n",
    "type(l3)\n"
   ]
  },
  {
   "cell_type": "markdown",
   "id": "ef7616f6",
   "metadata": {},
   "source": [
    "### Accessing list Items"
   ]
  },
  {
   "cell_type": "code",
   "execution_count": 20,
   "id": "76779123",
   "metadata": {},
   "outputs": [
    {
     "name": "stdout",
     "output_type": "stream",
     "text": [
      "6767676\n",
      "[0, 56, [34, 89, 67, 56, 56, [34, 78]]]\n",
      "[]\n",
      "767\n",
      "34\n"
     ]
    }
   ],
   "source": [
    "l3 = [\"dfhirbh\",\"6767676\",0,56,[34,89,67,56,56,[34,78]]]\n",
    "print(l3[1])\n",
    "print(l3[2:5])\n",
    "print(l3[-3:-4])\n",
    "print(l3[1][-4:-1])\n",
    "print(l3[4][5][-2])"
   ]
  },
  {
   "cell_type": "code",
   "execution_count": 34,
   "id": "2b2c0d09",
   "metadata": {},
   "outputs": [
    {
     "name": "stdout",
     "output_type": "stream",
     "text": [
      "78\n",
      "strin\n",
      "<class 'str'>\n",
      "m\n"
     ]
    }
   ],
   "source": [
    "l3 = ['name',56,78,89,56,'string']\n",
    "print(l3[2])\n",
    "print(l3[-1][0:-1])\n",
    "#len(l3[2])\n",
    "\n",
    "print(type(l3[-1]))\n",
    "print(l3[0][-2])\n"
   ]
  },
  {
   "cell_type": "code",
   "execution_count": 46,
   "id": "e2a8151c",
   "metadata": {},
   "outputs": [
    {
     "name": "stdout",
     "output_type": "stream",
     "text": [
      "(8,)\n",
      "\n"
     ]
    }
   ],
   "source": [
    "l5 = [[6,5],7,8,(4,7,8),'string']\n",
    "print(l5[-2][2:5])\n",
    "print(l5[-1][-2:-5])\n",
    "\n"
   ]
  },
  {
   "cell_type": "code",
   "execution_count": 47,
   "id": "83db35b8",
   "metadata": {
    "collapsed": true
   },
   "outputs": [
    {
     "ename": "TypeError",
     "evalue": "'bool' object is not subscriptable",
     "output_type": "error",
     "traceback": [
      "\u001b[1;31m---------------------------------------------------------------------------\u001b[0m",
      "\u001b[1;31mTypeError\u001b[0m                                 Traceback (most recent call last)",
      "Cell \u001b[1;32mIn[47], line 2\u001b[0m\n\u001b[0;32m      1\u001b[0m l6 \u001b[38;5;241m=\u001b[39m [[\u001b[38;5;241m4\u001b[39m,\u001b[38;5;241m6\u001b[39m,\u001b[38;5;241m8\u001b[39m,[\u001b[38;5;241m5\u001b[39m,\u001b[38;5;241m8\u001b[39m,\u001b[38;5;241m0\u001b[39m,\u001b[38;5;241m6\u001b[39m,[\u001b[38;5;241m789\u001b[39m,\u001b[38;5;241m78\u001b[39m,\u001b[38;5;241m5\u001b[39m]]],\u001b[38;5;124m\"\u001b[39m\u001b[38;5;124mnamsdne\u001b[39m\u001b[38;5;124m\"\u001b[39m,\u001b[38;5;241m67\u001b[39m,\u001b[38;5;241m90.787\u001b[39m,\u001b[38;5;241m68\u001b[39m,\u001b[38;5;28;01mTrue\u001b[39;00m,\u001b[38;5;124m\"\u001b[39m\u001b[38;5;124mprint\u001b[39m\u001b[38;5;124m\"\u001b[39m]\n\u001b[1;32m----> 2\u001b[0m \u001b[38;5;28mprint\u001b[39m(\u001b[43ml6\u001b[49m\u001b[43m[\u001b[49m\u001b[38;5;241;43m-\u001b[39;49m\u001b[38;5;241;43m2\u001b[39;49m\u001b[43m]\u001b[49m\u001b[43m[\u001b[49m\u001b[38;5;241;43m0\u001b[39;49m\u001b[43m:\u001b[49m\u001b[38;5;241;43m2\u001b[39;49m\u001b[43m]\u001b[49m)\n",
      "\u001b[1;31mTypeError\u001b[0m: 'bool' object is not subscriptable"
     ]
    }
   ],
   "source": [
    "l6 = [[4,6,8,[5,8,0,6,[789,78,5]]],\"namsdne\",67,90.787,68,True,\"print\"]\n",
    "print(l6[-2][0:2]) # boolean's do not support nested indexing or indexing\n"
   ]
  },
  {
   "cell_type": "code",
   "execution_count": null,
   "id": "06a32774",
   "metadata": {},
   "outputs": [],
   "source": []
  },
  {
   "cell_type": "markdown",
   "id": "0be7c94e",
   "metadata": {},
   "source": [
    "Adding Python lists ( Concating python lists - connecting lists together)"
   ]
  },
  {
   "cell_type": "code",
   "execution_count": 50,
   "id": "acbb2989",
   "metadata": {},
   "outputs": [
    {
     "name": "stdout",
     "output_type": "stream",
     "text": [
      "[45, 89, 45, 0, [676, 90, 'ghyhggfgh'], 45, 8.0, 89, 89]\n"
     ]
    }
   ],
   "source": [
    "l1 = [45,89,45,0,[676,90,\"ghyhggfgh\"]]\n",
    "l2 = [45,8.0,89,89]\n",
    "\n",
    "l3 = l1+l2\n",
    "print(l3)"
   ]
  },
  {
   "cell_type": "code",
   "execution_count": 51,
   "id": "da5a5e4b",
   "metadata": {},
   "outputs": [
    {
     "data": {
      "text/plain": [
       "[45, 89, 45, 0, [676, 90, 'ghyhggfgh']]"
      ]
     },
     "execution_count": 51,
     "metadata": {},
     "output_type": "execute_result"
    }
   ],
   "source": [
    "l1"
   ]
  },
  {
   "cell_type": "code",
   "execution_count": 52,
   "id": "f8ca95c4",
   "metadata": {},
   "outputs": [],
   "source": [
    "value = \"x\""
   ]
  },
  {
   "cell_type": "code",
   "execution_count": 53,
   "id": "f67b09bb",
   "metadata": {},
   "outputs": [],
   "source": [
    "value = [\"x\"]"
   ]
  },
  {
   "cell_type": "code",
   "execution_count": 57,
   "id": "481032f7",
   "metadata": {},
   "outputs": [
    {
     "name": "stdout",
     "output_type": "stream",
     "text": [
      "['x']\n",
      "[45, 89, 45, 0, [676, 90, 'ghyhggfgh'], 'x']\n"
     ]
    }
   ],
   "source": [
    "value=list(\"x\")\n",
    "print(value)\n",
    "type(value)\n",
    "\n",
    "l1 = l1+value\n",
    "print(l1)"
   ]
  },
  {
   "cell_type": "markdown",
   "id": "46b06889",
   "metadata": {},
   "source": [
    "#### Updating list"
   ]
  },
  {
   "cell_type": "code",
   "execution_count": 61,
   "id": "3de19fbf",
   "metadata": {},
   "outputs": [],
   "source": [
    "list3 = [4, 7, 7, 90, 'abc', 'the', 'x'] \n",
    "# lists allow repetative values\n",
    "list3[1]=10    #item assignment\n",
    "list3[-1]=\"abc\"\n",
    "# this shows lists are mutable in nature."
   ]
  },
  {
   "cell_type": "code",
   "execution_count": 62,
   "id": "483d1245",
   "metadata": {},
   "outputs": [
    {
     "data": {
      "text/plain": [
       "[4, 10, 7, 90, 'abc', 'the', 'abc']"
      ]
     },
     "execution_count": 62,
     "metadata": {},
     "output_type": "execute_result"
    }
   ],
   "source": [
    "list3"
   ]
  },
  {
   "cell_type": "code",
   "execution_count": 65,
   "id": "04ae8393",
   "metadata": {},
   "outputs": [],
   "source": [
    "list3[3]=(34,45,23,34,67,9)\n",
    "\n",
    "# lists support item assignment"
   ]
  },
  {
   "cell_type": "code",
   "execution_count": 67,
   "id": "d579ded7",
   "metadata": {},
   "outputs": [
    {
     "data": {
      "text/plain": [
       "[4, 10, 7, (34, 45, 23, 34, 67, 9), 'abc', 'the', 'abc']"
      ]
     },
     "execution_count": 67,
     "metadata": {},
     "output_type": "execute_result"
    }
   ],
   "source": [
    "list3"
   ]
  },
  {
   "cell_type": "code",
   "execution_count": 66,
   "id": "99b4c6ab",
   "metadata": {},
   "outputs": [
    {
     "ename": "TypeError",
     "evalue": "'tuple' object does not support item assignment",
     "output_type": "error",
     "traceback": [
      "\u001b[1;31m---------------------------------------------------------------------------\u001b[0m",
      "\u001b[1;31mTypeError\u001b[0m                                 Traceback (most recent call last)",
      "Cell \u001b[1;32mIn[66], line 1\u001b[0m\n\u001b[1;32m----> 1\u001b[0m list3[\u001b[38;5;241m3\u001b[39m][\u001b[38;5;241m2\u001b[39m]\u001b[38;5;241m=\u001b[39m\u001b[38;5;124m\"\u001b[39m\u001b[38;5;124mam\u001b[39m\u001b[38;5;124m\"\u001b[39m\n\u001b[0;32m      2\u001b[0m \u001b[38;5;28mprint\u001b[39m(list3)\n",
      "\u001b[1;31mTypeError\u001b[0m: 'tuple' object does not support item assignment"
     ]
    }
   ],
   "source": [
    "list3[3][2]=\"am\"\n",
    "print(list3)"
   ]
  },
  {
   "cell_type": "markdown",
   "id": "ba189837",
   "metadata": {},
   "source": [
    "### Deleting Elements\n",
    "del statement can be used to delete an element from the list . It can also be used to delete all items from start index to endindex"
   ]
  },
  {
   "cell_type": "code",
   "execution_count": 68,
   "id": "17e0b923",
   "metadata": {},
   "outputs": [
    {
     "data": {
      "text/plain": [
       "[4, 10, 7, (34, 45, 23, 34, 67, 9), 'abc', 'the', 'abc']"
      ]
     },
     "execution_count": 68,
     "metadata": {},
     "output_type": "execute_result"
    }
   ],
   "source": [
    "list3"
   ]
  },
  {
   "cell_type": "code",
   "execution_count": 69,
   "id": "26a83610",
   "metadata": {},
   "outputs": [],
   "source": [
    "del(list3[2])"
   ]
  },
  {
   "cell_type": "code",
   "execution_count": 70,
   "id": "6103e8bd",
   "metadata": {},
   "outputs": [
    {
     "data": {
      "text/plain": [
       "[4, 10, (34, 45, 23, 34, 67, 9), 'abc', 'the', 'abc']"
      ]
     },
     "execution_count": 70,
     "metadata": {},
     "output_type": "execute_result"
    }
   ],
   "source": [
    "list3"
   ]
  },
  {
   "cell_type": "code",
   "execution_count": 74,
   "id": "a98c58b1",
   "metadata": {},
   "outputs": [],
   "source": [
    "del list3[3]"
   ]
  },
  {
   "cell_type": "code",
   "execution_count": null,
   "id": "55517ef8",
   "metadata": {},
   "outputs": [],
   "source": []
  },
  {
   "cell_type": "markdown",
   "id": "deb74406",
   "metadata": {},
   "source": [
    "#### List Methods\n",
    "append() method which is used to append i.e., add an element (single/one element) at the end of the existing elements"
   ]
  },
  {
   "cell_type": "code",
   "execution_count": 75,
   "id": "cf61c88f",
   "metadata": {},
   "outputs": [],
   "source": [
    "l1=[45,67,77,9,\"dgdj\",\"cat\",\"am\"]"
   ]
  },
  {
   "cell_type": "code",
   "execution_count": 77,
   "id": "ed88ecc6",
   "metadata": {},
   "outputs": [],
   "source": [
    "l1.append(2)"
   ]
  },
  {
   "cell_type": "code",
   "execution_count": 79,
   "id": "219273ce",
   "metadata": {},
   "outputs": [
    {
     "data": {
      "text/plain": [
       "[45, 67, 77, 9, 'dgdj', 'cat', 'am', 2, 'Jagruti']"
      ]
     },
     "execution_count": 79,
     "metadata": {},
     "output_type": "execute_result"
    }
   ],
   "source": [
    "l1.append(\"Jagruti\")\n",
    "l1"
   ]
  },
  {
   "cell_type": "code",
   "execution_count": 80,
   "id": "fa1caf69",
   "metadata": {},
   "outputs": [
    {
     "data": {
      "text/plain": [
       "[45, 67, 77, 9, 'dgdj', 'cat', 'am', 2, 'Jagruti', [3, 7, 0]]"
      ]
     },
     "execution_count": 80,
     "metadata": {},
     "output_type": "execute_result"
    }
   ],
   "source": [
    "l1.append([3,7,0])\n",
    "l1"
   ]
  },
  {
   "cell_type": "code",
   "execution_count": 82,
   "id": "fce8f3d6",
   "metadata": {},
   "outputs": [
    {
     "ename": "AttributeError",
     "evalue": "'str' object has no attribute 'append'",
     "output_type": "error",
     "traceback": [
      "\u001b[1;31m---------------------------------------------------------------------------\u001b[0m",
      "\u001b[1;31mAttributeError\u001b[0m                            Traceback (most recent call last)",
      "Cell \u001b[1;32mIn[82], line 1\u001b[0m\n\u001b[1;32m----> 1\u001b[0m \u001b[43ml1\u001b[49m\u001b[43m[\u001b[49m\u001b[38;5;241;43m-\u001b[39;49m\u001b[38;5;241;43m2\u001b[39;49m\u001b[43m]\u001b[49m\u001b[38;5;241;43m.\u001b[39;49m\u001b[43mappend\u001b[49m({\u001b[38;5;241m3\u001b[39m,\u001b[38;5;241m5\u001b[39m,\u001b[38;5;241m6\u001b[39m})\n\u001b[0;32m      2\u001b[0m l1\n",
      "\u001b[1;31mAttributeError\u001b[0m: 'str' object has no attribute 'append'"
     ]
    }
   ],
   "source": [
    "l1[-2].append({3,5,6})\n",
    "l1"
   ]
  },
  {
   "cell_type": "code",
   "execution_count": null,
   "id": "b632078c",
   "metadata": {},
   "outputs": [],
   "source": []
  },
  {
   "cell_type": "markdown",
   "id": "bfc2b9ab",
   "metadata": {},
   "source": [
    "count() = The count () method returns count of many times the value occurs in list"
   ]
  },
  {
   "cell_type": "code",
   "execution_count": 83,
   "id": "0738ea15",
   "metadata": {},
   "outputs": [
    {
     "data": {
      "text/plain": [
       "[45, 67, 77, 9, 'dgdj', 'cat', 'am', 2, 'Jagruti', [3, 7, 0, {3, 5, 6}]]"
      ]
     },
     "execution_count": 83,
     "metadata": {},
     "output_type": "execute_result"
    }
   ],
   "source": [
    "l1"
   ]
  },
  {
   "cell_type": "code",
   "execution_count": 85,
   "id": "2036bfc5",
   "metadata": {},
   "outputs": [
    {
     "ename": "AttributeError",
     "evalue": "'set' object has no attribute 'count'",
     "output_type": "error",
     "traceback": [
      "\u001b[1;31m---------------------------------------------------------------------------\u001b[0m",
      "\u001b[1;31mAttributeError\u001b[0m                            Traceback (most recent call last)",
      "Cell \u001b[1;32mIn[85], line 1\u001b[0m\n\u001b[1;32m----> 1\u001b[0m \u001b[43ml1\u001b[49m\u001b[43m[\u001b[49m\u001b[38;5;241;43m-\u001b[39;49m\u001b[38;5;241;43m1\u001b[39;49m\u001b[43m]\u001b[49m\u001b[43m[\u001b[49m\u001b[38;5;241;43m-\u001b[39;49m\u001b[38;5;241;43m1\u001b[39;49m\u001b[43m]\u001b[49m\u001b[38;5;241;43m.\u001b[39;49m\u001b[43mcount\u001b[49m(\u001b[38;5;241m6\u001b[39m)\n",
      "\u001b[1;31mAttributeError\u001b[0m: 'set' object has no attribute 'count'"
     ]
    }
   ],
   "source": [
    "l1[-1][-1].count(6)"
   ]
  },
  {
   "cell_type": "code",
   "execution_count": 86,
   "id": "157476f8",
   "metadata": {},
   "outputs": [
    {
     "data": {
      "text/plain": [
       "1"
      ]
     },
     "execution_count": 86,
     "metadata": {},
     "output_type": "execute_result"
    }
   ],
   "source": [
    "l1.count(77)"
   ]
  },
  {
   "cell_type": "code",
   "execution_count": 91,
   "id": "02b09b11",
   "metadata": {},
   "outputs": [
    {
     "data": {
      "text/plain": [
       "1"
      ]
     },
     "execution_count": 91,
     "metadata": {},
     "output_type": "execute_result"
    }
   ],
   "source": [
    "l1[8].count(\"a\")"
   ]
  },
  {
   "cell_type": "code",
   "execution_count": null,
   "id": "aa12a0f3",
   "metadata": {},
   "outputs": [],
   "source": [
    "l1[-2].count(3)"
   ]
  },
  {
   "cell_type": "markdown",
   "id": "e4e8285d",
   "metadata": {},
   "source": [
    "max() = The max() method returns the elements from the list with maximum value"
   ]
  },
  {
   "cell_type": "code",
   "execution_count": 92,
   "id": "6f2ca127",
   "metadata": {},
   "outputs": [
    {
     "data": {
      "text/plain": [
       "[45, 67, 77, 9, 'dgdj', 'cat', 'am', 2, 'Jagruti', [3, 7, 0, {3, 5, 6}]]"
      ]
     },
     "execution_count": 92,
     "metadata": {},
     "output_type": "execute_result"
    }
   ],
   "source": [
    "l1"
   ]
  },
  {
   "cell_type": "code",
   "execution_count": 93,
   "id": "8b89c955",
   "metadata": {},
   "outputs": [
    {
     "ename": "TypeError",
     "evalue": "'>' not supported between instances of 'str' and 'int'",
     "output_type": "error",
     "traceback": [
      "\u001b[1;31m---------------------------------------------------------------------------\u001b[0m",
      "\u001b[1;31mTypeError\u001b[0m                                 Traceback (most recent call last)",
      "Cell \u001b[1;32mIn[93], line 1\u001b[0m\n\u001b[1;32m----> 1\u001b[0m \u001b[38;5;28;43mmax\u001b[39;49m\u001b[43m(\u001b[49m\u001b[43ml1\u001b[49m\u001b[43m)\u001b[49m\n",
      "\u001b[1;31mTypeError\u001b[0m: '>' not supported between instances of 'str' and 'int'"
     ]
    }
   ],
   "source": [
    "max(l1)"
   ]
  },
  {
   "cell_type": "code",
   "execution_count": 94,
   "id": "90865e5b",
   "metadata": {},
   "outputs": [
    {
     "data": {
      "text/plain": [
       "34"
      ]
     },
     "execution_count": 94,
     "metadata": {},
     "output_type": "execute_result"
    }
   ],
   "source": [
    "l2 = [34,5,6,7,7,8,8,0,-56]\n",
    "max(l2)"
   ]
  },
  {
   "cell_type": "markdown",
   "id": "0ec86c37",
   "metadata": {},
   "source": [
    "extend() = The extend() method appends the contents of sequence to list/\n",
    "It adds multiple elements at the end of list\n",
    "\n"
   ]
  },
  {
   "cell_type": "code",
   "execution_count": 95,
   "id": "3017398b",
   "metadata": {},
   "outputs": [],
   "source": [
    "l_1 = [56,90,78,0.8888,45]"
   ]
  },
  {
   "cell_type": "code",
   "execution_count": 96,
   "id": "5b7bea47",
   "metadata": {},
   "outputs": [],
   "source": [
    "l_1.append(\"python\")"
   ]
  },
  {
   "cell_type": "code",
   "execution_count": 97,
   "id": "f5c28b83",
   "metadata": {},
   "outputs": [
    {
     "data": {
      "text/plain": [
       "[56, 90, 78, 0.8888, 45, 'python']"
      ]
     },
     "execution_count": 97,
     "metadata": {},
     "output_type": "execute_result"
    }
   ],
   "source": [
    "l_1"
   ]
  },
  {
   "cell_type": "code",
   "execution_count": 99,
   "id": "c415ed3d",
   "metadata": {},
   "outputs": [],
   "source": [
    "l_1.extend([2,3])"
   ]
  },
  {
   "cell_type": "code",
   "execution_count": 100,
   "id": "65f91f73",
   "metadata": {},
   "outputs": [
    {
     "data": {
      "text/plain": [
       "[56, 90, 78, 0.8888, 45, 'python', 2, 3]"
      ]
     },
     "execution_count": 100,
     "metadata": {},
     "output_type": "execute_result"
    }
   ],
   "source": [
    "l_1"
   ]
  },
  {
   "cell_type": "code",
   "execution_count": 102,
   "id": "59bc3375",
   "metadata": {},
   "outputs": [
    {
     "name": "stdout",
     "output_type": "stream",
     "text": [
      "[56, 90, 78, 0.8888, 45, 'python', 2, 3, 3, 4, 5, 'p']\n",
      "[56, 90, 78, 0.8888, 45, 'python', 2, 3, 3, 4, 5, 'p', 'y']\n",
      "[56, 90, 78, 0.8888, 45, 'python', 2, 3, 3, 4, 5, 'p', 'y', 't']\n",
      "[56, 90, 78, 0.8888, 45, 'python', 2, 3, 3, 4, 5, 'p', 'y', 't', 'h']\n",
      "[56, 90, 78, 0.8888, 45, 'python', 2, 3, 3, 4, 5, 'p', 'y', 't', 'h', 'o']\n",
      "[56, 90, 78, 0.8888, 45, 'python', 2, 3, 3, 4, 5, 'p', 'y', 't', 'h', 'o', 'n']\n"
     ]
    }
   ],
   "source": [
    "for i in \"python\":\n",
    "    l_1.append(i)\n",
    "    print(l_1)"
   ]
  },
  {
   "cell_type": "code",
   "execution_count": 104,
   "id": "ee751931",
   "metadata": {},
   "outputs": [
    {
     "name": "stdout",
     "output_type": "stream",
     "text": [
      "[56, 90, 78, 0.8888, 45, 'python', 2, 3, 3, 4, 5, 'p', 'y', 't', 'h', 'o', 'n', 2, 4, 6, 8, 9, 0, 2, 4, 6, 8, 9, 0]\n"
     ]
    }
   ],
   "source": [
    "l_1.extend((2,4,6,8,9,0))\n",
    "print(l_1)"
   ]
  },
  {
   "cell_type": "code",
   "execution_count": null,
   "id": "765d00f9",
   "metadata": {},
   "outputs": [],
   "source": []
  },
  {
   "cell_type": "markdown",
   "id": "80cf8871",
   "metadata": {},
   "source": [
    "index() = The index() method returns the lowest index in the list\n"
   ]
  },
  {
   "cell_type": "code",
   "execution_count": 106,
   "id": "5191bb60",
   "metadata": {},
   "outputs": [
    {
     "name": "stdout",
     "output_type": "stream",
     "text": [
      "[56, 90, 78, 0.8888, 45, 'python', 2, 3, 3, 4, 5, 'p', 'y', 't', 'h', 'o', 'n', 2, 4, 6, 8, 9, 0, 2, 4, 6, 8, 9, 0]\n"
     ]
    }
   ],
   "source": [
    "print(l_1)"
   ]
  },
  {
   "cell_type": "code",
   "execution_count": 111,
   "id": "4d67be02",
   "metadata": {},
   "outputs": [
    {
     "ename": "ValueError",
     "evalue": "'Python' is not in list",
     "output_type": "error",
     "traceback": [
      "\u001b[1;31m---------------------------------------------------------------------------\u001b[0m",
      "\u001b[1;31mValueError\u001b[0m                                Traceback (most recent call last)",
      "Cell \u001b[1;32mIn[111], line 1\u001b[0m\n\u001b[1;32m----> 1\u001b[0m \u001b[43ml_1\u001b[49m\u001b[38;5;241;43m.\u001b[39;49m\u001b[43mindex\u001b[49m\u001b[43m(\u001b[49m\u001b[38;5;124;43m\"\u001b[39;49m\u001b[38;5;124;43mPython\u001b[39;49m\u001b[38;5;124;43m\"\u001b[39;49m\u001b[43m)\u001b[49m\n",
      "\u001b[1;31mValueError\u001b[0m: 'Python' is not in list"
     ]
    }
   ],
   "source": [
    "l_1.index(\"Python\")"
   ]
  },
  {
   "cell_type": "code",
   "execution_count": 109,
   "id": "75b79f92",
   "metadata": {},
   "outputs": [
    {
     "ename": "AttributeError",
     "evalue": "'list' object has no attribute 'find'",
     "output_type": "error",
     "traceback": [
      "\u001b[1;31m---------------------------------------------------------------------------\u001b[0m",
      "\u001b[1;31mAttributeError\u001b[0m                            Traceback (most recent call last)",
      "Cell \u001b[1;32mIn[109], line 1\u001b[0m\n\u001b[1;32m----> 1\u001b[0m \u001b[43ml_1\u001b[49m\u001b[38;5;241;43m.\u001b[39;49m\u001b[43mfind\u001b[49m(\u001b[38;5;241m10\u001b[39m)\n",
      "\u001b[1;31mAttributeError\u001b[0m: 'list' object has no attribute 'find'"
     ]
    }
   ],
   "source": [
    "l_1.find(10)"
   ]
  },
  {
   "cell_type": "code",
   "execution_count": null,
   "id": "bd2de1a8",
   "metadata": {},
   "outputs": [],
   "source": []
  },
  {
   "cell_type": "markdown",
   "id": "8018a55d",
   "metadata": {},
   "source": [
    "insert() = the insert() method inserts values at index position\n",
    "\n"
   ]
  },
  {
   "cell_type": "code",
   "execution_count": 116,
   "id": "bae8aed7",
   "metadata": {},
   "outputs": [
    {
     "data": {
      "text/plain": [
       "3"
      ]
     },
     "execution_count": 116,
     "metadata": {},
     "output_type": "execute_result"
    }
   ],
   "source": [
    "l2 = [56,78,90,465,76]\n",
    "l2.insert(2,100)\n",
    "l2.index(90)"
   ]
  },
  {
   "cell_type": "code",
   "execution_count": 113,
   "id": "5da718d3",
   "metadata": {},
   "outputs": [
    {
     "data": {
      "text/plain": [
       "[56, 78, 100, 465, 76]"
      ]
     },
     "execution_count": 113,
     "metadata": {},
     "output_type": "execute_result"
    }
   ],
   "source": [
    "l2[2]=100\n",
    "l2"
   ]
  },
  {
   "cell_type": "code",
   "execution_count": 117,
   "id": "3f313d69",
   "metadata": {},
   "outputs": [
    {
     "data": {
      "text/plain": [
       "[56, 78, 100, {33}, 90, 465, 76]"
      ]
     },
     "execution_count": 117,
     "metadata": {},
     "output_type": "execute_result"
    }
   ],
   "source": [
    "l2.insert(3,{33,33,33})\n",
    "l2"
   ]
  },
  {
   "cell_type": "markdown",
   "id": "fc7b1987",
   "metadata": {},
   "source": [
    "pop() = the pop() method removes & returns last object or obj from the list."
   ]
  },
  {
   "cell_type": "code",
   "execution_count": 119,
   "id": "2d38bd00",
   "metadata": {},
   "outputs": [
    {
     "data": {
      "text/plain": [
       "76"
      ]
     },
     "execution_count": 119,
     "metadata": {},
     "output_type": "execute_result"
    }
   ],
   "source": [
    "l2.pop()"
   ]
  },
  {
   "cell_type": "code",
   "execution_count": 121,
   "id": "8b77b28c",
   "metadata": {},
   "outputs": [
    {
     "data": {
      "text/plain": [
       "{33}"
      ]
     },
     "execution_count": 121,
     "metadata": {},
     "output_type": "execute_result"
    }
   ],
   "source": [
    "l2.pop(3)"
   ]
  },
  {
   "cell_type": "code",
   "execution_count": 122,
   "id": "2cc5d8ca",
   "metadata": {},
   "outputs": [
    {
     "data": {
      "text/plain": [
       "[56, 78, 100, 90, 465]"
      ]
     },
     "execution_count": 122,
     "metadata": {},
     "output_type": "execute_result"
    }
   ],
   "source": [
    "l2"
   ]
  },
  {
   "cell_type": "markdown",
   "id": "e05731e0",
   "metadata": {},
   "source": [
    "sort() = The sort() method sorts values of list, but type of elements in list should be same otherwise compiler throw typeError"
   ]
  },
  {
   "cell_type": "code",
   "execution_count": null,
   "id": "925fae65",
   "metadata": {},
   "outputs": [],
   "source": []
  },
  {
   "cell_type": "code",
   "execution_count": 126,
   "id": "3cd0c035",
   "metadata": {},
   "outputs": [
    {
     "data": {
      "text/plain": [
       "[56, 78, 90, 100, 465, 34, 8, 0, 2, 1]"
      ]
     },
     "execution_count": 126,
     "metadata": {},
     "output_type": "execute_result"
    }
   ],
   "source": [
    "l2.extend([34,8,0,2,1])\n",
    "l2"
   ]
  },
  {
   "cell_type": "code",
   "execution_count": null,
   "id": "670a2147",
   "metadata": {},
   "outputs": [],
   "source": []
  },
  {
   "cell_type": "code",
   "execution_count": 127,
   "id": "00810a01",
   "metadata": {},
   "outputs": [],
   "source": [
    "l2.sort()"
   ]
  },
  {
   "cell_type": "code",
   "execution_count": 128,
   "id": "c39a1f95",
   "metadata": {},
   "outputs": [
    {
     "data": {
      "text/plain": [
       "[0, 1, 2, 8, 34, 56, 78, 90, 100, 465]"
      ]
     },
     "execution_count": 128,
     "metadata": {},
     "output_type": "execute_result"
    }
   ],
   "source": [
    "l2"
   ]
  },
  {
   "cell_type": "code",
   "execution_count": 129,
   "id": "2799e36b",
   "metadata": {},
   "outputs": [
    {
     "data": {
      "text/plain": [
       "[465, 100, 90, 78, 56, 34, 8, 2, 1, 0]"
      ]
     },
     "execution_count": 129,
     "metadata": {},
     "output_type": "execute_result"
    }
   ],
   "source": [
    "l2.sort(reverse=True)\n",
    "l2"
   ]
  },
  {
   "cell_type": "markdown",
   "id": "92556185",
   "metadata": {},
   "source": [
    "reverse() : reverse method helps to reverse the existing list"
   ]
  },
  {
   "cell_type": "code",
   "execution_count": 134,
   "id": "b5845cfd",
   "metadata": {},
   "outputs": [
    {
     "data": {
      "text/plain": [
       "[465, 100, 90, 78, 56, 34, 8, 2, 1, 0]"
      ]
     },
     "execution_count": 134,
     "metadata": {},
     "output_type": "execute_result"
    }
   ],
   "source": [
    "l2.reverse()\n",
    "l2"
   ]
  },
  {
   "cell_type": "code",
   "execution_count": 135,
   "id": "05778d57",
   "metadata": {},
   "outputs": [
    {
     "name": "stdout",
     "output_type": "stream",
     "text": [
      "[0, 1, 2, 8, 34, 56, 78, 90, 100, 465]\n"
     ]
    },
    {
     "data": {
      "text/plain": [
       "[465, 100, 90, 78, 56, 34, 8, 2, 1, 0]"
      ]
     },
     "execution_count": 135,
     "metadata": {},
     "output_type": "execute_result"
    }
   ],
   "source": [
    "print(l2[::-1])\n",
    "l2"
   ]
  },
  {
   "cell_type": "markdown",
   "id": "ea259b81",
   "metadata": {},
   "source": [
    "Write a program to remove the item present at last index position and add it to the 5th position and at the end of the list  \n",
    "num = [45,12,78,23,90,56,45,67]"
   ]
  },
  {
   "cell_type": "code",
   "execution_count": 136,
   "id": "393a2303",
   "metadata": {},
   "outputs": [],
   "source": [
    "num = [45,12,78,23,90,56,45,67]"
   ]
  },
  {
   "cell_type": "code",
   "execution_count": 137,
   "id": "a4299941",
   "metadata": {},
   "outputs": [],
   "source": [
    "del_num = num.pop()"
   ]
  },
  {
   "cell_type": "code",
   "execution_count": 138,
   "id": "ce3a839b",
   "metadata": {},
   "outputs": [
    {
     "data": {
      "text/plain": [
       "[45, 12, 78, 23, 90, 67, 56, 45, 67]"
      ]
     },
     "execution_count": 138,
     "metadata": {},
     "output_type": "execute_result"
    }
   ],
   "source": [
    "num.insert(5,del_num)\n",
    "num.append(del_num)\n",
    "num"
   ]
  },
  {
   "cell_type": "markdown",
   "id": "5c87a7d7",
   "metadata": {},
   "source": [
    "Extend nested list by adding the sublist  \n",
    "l1 = [3,6,6,9,[0,1,-3,[2,6]],6,8]"
   ]
  },
  {
   "cell_type": "code",
   "execution_count": 139,
   "id": "3f1f202a",
   "metadata": {},
   "outputs": [],
   "source": [
    "l1 = [3,6,6,9,[0,1,-3,[2,6]],6,8]"
   ]
  },
  {
   "cell_type": "code",
   "execution_count": 140,
   "id": "183ee5ca",
   "metadata": {},
   "outputs": [
    {
     "data": {
      "text/plain": [
       "[3, 6, 6, 9, [0, 1, -3, [2, 6, 4, 6, 8]], 6, 8]"
      ]
     },
     "execution_count": 140,
     "metadata": {},
     "output_type": "execute_result"
    }
   ],
   "source": [
    "l2=[4,6,8]\n",
    "\n",
    "l1[4][3].extend(l2)\n",
    "l1"
   ]
  },
  {
   "cell_type": "markdown",
   "id": "a934ebc6",
   "metadata": {},
   "source": [
    "### Tuples\n",
    "A tuple is a collection of different data types which is ordered and unchangeable (immutable). Tuples are written with round brackets, (). Once a tuple is created, we cannot change its values. We cannot use add, insert, remove methods in a tuple because it is not modifiable (immutable)."
   ]
  },
  {
   "cell_type": "markdown",
   "id": "6ac78eb3",
   "metadata": {},
   "source": [
    "#### Creating a Tuple"
   ]
  },
  {
   "cell_type": "code",
   "execution_count": 143,
   "id": "1a7b8195",
   "metadata": {},
   "outputs": [
    {
     "name": "stdout",
     "output_type": "stream",
     "text": [
      "()\n"
     ]
    },
    {
     "data": {
      "text/plain": [
       "tuple"
      ]
     },
     "execution_count": 143,
     "metadata": {},
     "output_type": "execute_result"
    }
   ],
   "source": [
    "# Creating a empty tuples\n",
    "t1=()\n",
    "print(t1)\n",
    "type(t1)"
   ]
  },
  {
   "cell_type": "code",
   "execution_count": 145,
   "id": "af476795",
   "metadata": {},
   "outputs": [
    {
     "name": "stdout",
     "output_type": "stream",
     "text": [
      "(3,)\n"
     ]
    },
    {
     "data": {
      "text/plain": [
       "tuple"
      ]
     },
     "execution_count": 145,
     "metadata": {},
     "output_type": "execute_result"
    }
   ],
   "source": [
    "#Creating a tuple with 1 element\n",
    "t2 = (3,)\n",
    "print(t2)\n",
    "type(t2)"
   ]
  },
  {
   "cell_type": "code",
   "execution_count": 148,
   "id": "39c01661",
   "metadata": {},
   "outputs": [
    {
     "name": "stdout",
     "output_type": "stream",
     "text": [
      "(45, [5, 6], 78, 90, 66, 'hihkmhk', (4, 6, 7, 5))\n"
     ]
    },
    {
     "data": {
      "text/plain": [
       "tuple"
      ]
     },
     "execution_count": 148,
     "metadata": {},
     "output_type": "execute_result"
    }
   ],
   "source": [
    "# Tuples support mixed data type\n",
    "t3 = (45,[5,6],78,90,66,\"hihkmhk\",(4,6,7,5)) # preserve order\n",
    "print(t3)\n",
    "type(t3)"
   ]
  },
  {
   "cell_type": "code",
   "execution_count": 149,
   "id": "c932c8f9",
   "metadata": {},
   "outputs": [
    {
     "name": "stdout",
     "output_type": "stream",
     "text": [
      "(45, 45, 8798, 0, 54, 45, 7, 4, 3, 6, 2)\n"
     ]
    }
   ],
   "source": [
    "# Allows repeated data\n",
    "t4 = (45,45,8798,0,54,45,7,4,3,6,2)\n",
    "print(t4)"
   ]
  },
  {
   "cell_type": "markdown",
   "id": "16d92543",
   "metadata": {},
   "source": [
    "#### Tuple length\n",
    "len() function will be used to find out the length of the tuple"
   ]
  },
  {
   "cell_type": "code",
   "execution_count": 150,
   "id": "987ba4b9",
   "metadata": {},
   "outputs": [
    {
     "name": "stdout",
     "output_type": "stream",
     "text": [
      "11\n"
     ]
    }
   ],
   "source": [
    "t5 = (45,56,34,6,7,7,8,8, 9,\"243546\",\"etgfdgrdfef\")\n",
    "print(len(t5))"
   ]
  },
  {
   "cell_type": "code",
   "execution_count": 153,
   "id": "1d0ecb1e",
   "metadata": {},
   "outputs": [
    {
     "ename": "TypeError",
     "evalue": "object of type 'int' has no len()",
     "output_type": "error",
     "traceback": [
      "\u001b[1;31m---------------------------------------------------------------------------\u001b[0m",
      "\u001b[1;31mTypeError\u001b[0m                                 Traceback (most recent call last)",
      "Cell \u001b[1;32mIn[153], line 1\u001b[0m\n\u001b[1;32m----> 1\u001b[0m \u001b[38;5;28mprint\u001b[39m(\u001b[38;5;28;43mlen\u001b[39;49m\u001b[43m(\u001b[49m\u001b[43mt5\u001b[49m\u001b[43m[\u001b[49m\u001b[38;5;241;43m-\u001b[39;49m\u001b[38;5;241;43m3\u001b[39;49m\u001b[43m]\u001b[49m\u001b[43m)\u001b[49m)\n",
      "\u001b[1;31mTypeError\u001b[0m: object of type 'int' has no len()"
     ]
    }
   ],
   "source": [
    "print(len(t5[-3]))"
   ]
  },
  {
   "cell_type": "code",
   "execution_count": null,
   "id": "35aad84a",
   "metadata": {},
   "outputs": [],
   "source": []
  },
  {
   "cell_type": "code",
   "execution_count": null,
   "id": "58831a34",
   "metadata": {},
   "outputs": [],
   "source": []
  },
  {
   "cell_type": "markdown",
   "id": "eb9e3a81",
   "metadata": {},
   "source": [
    "#### Accessing Tuple Items"
   ]
  },
  {
   "cell_type": "code",
   "execution_count": 154,
   "id": "9cf21f96",
   "metadata": {},
   "outputs": [],
   "source": [
    "t6 = (45,78,90,56,56,45,89,3)"
   ]
  },
  {
   "cell_type": "code",
   "execution_count": 164,
   "id": "2477063b",
   "metadata": {
    "collapsed": true
   },
   "outputs": [
    {
     "name": "stdout",
     "output_type": "stream",
     "text": [
      "3\n",
      "56\n",
      "89\n",
      "56\n",
      "(56, 45, 89)\n",
      "()\n",
      "(78, 56)\n"
     ]
    }
   ],
   "source": [
    "print(t6[7])\n",
    "print(t6[3])\n",
    "print(t6[-2])\n",
    "print(t6[-5])\n",
    "print(t6[4:7])\n",
    "print(t6[-3:-5])\n",
    "print(t6[-7:-2:3])"
   ]
  },
  {
   "cell_type": "code",
   "execution_count": 165,
   "id": "73bf63c6",
   "metadata": {},
   "outputs": [],
   "source": [
    "t7 = (34,56,[45,78,89,0],\"sytrehjdb\",(5,3,4,5,(34,56,67,7)))"
   ]
  },
  {
   "cell_type": "code",
   "execution_count": 175,
   "id": "e7199971",
   "metadata": {},
   "outputs": [
    {
     "name": "stdout",
     "output_type": "stream",
     "text": [
      "[45, 78, 89, 0]\n",
      "sytrehjdb\n",
      "trehj\n",
      "(7, 67, 56, 34)\n"
     ]
    }
   ],
   "source": [
    "print(t7[2])\n",
    "print(t7[-2])\n",
    "print(t7[3][2:7])\n",
    "print(t7[-1][4][::-1])"
   ]
  },
  {
   "cell_type": "code",
   "execution_count": null,
   "id": "214a6896",
   "metadata": {},
   "outputs": [],
   "source": []
  },
  {
   "cell_type": "markdown",
   "id": "a349a336",
   "metadata": {},
   "source": [
    "#### Reversing of tuple"
   ]
  },
  {
   "cell_type": "code",
   "execution_count": 176,
   "id": "fe7d10bb",
   "metadata": {},
   "outputs": [
    {
     "ename": "AttributeError",
     "evalue": "'tuple' object has no attribute 'reverse'",
     "output_type": "error",
     "traceback": [
      "\u001b[1;31m---------------------------------------------------------------------------\u001b[0m",
      "\u001b[1;31mAttributeError\u001b[0m                            Traceback (most recent call last)",
      "Cell \u001b[1;32mIn[176], line 2\u001b[0m\n\u001b[0;32m      1\u001b[0m t8 \u001b[38;5;241m=\u001b[39m (\u001b[38;5;241m56\u001b[39m,\u001b[38;5;241m79\u001b[39m,\u001b[38;5;241m45\u001b[39m,\u001b[38;5;124m\"\u001b[39m\u001b[38;5;124mbbhh\u001b[39m\u001b[38;5;124m\"\u001b[39m,\u001b[38;5;124m\"\u001b[39m\u001b[38;5;124mgjgjgb\u001b[39m\u001b[38;5;124m\"\u001b[39m)\n\u001b[1;32m----> 2\u001b[0m \u001b[43mt8\u001b[49m\u001b[38;5;241;43m.\u001b[39;49m\u001b[43mreverse\u001b[49m()\n",
      "\u001b[1;31mAttributeError\u001b[0m: 'tuple' object has no attribute 'reverse'"
     ]
    }
   ],
   "source": [
    "t8 = (56,79,45,\"bbhh\",\"gjgjgb\")\n",
    "t8.reverse()"
   ]
  },
  {
   "cell_type": "code",
   "execution_count": 177,
   "id": "1c82dc65",
   "metadata": {},
   "outputs": [
    {
     "data": {
      "text/plain": [
       "('gjgjgb', 'bbhh', 45, 79, 56)"
      ]
     },
     "execution_count": 177,
     "metadata": {},
     "output_type": "execute_result"
    }
   ],
   "source": [
    "t8[::-1]"
   ]
  },
  {
   "cell_type": "code",
   "execution_count": 179,
   "id": "3f179e53",
   "metadata": {},
   "outputs": [
    {
     "data": {
      "text/plain": [
       "(56, 79, 45, 'bbhh', 'gjgjgb')"
      ]
     },
     "execution_count": 179,
     "metadata": {},
     "output_type": "execute_result"
    }
   ],
   "source": [
    "t8"
   ]
  },
  {
   "cell_type": "code",
   "execution_count": 178,
   "id": "73bf2afc",
   "metadata": {},
   "outputs": [
    {
     "name": "stdout",
     "output_type": "stream",
     "text": [
      "gjgjgb\n",
      "bbhh\n",
      "45\n",
      "79\n",
      "56\n"
     ]
    }
   ],
   "source": [
    "for x in t8[::-1]:\n",
    "    print(x)"
   ]
  },
  {
   "cell_type": "code",
   "execution_count": 180,
   "id": "85e4cb7d",
   "metadata": {},
   "outputs": [
    {
     "ename": "AttributeError",
     "evalue": "'tuple' object has no attribute 'append'",
     "output_type": "error",
     "traceback": [
      "\u001b[1;31m---------------------------------------------------------------------------\u001b[0m",
      "\u001b[1;31mAttributeError\u001b[0m                            Traceback (most recent call last)",
      "Cell \u001b[1;32mIn[180], line 4\u001b[0m\n\u001b[0;32m      1\u001b[0m t9\u001b[38;5;241m=\u001b[39m()\n\u001b[0;32m      3\u001b[0m \u001b[38;5;28;01mfor\u001b[39;00m i \u001b[38;5;129;01min\u001b[39;00m t8[::\u001b[38;5;241m-\u001b[39m\u001b[38;5;241m1\u001b[39m]:\n\u001b[1;32m----> 4\u001b[0m     \u001b[43mt9\u001b[49m\u001b[38;5;241;43m.\u001b[39;49m\u001b[43mappend\u001b[49m(i)\n\u001b[0;32m      6\u001b[0m \u001b[38;5;28mprint\u001b[39m(t9)\n",
      "\u001b[1;31mAttributeError\u001b[0m: 'tuple' object has no attribute 'append'"
     ]
    }
   ],
   "source": [
    "t9=()\n",
    "\n",
    "for i in t8[::-1]:\n",
    "    t9.append(i)\n",
    "    \n",
    "print(t9)"
   ]
  },
  {
   "cell_type": "code",
   "execution_count": 182,
   "id": "018961d3",
   "metadata": {},
   "outputs": [
    {
     "name": "stdout",
     "output_type": "stream",
     "text": [
      "['gjgjgb', 'bbhh', 45, 79, 56]\n"
     ]
    }
   ],
   "source": [
    "t9=[]\n",
    "\n",
    "for i in t8[::-1]:\n",
    "    t9.append(i)\n",
    "    \n",
    "print(t9)"
   ]
  },
  {
   "cell_type": "code",
   "execution_count": 186,
   "id": "fb516f7a",
   "metadata": {},
   "outputs": [
    {
     "name": "stdout",
     "output_type": "stream",
     "text": [
      "[56, 6, 8, 4, 90]\n",
      "[7, 9, 3, 3, 3]\n",
      "[]\n"
     ]
    }
   ],
   "source": [
    "t10 = (56,6,7,8,9,4,3,3,3,90)\n",
    "even = []\n",
    "odd = []\n",
    "others = []\n",
    "\n",
    "for i in t10:\n",
    "    if i%2==0:\n",
    "        even.append(i)\n",
    "    elif i%2!=0:\n",
    "        odd.append(i)\n",
    "    else:\n",
    "        others.append(i)\n",
    "\n",
    "print(even)\n",
    "print(odd)\n",
    "print(others)\n",
    "\n",
    "        "
   ]
  },
  {
   "cell_type": "code",
   "execution_count": 187,
   "id": "3e5ff017",
   "metadata": {},
   "outputs": [],
   "source": [
    "t_1 = list(t9)"
   ]
  },
  {
   "cell_type": "markdown",
   "id": "347ec28b",
   "metadata": {},
   "source": [
    "#### Replicating tuples"
   ]
  },
  {
   "cell_type": "code",
   "execution_count": 193,
   "id": "1a3ab594",
   "metadata": {
    "collapsed": true
   },
   "outputs": [
    {
     "data": {
      "text/plain": [
       "['gjgjgb',\n",
       " 'bbhh',\n",
       " 45,\n",
       " 79,\n",
       " 56,\n",
       " 'gjgjgb',\n",
       " 'bbhh',\n",
       " 45,\n",
       " 79,\n",
       " 56,\n",
       " 'gjgjgb',\n",
       " 'bbhh',\n",
       " 45,\n",
       " 79,\n",
       " 56]"
      ]
     },
     "execution_count": 193,
     "metadata": {},
     "output_type": "execute_result"
    }
   ],
   "source": [
    "t9*3"
   ]
  },
  {
   "cell_type": "code",
   "execution_count": 192,
   "id": "24d21b2d",
   "metadata": {},
   "outputs": [
    {
     "name": "stdout",
     "output_type": "stream",
     "text": [
      "(56, 6, 7, 8, 9, 4, 3, 3, 3, 90, 56, 6, 7, 8, 9, 4, 3, 3, 3, 90)\n"
     ]
    }
   ],
   "source": [
    "print(t10*2)"
   ]
  },
  {
   "cell_type": "markdown",
   "id": "58de11cd",
   "metadata": {},
   "source": [
    "#### Updating tuples\n",
    "Tuples are immutable in nature which means you cannot update or change values of tuple elements."
   ]
  },
  {
   "cell_type": "code",
   "execution_count": 195,
   "id": "22674947",
   "metadata": {},
   "outputs": [
    {
     "ename": "TypeError",
     "evalue": "'tuple' object does not support item assignment",
     "output_type": "error",
     "traceback": [
      "\u001b[1;31m---------------------------------------------------------------------------\u001b[0m",
      "\u001b[1;31mTypeError\u001b[0m                                 Traceback (most recent call last)",
      "Cell \u001b[1;32mIn[195], line 2\u001b[0m\n\u001b[0;32m      1\u001b[0m t10 \u001b[38;5;241m=\u001b[39m (\u001b[38;5;241m56\u001b[39m,\u001b[38;5;241m6\u001b[39m,\u001b[38;5;241m7\u001b[39m,\u001b[38;5;241m8\u001b[39m,\u001b[38;5;241m9\u001b[39m,\u001b[38;5;241m4\u001b[39m,\u001b[38;5;241m3\u001b[39m,\u001b[38;5;241m3\u001b[39m,\u001b[38;5;241m3\u001b[39m,\u001b[38;5;241m90\u001b[39m)\n\u001b[1;32m----> 2\u001b[0m t10[\u001b[38;5;241m1\u001b[39m]\u001b[38;5;241m=\u001b[39m\u001b[38;5;241m11\u001b[39m\n",
      "\u001b[1;31mTypeError\u001b[0m: 'tuple' object does not support item assignment"
     ]
    }
   ],
   "source": [
    "t10 = (56,6,7,8,9,4,3,3,3,90)\n",
    "t10[1]=11"
   ]
  },
  {
   "cell_type": "code",
   "execution_count": null,
   "id": "831c45be",
   "metadata": {},
   "outputs": [],
   "source": []
  },
  {
   "cell_type": "markdown",
   "id": "a4cb9eb3",
   "metadata": {},
   "source": [
    "#### Deleting tuple elements\n",
    "Removing individual tuple elements is not possible."
   ]
  },
  {
   "cell_type": "code",
   "execution_count": 197,
   "id": "4adea80d",
   "metadata": {},
   "outputs": [],
   "source": [
    "t10 = (56,6,7,8,9,4,3,3,3,90)\n",
    "del t10"
   ]
  },
  {
   "cell_type": "code",
   "execution_count": 198,
   "id": "197feebd",
   "metadata": {},
   "outputs": [
    {
     "ename": "NameError",
     "evalue": "name 't10' is not defined",
     "output_type": "error",
     "traceback": [
      "\u001b[1;31m---------------------------------------------------------------------------\u001b[0m",
      "\u001b[1;31mNameError\u001b[0m                                 Traceback (most recent call last)",
      "Cell \u001b[1;32mIn[198], line 1\u001b[0m\n\u001b[1;32m----> 1\u001b[0m \u001b[38;5;28mprint\u001b[39m(\u001b[43mt10\u001b[49m)\n",
      "\u001b[1;31mNameError\u001b[0m: name 't10' is not defined"
     ]
    }
   ],
   "source": [
    "print(t10)"
   ]
  },
  {
   "cell_type": "code",
   "execution_count": null,
   "id": "c5bd6858",
   "metadata": {},
   "outputs": [],
   "source": []
  },
  {
   "cell_type": "code",
   "execution_count": null,
   "id": "97fe34ad",
   "metadata": {},
   "outputs": [],
   "source": []
  },
  {
   "cell_type": "code",
   "execution_count": null,
   "id": "7d67edb7",
   "metadata": {},
   "outputs": [],
   "source": []
  },
  {
   "cell_type": "code",
   "execution_count": null,
   "id": "07991490",
   "metadata": {},
   "outputs": [],
   "source": []
  },
  {
   "cell_type": "code",
   "execution_count": null,
   "id": "04a12c9b",
   "metadata": {},
   "outputs": [],
   "source": []
  },
  {
   "cell_type": "code",
   "execution_count": null,
   "id": "9bbe1f1f",
   "metadata": {},
   "outputs": [],
   "source": []
  },
  {
   "cell_type": "code",
   "execution_count": null,
   "id": "9244fa61",
   "metadata": {},
   "outputs": [],
   "source": []
  },
  {
   "cell_type": "markdown",
   "id": "956a8d92",
   "metadata": {},
   "source": [
    "### Sets\n",
    "Set is a collection of unordered and un-indexed distinct elements. In Python set is used to store unique items, and it is possible to find the union, intersection, difference among sets."
   ]
  },
  {
   "cell_type": "code",
   "execution_count": 199,
   "id": "eec32f2c",
   "metadata": {},
   "outputs": [
    {
     "name": "stdout",
     "output_type": "stream",
     "text": [
      "{}\n"
     ]
    },
    {
     "data": {
      "text/plain": [
       "dict"
      ]
     },
     "execution_count": 199,
     "metadata": {},
     "output_type": "execute_result"
    }
   ],
   "source": [
    "set1 = {}\n",
    "print(set1)\n",
    "type(set1)"
   ]
  },
  {
   "cell_type": "code",
   "execution_count": 202,
   "id": "b3360dd4",
   "metadata": {},
   "outputs": [
    {
     "name": "stdout",
     "output_type": "stream",
     "text": [
      "set()\n"
     ]
    },
    {
     "data": {
      "text/plain": [
       "set"
      ]
     },
     "execution_count": 202,
     "metadata": {},
     "output_type": "execute_result"
    }
   ],
   "source": [
    "set2 = set(set1)\n",
    "print(set2)\n",
    "type(set2)"
   ]
  },
  {
   "cell_type": "code",
   "execution_count": null,
   "id": "3d0ea07f",
   "metadata": {},
   "outputs": [],
   "source": []
  },
  {
   "cell_type": "code",
   "execution_count": 205,
   "id": "4ec038e3",
   "metadata": {},
   "outputs": [
    {
     "name": "stdout",
     "output_type": "stream",
     "text": [
      "{2}\n"
     ]
    },
    {
     "data": {
      "text/plain": [
       "set"
      ]
     },
     "execution_count": 205,
     "metadata": {},
     "output_type": "execute_result"
    }
   ],
   "source": [
    "# to add a single element inside a set\n",
    "set1 = {2}\n",
    "print(set1)\n",
    "type(set1)"
   ]
  },
  {
   "cell_type": "code",
   "execution_count": null,
   "id": "23079f43",
   "metadata": {},
   "outputs": [],
   "source": []
  },
  {
   "cell_type": "code",
   "execution_count": 210,
   "id": "e202a0b3",
   "metadata": {},
   "outputs": [
    {
     "name": "stdout",
     "output_type": "stream",
     "text": [
      "{0, 3, 4, 5, 6, 7, 8, 9, -3}\n"
     ]
    }
   ],
   "source": [
    "# add multiple elements inside a set.\n",
    "set2 = {3,4,7,7,8,9,0,5,7,7,6,-3}\n",
    "# allows on ly distinct elements\n",
    "print(set2)"
   ]
  },
  {
   "cell_type": "code",
   "execution_count": 208,
   "id": "1dd9bd89",
   "metadata": {},
   "outputs": [
    {
     "name": "stdout",
     "output_type": "stream",
     "text": [
      "{0, 34, 3, 4, 6, 56, 89, -2}\n"
     ]
    }
   ],
   "source": [
    "set3 = {56,89,0,-2,34,3,4,6}\n",
    "print(set3)\n",
    "# does not preserve the order (unordered in nature)"
   ]
  },
  {
   "cell_type": "code",
   "execution_count": 213,
   "id": "9d95c0dc",
   "metadata": {},
   "outputs": [
    {
     "name": "stdout",
     "output_type": "stream",
     "text": [
      "{'abc', (3, 4, 5), 6.898, 56, 45}\n"
     ]
    }
   ],
   "source": [
    "# set allow mixed datatypes\n",
    "set4 = {45,56,45,45,45,6.898,\"abc\",(3,4,5)}\n",
    "print(set4)"
   ]
  },
  {
   "cell_type": "code",
   "execution_count": 219,
   "id": "27638faf",
   "metadata": {},
   "outputs": [
    {
     "name": "stdout",
     "output_type": "stream",
     "text": [
      "{3, 4, 5, 6, 44, 45}\n"
     ]
    },
    {
     "ename": "TypeError",
     "evalue": "'set' object is not subscriptable",
     "output_type": "error",
     "traceback": [
      "\u001b[1;31m---------------------------------------------------------------------------\u001b[0m",
      "\u001b[1;31mTypeError\u001b[0m                                 Traceback (most recent call last)",
      "Cell \u001b[1;32mIn[219], line 4\u001b[0m\n\u001b[0;32m      1\u001b[0m set5 \u001b[38;5;241m=\u001b[39m {\u001b[38;5;241m44\u001b[39m,\u001b[38;5;241m5\u001b[39m,\u001b[38;5;241m5\u001b[39m,\u001b[38;5;241m6\u001b[39m,\u001b[38;5;241m3\u001b[39m,\u001b[38;5;241m4\u001b[39m,\u001b[38;5;241m4\u001b[39m,\u001b[38;5;241m45\u001b[39m}\n\u001b[0;32m      2\u001b[0m \u001b[38;5;28mprint\u001b[39m(set5)\n\u001b[1;32m----> 4\u001b[0m \u001b[38;5;28mprint\u001b[39m(\u001b[43mset5\u001b[49m\u001b[43m[\u001b[49m\u001b[38;5;241;43m1\u001b[39;49m\u001b[43m]\u001b[49m)\n",
      "\u001b[1;31mTypeError\u001b[0m: 'set' object is not subscriptable"
     ]
    }
   ],
   "source": [
    "set5 = {44,5,5,6,3,4,4,45}\n",
    "print(set5)\n",
    "\n",
    "print(set5[1])\n",
    "# sets do not support indexing (un-indexed in nature)"
   ]
  },
  {
   "cell_type": "code",
   "execution_count": 220,
   "id": "0da725ee",
   "metadata": {},
   "outputs": [
    {
     "name": "stdout",
     "output_type": "stream",
     "text": [
      "{0, 98, 3, 4, 5, 6, 7, 8, 9, 10, 45, 56}\n"
     ]
    }
   ],
   "source": [
    "# sets are mutuable in nature\n",
    "set4 = {56,5,6,7,7,8,98,9,0,4,45,5,3}\n",
    "set4.add(10)\n",
    "print(set4)"
   ]
  },
  {
   "cell_type": "code",
   "execution_count": 223,
   "id": "17a2d4d3",
   "metadata": {},
   "outputs": [
    {
     "data": {
      "text/plain": [
       "{(12, 13), 0, 10, 3, 4, 45, 5, 56, 6, 7, 8, 9, 98}"
      ]
     },
     "execution_count": 223,
     "metadata": {},
     "output_type": "execute_result"
    }
   ],
   "source": [
    "set4.add((12,13)) # add only adds 1 element into your sets\n",
    "set4"
   ]
  },
  {
   "cell_type": "code",
   "execution_count": 225,
   "id": "b2fe3973",
   "metadata": {},
   "outputs": [
    {
     "data": {
      "text/plain": [
       "{(12, 13), -2, 0, 10, 100, 3, 4, 45, 5, 56, 6, 7, 77, 8, 9, 98}"
      ]
     },
     "execution_count": 225,
     "metadata": {},
     "output_type": "execute_result"
    }
   ],
   "source": [
    "set4.update((100,-2,77)) # it adds multiple elements in the sets\n",
    "set4"
   ]
  },
  {
   "cell_type": "code",
   "execution_count": 230,
   "id": "f9bded1f",
   "metadata": {},
   "outputs": [
    {
     "name": "stdout",
     "output_type": "stream",
     "text": [
      "{3, 4, 5, 6, 7, 8, 9, 10, (12, 13), 'n', 45, 't', 56, 'o', 77, 'p', 'y', 'h', 98, 100, -2}\n"
     ]
    }
   ],
   "source": [
    "set4.update(\"python\")\n",
    "print(set4)"
   ]
  },
  {
   "cell_type": "code",
   "execution_count": 234,
   "id": "4a2958b5",
   "metadata": {},
   "outputs": [
    {
     "name": "stdout",
     "output_type": "stream",
     "text": [
      "{3, 4, 6, 7, 9, 10, (12, 13), 'n', 45, 't', 56, 'o', 77, 'p', 'y', 'h', 98, 100, -2}\n"
     ]
    }
   ],
   "source": [
    "set4.remove(5) # remove if the element is found in sequence it will remove\n",
    "# or if the element is not found it will throw an error\n",
    "print(set4)"
   ]
  },
  {
   "cell_type": "code",
   "execution_count": 251,
   "id": "091277e0",
   "metadata": {},
   "outputs": [
    {
     "ename": "KeyError",
     "evalue": "(6, 10)",
     "output_type": "error",
     "traceback": [
      "\u001b[1;31m---------------------------------------------------------------------------\u001b[0m",
      "\u001b[1;31mKeyError\u001b[0m                                  Traceback (most recent call last)",
      "Cell \u001b[1;32mIn[251], line 1\u001b[0m\n\u001b[1;32m----> 1\u001b[0m \u001b[43mset4\u001b[49m\u001b[38;5;241;43m.\u001b[39;49m\u001b[43mremove\u001b[49m\u001b[43m(\u001b[49m\u001b[43m(\u001b[49m\u001b[38;5;241;43m6\u001b[39;49m\u001b[43m,\u001b[49m\u001b[38;5;241;43m10\u001b[39;49m\u001b[43m)\u001b[49m\u001b[43m)\u001b[49m\n",
      "\u001b[1;31mKeyError\u001b[0m: (6, 10)"
     ]
    }
   ],
   "source": [
    "set4.remove((6,10))"
   ]
  },
  {
   "cell_type": "code",
   "execution_count": 250,
   "id": "7c65b12c",
   "metadata": {},
   "outputs": [
    {
     "name": "stdout",
     "output_type": "stream",
     "text": [
      "{3, 4, 6, 7, 9, 10, (12, 13), 'n', 45, 't', 56, 'o', 'p', 'y', 'h', 98, 100, -2}\n"
     ]
    }
   ],
   "source": [
    "set4.discard((6,10))\n",
    "print(set4)"
   ]
  },
  {
   "cell_type": "code",
   "execution_count": 255,
   "id": "26261b15",
   "metadata": {},
   "outputs": [
    {
     "name": "stdout",
     "output_type": "stream",
     "text": [
      "{3, 7, 9, (12, 13), 'n', 45, 't', 56, 'o', 'h', 98}\n"
     ]
    }
   ],
   "source": [
    "x = [\"p\",\"y\",-2,101]\n",
    "\n",
    "for i in x:\n",
    "    if i in set4:\n",
    "        set4.remove(i)\n",
    "        \n",
    "print(set4)    "
   ]
  },
  {
   "cell_type": "code",
   "execution_count": 256,
   "id": "59e76b67",
   "metadata": {},
   "outputs": [
    {
     "name": "stdout",
     "output_type": "stream",
     "text": [
      "[3, 4, 5, 6, 6, 7, 7, 8, 8, 89, 9, 9]\n",
      "[4, 5, 6, 6, 6, 6, 6, 6, 6, 6, 2, 2, 3, 3, 40, 9, 90]\n"
     ]
    }
   ],
   "source": [
    "A = [3,4,5,6,6,7,7,8,8,89,9,9]\n",
    "B = [4,5,6,6,6,6,6,6,6,6,2,2,3,3,40,9,90]\n",
    "print(A)\n",
    "print(B)"
   ]
  },
  {
   "cell_type": "code",
   "execution_count": 257,
   "id": "3392cdf0",
   "metadata": {},
   "outputs": [
    {
     "name": "stdout",
     "output_type": "stream",
     "text": [
      "{3, 4, 5, 6, 7, 8, 9, 89}\n",
      "{2, 3, 4, 5, 6, 40, 9, 90}\n"
     ]
    }
   ],
   "source": [
    "setA = set(A)\n",
    "setB = set(B)\n",
    "print(setA)\n",
    "print(setB)"
   ]
  },
  {
   "cell_type": "code",
   "execution_count": 260,
   "id": "32ad290c",
   "metadata": {},
   "outputs": [
    {
     "name": "stdout",
     "output_type": "stream",
     "text": [
      "{2, 3, 4, 5, 6, 7, 8, 9, 40, 89, 90}\n"
     ]
    },
    {
     "data": {
      "text/plain": [
       "{2, 3, 4, 5, 6, 7, 8, 9, 40, 89, 90}"
      ]
     },
     "execution_count": 260,
     "metadata": {},
     "output_type": "execute_result"
    }
   ],
   "source": [
    "# Union - Combines all the values from the given sets\n",
    "print(setA.union(setB))\n",
    "setA | setB     #OR"
   ]
  },
  {
   "cell_type": "code",
   "execution_count": 264,
   "id": "4ce32932",
   "metadata": {},
   "outputs": [
    {
     "name": "stdout",
     "output_type": "stream",
     "text": [
      "{3, 4, 5, 6, 9}\n"
     ]
    },
    {
     "data": {
      "text/plain": [
       "{3, 4, 5, 6, 9}"
      ]
     },
     "execution_count": 264,
     "metadata": {},
     "output_type": "execute_result"
    }
   ],
   "source": [
    "#Intersection - Intersection will only takes common values btw the given sets\n",
    "print(setA.intersection(setB))\n",
    "print(setA & setB)    # AND"
   ]
  },
  {
   "cell_type": "code",
   "execution_count": 269,
   "id": "8d59dc67",
   "metadata": {},
   "outputs": [
    {
     "name": "stdout",
     "output_type": "stream",
     "text": [
      "{8, 89, 7}\n",
      "{40, 2, 90}\n",
      "{8, 89, 7}\n",
      "{40, 2, 90}\n"
     ]
    }
   ],
   "source": [
    "#Difference-Difference will take only those values present in 1 particular set\n",
    "print(setA.difference(setB))\n",
    "print(setB.difference(setA))\n",
    "\n",
    "print(setA-setB)\n",
    "print(setB-setA)"
   ]
  },
  {
   "cell_type": "markdown",
   "id": "aa4f39f3",
   "metadata": {},
   "source": [
    "### Dictionaries\n",
    "Dictionary is a set of Key & value pair. It is a container that contains data, enclosed within curly braces.The pair i.e., key and value is known as item. The key passed in the item must be unique.\n",
    "\n"
   ]
  },
  {
   "cell_type": "code",
   "execution_count": 294,
   "id": "c5459d47",
   "metadata": {},
   "outputs": [
    {
     "name": "stdout",
     "output_type": "stream",
     "text": [
      "{1: 'A', 2: 'B'}\n",
      "{'name': ['John', 'Eric', 'Alex'], 'ID': [2, 4, 6], 'Marks': [36, 43, 39], 'random': [2, 4, 6]}\n",
      "36\n",
      "4\n"
     ]
    }
   ],
   "source": [
    "#Creating a dictionary\n",
    "my_d1={1:'A',2:'B'}\n",
    "print(my_d1)\n",
    "\n",
    "my_d2={\"name\":[\"John\",\"Eric\",\"Alex\"],\"ID\":[2,4,6],\n",
    "       \"Marks\":[34,45,38],\n",
    "       \"Marks\":[36,43,39],\"random\":[2,4,6]}\n",
    "print(my_d2)\n",
    "\n",
    "#print(my_d2[0])\n",
    "print(my_d2['Marks'][0])\n",
    "print(my_d2['ID'][-2])  # key indexing"
   ]
  },
  {
   "cell_type": "code",
   "execution_count": 289,
   "id": "10d8bbff",
   "metadata": {},
   "outputs": [
    {
     "data": {
      "text/html": [
       "<div>\n",
       "<style scoped>\n",
       "    .dataframe tbody tr th:only-of-type {\n",
       "        vertical-align: middle;\n",
       "    }\n",
       "\n",
       "    .dataframe tbody tr th {\n",
       "        vertical-align: top;\n",
       "    }\n",
       "\n",
       "    .dataframe thead th {\n",
       "        text-align: right;\n",
       "    }\n",
       "</style>\n",
       "<table border=\"1\" class=\"dataframe\">\n",
       "  <thead>\n",
       "    <tr style=\"text-align: right;\">\n",
       "      <th></th>\n",
       "      <th>name</th>\n",
       "      <th>ID</th>\n",
       "      <th>Marks</th>\n",
       "      <th>random</th>\n",
       "    </tr>\n",
       "  </thead>\n",
       "  <tbody>\n",
       "    <tr>\n",
       "      <th>0</th>\n",
       "      <td>John</td>\n",
       "      <td>2</td>\n",
       "      <td>36</td>\n",
       "      <td>2</td>\n",
       "    </tr>\n",
       "    <tr>\n",
       "      <th>1</th>\n",
       "      <td>Eric</td>\n",
       "      <td>4</td>\n",
       "      <td>43</td>\n",
       "      <td>4</td>\n",
       "    </tr>\n",
       "    <tr>\n",
       "      <th>2</th>\n",
       "      <td>Alex</td>\n",
       "      <td>6</td>\n",
       "      <td>39</td>\n",
       "      <td>6</td>\n",
       "    </tr>\n",
       "  </tbody>\n",
       "</table>\n",
       "</div>"
      ],
      "text/plain": [
       "   name  ID  Marks  random\n",
       "0  John   2     36       2\n",
       "1  Eric   4     43       4\n",
       "2  Alex   6     39       6"
      ]
     },
     "execution_count": 289,
     "metadata": {},
     "output_type": "execute_result"
    }
   ],
   "source": [
    "import pandas as pd\n",
    "data = pd.DataFrame(my_d2)\n",
    "data"
   ]
  },
  {
   "cell_type": "code",
   "execution_count": 290,
   "id": "596806d9",
   "metadata": {},
   "outputs": [
    {
     "name": "stdout",
     "output_type": "stream",
     "text": [
      "{'Name': 'Eric', 'age': 25}\n",
      "{'Name': 'Eric', 'age': 25, 'address': 'Mumbai'}\n"
     ]
    }
   ],
   "source": [
    "my_d={\"Name\":\"Eric\",\"age\":27}\n",
    "my_d['age']=25\n",
    "print(my_d)\n",
    "\n",
    "my_d['address']='Mumbai'\n",
    "print(my_d)"
   ]
  },
  {
   "cell_type": "code",
   "execution_count": 291,
   "id": "1894305e",
   "metadata": {},
   "outputs": [
    {
     "data": {
      "text/plain": [
       "{'name': ['John', 'Eric', 'Alex'],\n",
       " 'ID': [2, 4, 6],\n",
       " 'Marks': [36, 43, 39],\n",
       " 'random': [2, 4, 6]}"
      ]
     },
     "execution_count": 291,
     "metadata": {},
     "output_type": "execute_result"
    }
   ],
   "source": [
    "my_d2"
   ]
  },
  {
   "cell_type": "code",
   "execution_count": 295,
   "id": "c5e19268",
   "metadata": {},
   "outputs": [
    {
     "name": "stdout",
     "output_type": "stream",
     "text": [
      "{'name': ['John', 'Eric'], 'ID': [2, 4, 6], 'Marks': [36, 43, 39], 'random': [2, 4, 6]}\n"
     ]
    }
   ],
   "source": [
    "del my_d2[\"name\"][2]\n",
    "print(my_d2)"
   ]
  },
  {
   "cell_type": "code",
   "execution_count": 296,
   "id": "c2ccaa54",
   "metadata": {
    "collapsed": true
   },
   "outputs": [
    {
     "data": {
      "text/plain": [
       "{'name': ['John', 'Eric'],\n",
       " 'ID': [2, 4, 6],\n",
       " 'Marks': [36, 43, 39],\n",
       " 'random': [2, 6]}"
      ]
     },
     "execution_count": 296,
     "metadata": {},
     "output_type": "execute_result"
    }
   ],
   "source": [
    "del my_d2[\"random\"][-2]\n",
    "my_d2"
   ]
  },
  {
   "cell_type": "code",
   "execution_count": 299,
   "id": "59dafb10",
   "metadata": {},
   "outputs": [
    {
     "name": "stdout",
     "output_type": "stream",
     "text": [
      "{'name': ['Hitesh', 'Eric'], 'ID': [2, 4, 6], 'Marks': [36, 43, 39], 'random': [2, 6]}\n",
      "{'name': ['Hitesh', 'Eric', 'Sam'], 'ID': [2, 4, 6], 'Marks': [36, 43, 39], 'random': [2, 6]}\n"
     ]
    }
   ],
   "source": [
    "my_d2[\"name\"][0]=\"Hitesh\"\n",
    "print(my_d2)\n",
    "my_d2['name'].append('Sam')\n",
    "print(my_d2)"
   ]
  },
  {
   "cell_type": "code",
   "execution_count": 300,
   "id": "509baa9d",
   "metadata": {},
   "outputs": [
    {
     "data": {
      "text/plain": [
       "{'name': ['Hitesh', 'Eric', 'Roy', 'Sam'],\n",
       " 'ID': [2, 4, 6],\n",
       " 'Marks': [36, 43, 39],\n",
       " 'random': [2, 6]}"
      ]
     },
     "execution_count": 300,
     "metadata": {},
     "output_type": "execute_result"
    }
   ],
   "source": [
    "my_d2['name'].insert(2,\"Roy\")\n",
    "my_d2"
   ]
  },
  {
   "cell_type": "markdown",
   "id": "ef4ca3c1",
   "metadata": {},
   "source": [
    "clear() : The clear() method removes all items from the dictionary"
   ]
  },
  {
   "cell_type": "code",
   "execution_count": 301,
   "id": "352efe42",
   "metadata": {},
   "outputs": [
    {
     "name": "stdout",
     "output_type": "stream",
     "text": [
      "{}\n"
     ]
    }
   ],
   "source": [
    "dict1 = {1:'Python',2:'Java',3:'C++',4:'PHP'}\n",
    "\n",
    "dict1.clear()\n",
    "print(dict1)"
   ]
  },
  {
   "cell_type": "markdown",
   "id": "98a6f38a",
   "metadata": {},
   "source": [
    "copy() : The copy() method returns the copy of the dictionary"
   ]
  },
  {
   "cell_type": "code",
   "execution_count": 302,
   "id": "3c531f1d",
   "metadata": {},
   "outputs": [
    {
     "name": "stdout",
     "output_type": "stream",
     "text": [
      "{1: 'Python', 2: 'Java', 3: 'C++', 4: 'PHP'}\n"
     ]
    }
   ],
   "source": [
    "dict1 = {1:'Python',2:'Java',3:'C++',4:'PHP'}\n",
    "dict2 = dict1.copy()\n",
    "print(dict2)"
   ]
  },
  {
   "cell_type": "markdown",
   "id": "0b68990a",
   "metadata": {},
   "source": [
    "items() : The method items() returns a list of items(key,value) tuple pairs"
   ]
  },
  {
   "cell_type": "code",
   "execution_count": 303,
   "id": "3c4378b3",
   "metadata": {},
   "outputs": [],
   "source": [
    "dict1 = {1:'Python',2:'Java',3:'C++',4:'PHP'}"
   ]
  },
  {
   "cell_type": "code",
   "execution_count": 305,
   "id": "e902ada5",
   "metadata": {
    "collapsed": true
   },
   "outputs": [
    {
     "name": "stdout",
     "output_type": "stream",
     "text": [
      "dict_items([(1, 'Python'), (2, 'Java'), (3, 'C++'), (4, 'PHP')])\n"
     ]
    },
    {
     "data": {
      "text/plain": [
       "4"
      ]
     },
     "execution_count": 305,
     "metadata": {},
     "output_type": "execute_result"
    }
   ],
   "source": [
    "print(dict1.items())\n",
    "len(dict1)"
   ]
  },
  {
   "cell_type": "markdown",
   "id": "ca073bae",
   "metadata": {},
   "source": [
    "keys() : The method keys() returns a list of all the available keys in the dictionary."
   ]
  },
  {
   "cell_type": "code",
   "execution_count": 306,
   "id": "a05d02a0",
   "metadata": {},
   "outputs": [
    {
     "data": {
      "text/plain": [
       "dict_keys([1, 2, 3, 4])"
      ]
     },
     "execution_count": 306,
     "metadata": {},
     "output_type": "execute_result"
    }
   ],
   "source": [
    "dict1 = {1:'Python',2:'Java',3:'C++',4:'PHP'}\n",
    "dict1.keys()"
   ]
  },
  {
   "cell_type": "markdown",
   "id": "7781c921",
   "metadata": {},
   "source": [
    "values() : The method values() returns a list of all the values available in the given dictionary"
   ]
  },
  {
   "cell_type": "code",
   "execution_count": 307,
   "id": "406b4f64",
   "metadata": {},
   "outputs": [
    {
     "data": {
      "text/plain": [
       "dict_values(['Python', 'Java', 'C++', 'PHP'])"
      ]
     },
     "execution_count": 307,
     "metadata": {},
     "output_type": "execute_result"
    }
   ],
   "source": [
    "dict1 = {1:'Python',2:'Java',3:'C++',4:'PHP'}\n",
    "dict1.values()"
   ]
  },
  {
   "cell_type": "code",
   "execution_count": null,
   "id": "e71b624a",
   "metadata": {},
   "outputs": [],
   "source": []
  }
 ],
 "metadata": {
  "kernelspec": {
   "display_name": "Python 3 (ipykernel)",
   "language": "python",
   "name": "python3"
  },
  "language_info": {
   "codemirror_mode": {
    "name": "ipython",
    "version": 3
   },
   "file_extension": ".py",
   "mimetype": "text/x-python",
   "name": "python",
   "nbconvert_exporter": "python",
   "pygments_lexer": "ipython3",
   "version": "3.11.3"
  }
 },
 "nbformat": 4,
 "nbformat_minor": 5
}
