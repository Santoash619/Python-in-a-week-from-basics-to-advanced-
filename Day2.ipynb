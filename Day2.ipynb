{
 "cells": [
  {
   "cell_type": "markdown",
   "id": "7e174fa9",
   "metadata": {},
   "source": [
    "Operators - Operators are use to perform operations on variables & values  \n",
    "Assignment operators - use to assign values to variables."
   ]
  },
  {
   "cell_type": "code",
   "execution_count": 1,
   "id": "5ca417bf",
   "metadata": {},
   "outputs": [
    {
     "name": "stdout",
     "output_type": "stream",
     "text": [
      "45\n",
      "am\n"
     ]
    }
   ],
   "source": [
    "#Asssigning the value to a variable always happens with \"=\"\n",
    "a = 45\n",
    "print(a)\n",
    "\n",
    "a=\"am\"\n",
    "print(a)"
   ]
  },
  {
   "cell_type": "code",
   "execution_count": 2,
   "id": "f9d3291d",
   "metadata": {},
   "outputs": [],
   "source": [
    "x=5"
   ]
  },
  {
   "cell_type": "code",
   "execution_count": 3,
   "id": "7a4cc9ce",
   "metadata": {},
   "outputs": [
    {
     "name": "stdout",
     "output_type": "stream",
     "text": [
      "7\n"
     ]
    }
   ],
   "source": [
    "x=x+2\n",
    "print(x)"
   ]
  },
  {
   "cell_type": "code",
   "execution_count": 4,
   "id": "545a3287",
   "metadata": {},
   "outputs": [
    {
     "name": "stdout",
     "output_type": "stream",
     "text": [
      "9\n"
     ]
    }
   ],
   "source": [
    "x+=2\n",
    "print(x)"
   ]
  },
  {
   "cell_type": "code",
   "execution_count": 6,
   "id": "87db52e1",
   "metadata": {},
   "outputs": [
    {
     "data": {
      "text/plain": [
       "100"
      ]
     },
     "execution_count": 6,
     "metadata": {},
     "output_type": "execute_result"
    }
   ],
   "source": [
    "b=100\n",
    "b"
   ]
  },
  {
   "cell_type": "code",
   "execution_count": 7,
   "id": "4e06feb4",
   "metadata": {},
   "outputs": [
    {
     "name": "stdout",
     "output_type": "stream",
     "text": [
      "90\n"
     ]
    }
   ],
   "source": [
    "b=b-10\n",
    "print(b)"
   ]
  },
  {
   "cell_type": "code",
   "execution_count": 8,
   "id": "1c90c61d",
   "metadata": {},
   "outputs": [
    {
     "name": "stdout",
     "output_type": "stream",
     "text": [
      "80\n"
     ]
    }
   ],
   "source": [
    "b-=10\n",
    "print(b)"
   ]
  },
  {
   "cell_type": "code",
   "execution_count": 9,
   "id": "84c0b022",
   "metadata": {},
   "outputs": [],
   "source": [
    "x=2"
   ]
  },
  {
   "cell_type": "code",
   "execution_count": 10,
   "id": "2ffc35bd",
   "metadata": {},
   "outputs": [
    {
     "name": "stdout",
     "output_type": "stream",
     "text": [
      "4\n"
     ]
    }
   ],
   "source": [
    "x*=2\n",
    "print(x)"
   ]
  },
  {
   "cell_type": "markdown",
   "id": "b1b063be",
   "metadata": {},
   "source": [
    "Arithmetic operators(mathematical operators) - Operations will be based upon the mathematical tasks like addition, substraction , multiplication,etc."
   ]
  },
  {
   "cell_type": "code",
   "execution_count": 11,
   "id": "3bbc0141",
   "metadata": {},
   "outputs": [
    {
     "name": "stdout",
     "output_type": "stream",
     "text": [
      "13\n",
      "1\n",
      "16\n",
      "2.5\n",
      "2\n",
      "4\n",
      "10000\n"
     ]
    }
   ],
   "source": [
    "print(6+7)  #addition\n",
    "print(3-2)   #subtraction\n",
    "print(4*4)   #multiplication\n",
    "print(10/4)   #division\n",
    "print(10//4)   #floor division\n",
    "print(10%6)   #modulus operator\n",
    "print(10**4)  #power"
   ]
  },
  {
   "cell_type": "code",
   "execution_count": 12,
   "id": "ab732859",
   "metadata": {},
   "outputs": [],
   "source": [
    "a=10\n",
    "b=40"
   ]
  },
  {
   "cell_type": "code",
   "execution_count": 13,
   "id": "f5870b13",
   "metadata": {},
   "outputs": [
    {
     "name": "stdout",
     "output_type": "stream",
     "text": [
      "50\n",
      "-30\n",
      "400\n",
      "0.25\n"
     ]
    }
   ],
   "source": [
    "add = a+b\n",
    "print(add)\n",
    "\n",
    "sub = a-b\n",
    "print(sub)\n",
    "\n",
    "mul = a*b\n",
    "print(mul)\n",
    "\n",
    "div = a/b\n",
    "print(div)"
   ]
  },
  {
   "cell_type": "code",
   "execution_count": null,
   "id": "64ea603b",
   "metadata": {},
   "outputs": [],
   "source": []
  },
  {
   "cell_type": "markdown",
   "id": "22f36eca",
   "metadata": {},
   "source": [
    "Relational Operators - Relational Operators try to built up some relationship between the values Or variables."
   ]
  },
  {
   "cell_type": "code",
   "execution_count": 14,
   "id": "dc0fd19d",
   "metadata": {},
   "outputs": [
    {
     "name": "stdout",
     "output_type": "stream",
     "text": [
      "True\n",
      "True\n",
      "False\n",
      "True\n",
      "True\n",
      "False\n",
      "True\n",
      "\n",
      "False\n",
      "True\n",
      "True\n",
      "False\n",
      "True\n",
      "True\n",
      "False\n",
      "8\n"
     ]
    }
   ],
   "source": [
    "# Relational Operator\n",
    "print(3 > 2)     # True, because 3 is greater than 2\n",
    "print(3 >= 2)    # True, because 3 is greater than 2\n",
    "print(3 < 2)     # False,  because 3 is greater than 2\n",
    "print(2 < 3)     # True, because 2 is less than 3\n",
    "print(2 <= 3)    # True, because 2 is less than 3\n",
    "print(3 == 2)    # False, because 3 is not equal to 2\n",
    "print(3 != 2)    # True, because 3 is not equal to 2\n",
    "print()\n",
    "print(len('mango') == len('avocado'))  # False\n",
    "print(len('mango') != len('avocado'))  # True\n",
    "print(len('mango') < len('avocado'))   # True\n",
    "print(len('milk') != len('meat'))      # False\n",
    "print(len('milk') == len('meat'))      # True\n",
    "print(len('tomato') == len('potato'))  # True\n",
    "print(len('python') > len('dragon'))   # False\n",
    "print(len('alphabet'))"
   ]
  },
  {
   "cell_type": "code",
   "execution_count": 1,
   "id": "aaf299c1",
   "metadata": {},
   "outputs": [
    {
     "name": "stdout",
     "output_type": "stream",
     "text": [
      "hhsiehdf\n"
     ]
    }
   ],
   "source": [
    "name=\"hhsiehdf\"\n",
    "print(name)"
   ]
  },
  {
   "cell_type": "markdown",
   "id": "5b66ae6a",
   "metadata": {},
   "source": [
    "Logic Operator - Logical operators have 'and',' or ', 'not'"
   ]
  },
  {
   "cell_type": "code",
   "execution_count": 16,
   "id": "bb224ea5",
   "metadata": {},
   "outputs": [],
   "source": [
    "x=5\n",
    "y=6\n",
    "z=10"
   ]
  },
  {
   "cell_type": "code",
   "execution_count": 17,
   "id": "5ef8a62b",
   "metadata": {},
   "outputs": [
    {
     "name": "stdout",
     "output_type": "stream",
     "text": [
      "False\n"
     ]
    }
   ],
   "source": [
    "print(x!=2 and y<=4 and z==10)"
   ]
  },
  {
   "cell_type": "code",
   "execution_count": 18,
   "id": "caa2e1e2",
   "metadata": {},
   "outputs": [
    {
     "name": "stdout",
     "output_type": "stream",
     "text": [
      "True\n"
     ]
    }
   ],
   "source": [
    "print(x>=3 or y==4 or z!=10)"
   ]
  },
  {
   "cell_type": "code",
   "execution_count": 19,
   "id": "24e19153",
   "metadata": {},
   "outputs": [
    {
     "name": "stdout",
     "output_type": "stream",
     "text": [
      "False\n"
     ]
    }
   ],
   "source": [
    "print(not x!=3)"
   ]
  },
  {
   "cell_type": "code",
   "execution_count": 20,
   "id": "a46c43a0",
   "metadata": {},
   "outputs": [
    {
     "name": "stdout",
     "output_type": "stream",
     "text": [
      "True\n"
     ]
    }
   ],
   "source": [
    "value1=True\n",
    "value2=False\n",
    "\n",
    "print(value1 or value2)"
   ]
  },
  {
   "cell_type": "markdown",
   "id": "f53e759f",
   "metadata": {},
   "source": [
    "Identity Operators - They try to check if the variables are identical or not\n",
    "\n",
    "is - TRUE when both the variables have same values  \n",
    "is not - TRUE if both the variables do not same values"
   ]
  },
  {
   "cell_type": "code",
   "execution_count": 21,
   "id": "ccc1da21",
   "metadata": {},
   "outputs": [
    {
     "name": "stdout",
     "output_type": "stream",
     "text": [
      "False\n"
     ]
    }
   ],
   "source": [
    "a='10'\n",
    "b=15\n",
    "\n",
    "x=10\n",
    "y=10\n",
    "\n",
    "print(a==x)"
   ]
  },
  {
   "cell_type": "code",
   "execution_count": 22,
   "id": "1bd037e0",
   "metadata": {},
   "outputs": [
    {
     "name": "stdout",
     "output_type": "stream",
     "text": [
      "True\n",
      "True\n",
      "True\n",
      "False\n"
     ]
    }
   ],
   "source": [
    "print(a is not b)\n",
    "print(x is not a)\n",
    "print(x is y)\n",
    "print(x is b)"
   ]
  },
  {
   "cell_type": "markdown",
   "id": "45f19f2e",
   "metadata": {},
   "source": [
    "Membership Operator - Try to find the values used are part or members of particular sequence(list,tuples,dictionaries,sets,strings)\n",
    "\n",
    "in - TRUE when the values or variable is a part of the sequence  \n",
    "not in - TRUE when the values or variables are not part of the sequence\n",
    "\n"
   ]
  },
  {
   "cell_type": "code",
   "execution_count": 23,
   "id": "af0cb4df",
   "metadata": {},
   "outputs": [
    {
     "name": "stdout",
     "output_type": "stream",
     "text": [
      "False\n"
     ]
    }
   ],
   "source": [
    "name = \"riya Joshi\"\n",
    "print(\"x\" in name)"
   ]
  },
  {
   "cell_type": "code",
   "execution_count": 24,
   "id": "238f09a9",
   "metadata": {},
   "outputs": [
    {
     "name": "stdout",
     "output_type": "stream",
     "text": [
      "True\n",
      "False\n"
     ]
    }
   ],
   "source": [
    "l1 = [34,56,78,890,0]\n",
    "\n",
    "print(34 in l1)\n",
    "print(890 not in l1)"
   ]
  },
  {
   "cell_type": "markdown",
   "id": "dd1a2e92",
   "metadata": {},
   "source": [
    "### Conditional statements\n",
    "In Python, Conditional statements are used to test specified condition or given set of conditions"
   ]
  },
  {
   "cell_type": "code",
   "execution_count": 116,
   "id": "2c91db3f",
   "metadata": {},
   "outputs": [
    {
     "name": "stdout",
     "output_type": "stream",
     "text": [
      "You have passed the test\n"
     ]
    }
   ],
   "source": [
    "#If-statement\n",
    "\n",
    "marks = 80\n",
    "if marks>40:\n",
    "    print(\"You have passed the test\")"
   ]
  },
  {
   "cell_type": "code",
   "execution_count": 4,
   "id": "9c1e67cb",
   "metadata": {},
   "outputs": [
    {
     "name": "stdout",
     "output_type": "stream",
     "text": [
      "Enter your age: 19\n",
      "Eligible!\n"
     ]
    }
   ],
   "source": [
    "age = int(input(\"Enter your age: \"))\n",
    "\n",
    "if age>=18:\n",
    "    print(\"Eligible!\")"
   ]
  },
  {
   "cell_type": "code",
   "execution_count": 29,
   "id": "873f98ff",
   "metadata": {},
   "outputs": [
    {
     "name": "stdout",
     "output_type": "stream",
     "text": [
      "Enter your marks: 41\n",
      "You are passing the test\n"
     ]
    }
   ],
   "source": [
    "#If-else statements\n",
    "\n",
    "marks = int(input(\"Enter your marks: \"))\n",
    "\n",
    "if marks > 40:\n",
    "    print(\"You are passing the test\")\n",
    "else:\n",
    "    print(\"You are failing the test\")"
   ]
  },
  {
   "cell_type": "code",
   "execution_count": 25,
   "id": "48db22b3",
   "metadata": {},
   "outputs": [
    {
     "name": "stdout",
     "output_type": "stream",
     "text": [
      "Enter your scores: 59\n",
      "The score is in given range\n"
     ]
    }
   ],
   "source": [
    "scores = int(input(\"Enter your scores: \"))\n",
    "if (scores>=30) and (scores <=80):\n",
    "    print(\"The score is in given range\")\n",
    "else:\n",
    "    print(\"The score is out of range\")"
   ]
  },
  {
   "cell_type": "code",
   "execution_count": 32,
   "id": "2f60ca2e",
   "metadata": {},
   "outputs": [
    {
     "name": "stdout",
     "output_type": "stream",
     "text": [
      "Enter your no.: 56\n",
      "It's an even number\n"
     ]
    }
   ],
   "source": [
    "num = int(input(\"Enter your no.: \"))\n",
    "\n",
    "if num%2==0:\n",
    "    print(\"It's an even number\")\n",
    "else:\n",
    "    print(\"The number is odd\")"
   ]
  },
  {
   "cell_type": "code",
   "execution_count": 37,
   "id": "d09f5381",
   "metadata": {},
   "outputs": [
    {
     "name": "stdout",
     "output_type": "stream",
     "text": [
      "Enter the marks: 54\n",
      "Grade 'D'\n"
     ]
    }
   ],
   "source": [
    "#IF-Elif-Elif-Else Statement\n",
    "marks = int(input(\"Enter the marks: \"))\n",
    "\n",
    "if marks >= 80:\n",
    "    print(\"Grade 'A'\")\n",
    "elif marks >=65:\n",
    "    print(\"Grade 'B'\")\n",
    "elif marks >= 55:\n",
    "    print(\"Grade 'C'\")\n",
    "else:\n",
    "    print(\"Grade 'D'\")"
   ]
  },
  {
   "cell_type": "code",
   "execution_count": 41,
   "id": "ce23b107",
   "metadata": {},
   "outputs": [
    {
     "name": "stdout",
     "output_type": "stream",
     "text": [
      "Enter your Salary: 670000\n",
      "The person belongs to 2nd Salary bracket\n"
     ]
    }
   ],
   "source": [
    "Salary = int(input(\"Enter your Salary: \"))\n",
    "\n",
    "if Salary > 700000:\n",
    "    print(\"The person belongs to 1st Salary bracket\")\n",
    "elif Salary > 500000:\n",
    "    print(\"The person belongs to 2nd Salary bracket\")\n",
    "elif Salary > 300000:\n",
    "    print(\"The person belongs to 3rd Salary bracket\")\n",
    "else:\n",
    "    print(\"The person belongs to 4th Salary bracket\")"
   ]
  },
  {
   "cell_type": "code",
   "execution_count": 43,
   "id": "5bf076e7",
   "metadata": {},
   "outputs": [
    {
     "name": "stdout",
     "output_type": "stream",
     "text": [
      "y is not greater than 30\n"
     ]
    }
   ],
   "source": [
    "#Nested If-else\n",
    "x=0\n",
    "y=30\n",
    "\n",
    "if x>y:\n",
    "    if x>60:\n",
    "        print(\"x is greater\")\n",
    "    else:\n",
    "        print(\"x is not greater than 60\")\n",
    "else:\n",
    "    if y>30:\n",
    "        print(\"y is greater\")\n",
    "    else:\n",
    "        print(\"y is not greater than 30\")"
   ]
  },
  {
   "cell_type": "code",
   "execution_count": 148,
   "id": "8877ae71",
   "metadata": {},
   "outputs": [
    {
     "name": "stdout",
     "output_type": "stream",
     "text": [
      "A is less than B\n"
     ]
    }
   ],
   "source": [
    "a=10\n",
    "b=30\n",
    "\n",
    "if a<b:\n",
    "    print(\"A is less than B\")\n",
    "else:\n",
    "    if a==b:\n",
    "        print(\"A is equals to B\")\n",
    "    else:\n",
    "        print(\"A is not equals to B\")"
   ]
  }
 ],
 "metadata": {
  "kernelspec": {
   "display_name": "Python 3 (ipykernel)",
   "language": "python",
   "name": "python3"
  },
  "language_info": {
   "codemirror_mode": {
    "name": "ipython",
    "version": 3
   },
   "file_extension": ".py",
   "mimetype": "text/x-python",
   "name": "python",
   "nbconvert_exporter": "python",
   "pygments_lexer": "ipython3",
   "version": "3.11.3"
  }
 },
 "nbformat": 4,
 "nbformat_minor": 5
}
