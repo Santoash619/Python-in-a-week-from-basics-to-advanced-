{
 "cells": [
  {
   "cell_type": "markdown",
   "id": "d3f05383",
   "metadata": {},
   "source": [
    "### Loops:\n",
    "Loop is a programming construct that allows to execute same logic by repeating multiple no. of times"
   ]
  },
  {
   "cell_type": "code",
   "execution_count": 6,
   "id": "fc41d22a",
   "metadata": {},
   "outputs": [],
   "source": [
    "# While Loop - It's an programming contruct which executes \n",
    "# the logic only till the given condition in TRUE"
   ]
  },
  {
   "cell_type": "code",
   "execution_count": 13,
   "id": "6da12772",
   "metadata": {},
   "outputs": [
    {
     "name": "stdout",
     "output_type": "stream",
     "text": [
      "1\n",
      "2\n",
      "3\n",
      "4\n",
      "5\n",
      "6\n",
      "7\n",
      "8\n",
      "9\n",
      "10\n",
      "11\n"
     ]
    }
   ],
   "source": [
    "\"\"\"\n",
    "While Loop - It's an programming contruct which executes \n",
    "the loop only till the given condition in TRUE. It will terminate\n",
    "once the condition given turns out FALSE.\n",
    "\n",
    "\"\"\"\n",
    "count = 0   #INITIALIZER\n",
    "\n",
    "while (count<=10):\n",
    "    count+=1  #pre-increment\n",
    "    print(count)\n",
    "    # count = count + 1  #post-increment"
   ]
  },
  {
   "cell_type": "code",
   "execution_count": 14,
   "id": "2ffc9fc3",
   "metadata": {},
   "outputs": [
    {
     "name": "stdout",
     "output_type": "stream",
     "text": [
      "1\n",
      "2\n",
      "3\n",
      "4\n",
      "5\n",
      "Out of loop!\n"
     ]
    }
   ],
   "source": [
    "# Lower to Higher value give increment\n",
    "i=1\n",
    "while i<6:\n",
    "    print(i)\n",
    "    i+=1\n",
    "    \n",
    "else:\n",
    "    print(\"Out of loop!\")"
   ]
  },
  {
   "cell_type": "code",
   "execution_count": 18,
   "id": "ea475fd0",
   "metadata": {},
   "outputs": [
    {
     "name": "stdout",
     "output_type": "stream",
     "text": [
      "100\n",
      "95\n",
      "90\n",
      "85\n",
      "80\n",
      "75\n",
      "70\n",
      "65\n",
      "60\n",
      "55\n"
     ]
    }
   ],
   "source": [
    "#Higher to lower value decrement is done\n",
    "value = 100\n",
    "\n",
    "while value>50:\n",
    "    print(value)\n",
    "    value-=5"
   ]
  },
  {
   "cell_type": "code",
   "execution_count": 20,
   "id": "17fc6386",
   "metadata": {},
   "outputs": [
    {
     "name": "stdout",
     "output_type": "stream",
     "text": [
      "100 The number is Even\n",
      "99 The number is Odd\n",
      "98 The number is Even\n",
      "97 The number is Odd\n",
      "96 The number is Even\n",
      "95 The number is Odd\n",
      "94 The number is Even\n",
      "93 The number is Odd\n",
      "92 The number is Even\n",
      "91 The number is Odd\n",
      "90 The number is Even\n",
      "89 The number is Odd\n",
      "88 The number is Even\n",
      "87 The number is Odd\n",
      "86 The number is Even\n",
      "85 The number is Odd\n",
      "84 The number is Even\n",
      "83 The number is Odd\n",
      "82 The number is Even\n",
      "81 The number is Odd\n",
      "80 The number is Even\n",
      "79 The number is Odd\n",
      "78 The number is Even\n",
      "77 The number is Odd\n",
      "76 The number is Even\n",
      "75 The number is Odd\n",
      "74 The number is Even\n",
      "73 The number is Odd\n",
      "72 The number is Even\n",
      "71 The number is Odd\n",
      "70 The number is Even\n",
      "69 The number is Odd\n",
      "68 The number is Even\n",
      "67 The number is Odd\n",
      "66 The number is Even\n",
      "65 The number is Odd\n",
      "64 The number is Even\n",
      "63 The number is Odd\n",
      "62 The number is Even\n",
      "61 The number is Odd\n",
      "60 The number is Even\n",
      "59 The number is Odd\n",
      "58 The number is Even\n",
      "57 The number is Odd\n",
      "56 The number is Even\n",
      "55 The number is Odd\n",
      "54 The number is Even\n",
      "53 The number is Odd\n",
      "52 The number is Even\n",
      "51 The number is Odd\n"
     ]
    }
   ],
   "source": [
    "num = 100\n",
    "while num>50:\n",
    "    if num%2==0:\n",
    "        print(num,\"The number is Even\")\n",
    "    else:\n",
    "        print(num,\"The number is Odd\")\n",
    "    num-=1"
   ]
  },
  {
   "cell_type": "code",
   "execution_count": 23,
   "id": "a8788f1a",
   "metadata": {},
   "outputs": [
    {
     "name": "stdout",
     "output_type": "stream",
     "text": [
      "0 The number is divisible by 5 & 10\n",
      "5 The number is divisible by only 5\n",
      "10 The number is divisible by 5 & 10\n",
      "15 The number is divisible by only 5\n",
      "20 The number is divisible by 5 & 10\n",
      "25 The number is divisible by only 5\n",
      "30 The number is divisible by 5 & 10\n",
      "35 The number is divisible by only 5\n",
      "40 The number is divisible by 5 & 10\n",
      "45 The number is divisible by only 5\n",
      "50 The number is divisible by 5 & 10\n",
      "55 The number is divisible by only 5\n",
      "60 The number is divisible by 5 & 10\n",
      "65 The number is divisible by only 5\n",
      "70 The number is divisible by 5 & 10\n",
      "75 The number is divisible by only 5\n",
      "80 The number is divisible by 5 & 10\n",
      "85 The number is divisible by only 5\n",
      "90 The number is divisible by 5 & 10\n",
      "95 The number is divisible by only 5\n",
      "100 The number is divisible by 5 & 10\n"
     ]
    }
   ],
   "source": [
    "num = 0\n",
    "\n",
    "while num<=100:\n",
    "    if (num%5==0) and (num%10==0):\n",
    "        print(num,\"The number is divisible by 5 & 10\")\n",
    "    else:\n",
    "        print(num,\"The number is divisible by only 5\")\n",
    "    num+=5"
   ]
  },
  {
   "cell_type": "code",
   "execution_count": 24,
   "id": "8749f711",
   "metadata": {},
   "outputs": [],
   "source": [
    "# For Loop - It's an iterative loop as it traverses/iterates to all the elements \n",
    "# in the sequence/collection & stops only after all the elements in sequence\n",
    "# are completed"
   ]
  },
  {
   "cell_type": "code",
   "execution_count": 25,
   "id": "a8d66fb2",
   "metadata": {},
   "outputs": [
    {
     "name": "stdout",
     "output_type": "stream",
     "text": [
      "[0, 1, 2, 3, 4, 5, 6, 7, 8, 9, 10]\n"
     ]
    }
   ],
   "source": [
    "numbers = list(range(11))\n",
    "print(numbers)"
   ]
  },
  {
   "cell_type": "code",
   "execution_count": 27,
   "id": "1b85138f",
   "metadata": {},
   "outputs": [
    {
     "name": "stdout",
     "output_type": "stream",
     "text": [
      "0\n",
      "2\n",
      "4\n",
      "6\n",
      "8\n",
      "10\n",
      "12\n",
      "14\n",
      "16\n",
      "18\n",
      "20\n"
     ]
    }
   ],
   "source": [
    "for x in numbers:\n",
    "    print(x*2)"
   ]
  },
  {
   "cell_type": "code",
   "execution_count": 34,
   "id": "c6be62e0",
   "metadata": {},
   "outputs": [
    {
     "name": "stdout",
     "output_type": "stream",
     "text": [
      "Hello Eric !\n",
      "Hello Ross !\n",
      "Hello Jay !\n",
      "Hello Riya !\n",
      "Hello Ajay !\n"
     ]
    }
   ],
   "source": [
    "names = [\"Eric\",\"Ross\",\"Jay\",\"Riya\",\"Ajay\"]\n",
    "\n",
    "for value in names:\n",
    "    print(\"Hello\",value,\"!\")"
   ]
  },
  {
   "cell_type": "code",
   "execution_count": 35,
   "id": "f9d296c8",
   "metadata": {},
   "outputs": [
    {
     "name": "stdout",
     "output_type": "stream",
     "text": [
      "There are 7 even numbers in list\n",
      "There are 6 odd numbers in list\n"
     ]
    }
   ],
   "source": [
    "num_list = [34,56,22,55,66,777,8,1,2,3,3,44,7]\n",
    "even = 0\n",
    "odd = 0\n",
    "for i in num_list:\n",
    "    if i%2==0:\n",
    "        even+=1\n",
    "    else:\n",
    "        odd+=1\n",
    "        \n",
    "print(\"There are\",even,\"even numbers in list\")\n",
    "print(\"There are\",odd,\"odd numbers in list\")"
   ]
  },
  {
   "cell_type": "code",
   "execution_count": 7,
   "id": "b6389177",
   "metadata": {},
   "outputs": [
    {
     "name": "stdout",
     "output_type": "stream",
     "text": [
      "5 * 1 = 5\n",
      "5 * 2 = 10\n",
      "5 * 3 = 15\n",
      "5 * 4 = 20\n",
      "5 * 5 = 25\n",
      "5 * 6 = 30\n",
      "5 * 7 = 35\n",
      "5 * 8 = 40\n",
      "5 * 9 = 45\n",
      "5 * 10 = 50\n"
     ]
    }
   ],
   "source": [
    "num = 1\n",
    "while num<=10:\n",
    "    print(\"5 *\",num,\"=\",5*num)\n",
    "    num+=1"
   ]
  },
  {
   "cell_type": "code",
   "execution_count": 39,
   "id": "bde65e9b",
   "metadata": {},
   "outputs": [
    {
     "name": "stdout",
     "output_type": "stream",
     "text": [
      "5 * 1 = 5\n",
      "5 * 2 = 10\n",
      "5 * 3 = 15\n",
      "5 * 4 = 20\n",
      "5 * 5 = 25\n",
      "5 * 6 = 30\n",
      "5 * 7 = 35\n",
      "5 * 8 = 40\n",
      "5 * 9 = 45\n",
      "5 * 10 = 50\n"
     ]
    }
   ],
   "source": [
    "num_list = list(range(1,11))\n",
    "for i in num_list:\n",
    "    print(\"5 *\",i,\"=\",5*i)"
   ]
  },
  {
   "cell_type": "markdown",
   "id": "80a0219e",
   "metadata": {},
   "source": [
    "#### Break statement:\n",
    "In Python , the break statement provides you with the opportunity to exit out of the loop when an external condition is triggered."
   ]
  },
  {
   "cell_type": "code",
   "execution_count": 40,
   "id": "05372a86",
   "metadata": {},
   "outputs": [
    {
     "name": "stdout",
     "output_type": "stream",
     "text": [
      "Number is  1\n",
      "Number is  2\n",
      "Number is  3\n",
      "Number is  4\n",
      "Out of Loop!\n"
     ]
    }
   ],
   "source": [
    "number = 0\n",
    "for number in range(10):\n",
    "    number+=1\n",
    "    if number == 5:\n",
    "        break\n",
    "    print(\"Number is   \",number)\n",
    "    \n",
    "print(\"Out of Loop!\")"
   ]
  },
  {
   "cell_type": "code",
   "execution_count": 45,
   "id": "0d298d02",
   "metadata": {},
   "outputs": [
    {
     "name": "stdout",
     "output_type": "stream",
     "text": [
      "Enter your no.1\n",
      "It is a prime number\n"
     ]
    }
   ],
   "source": [
    "num = int(input('Enter your no.' ))\n",
    "for x in range(2,num):\n",
    "    if x>1:\n",
    "        if num % x == 0:\n",
    "            print(\"Not a prime number\")\n",
    "            break\n",
    "else:\n",
    "    print(\"It is a prime number\")"
   ]
  },
  {
   "cell_type": "markdown",
   "id": "f8095c11",
   "metadata": {},
   "source": [
    "#### Continue Statement:\n",
    "In Python , Continue statement is a jump statement which is used to skip execution of current iterartion. After skipping loop continues with next iteration."
   ]
  },
  {
   "cell_type": "code",
   "execution_count": 46,
   "id": "21251a3d",
   "metadata": {},
   "outputs": [
    {
     "name": "stdout",
     "output_type": "stream",
     "text": [
      "1\n",
      "3\n",
      "5\n",
      "Loop ends over here!\n"
     ]
    }
   ],
   "source": [
    "a=0\n",
    "while a<=5:\n",
    "    a=a+1\n",
    "    if a%2==0:\n",
    "        continue\n",
    "    print(a)\n",
    "\n",
    "print(\"Loop ends over here!\")"
   ]
  },
  {
   "cell_type": "markdown",
   "id": "5c583ad0",
   "metadata": {},
   "source": [
    "#### Pass Statements:\n",
    "In Python, pass keyword is used to execute nothing; it means, when we don't want to execute code, the pass can be used to execute empty. It is same as the name refers to. It just makes the control to pass by without executing any code. If we want to bypass any code pass statement can be used."
   ]
  },
  {
   "cell_type": "code",
   "execution_count": 8,
   "id": "b8d7388c",
   "metadata": {},
   "outputs": [
    {
     "name": "stdout",
     "output_type": "stream",
     "text": [
      "Number is  1\n",
      "Number is  2\n",
      "Number is  3\n",
      "Number is  4\n",
      "Number is  5\n",
      "Number is  6\n",
      "Number is  7\n",
      "Number is  8\n",
      "Number is  9\n",
      "Number is  10\n",
      "Number is  11\n",
      "Number is  12\n",
      "Number is  13\n",
      "Number is  14\n",
      "Number is  15\n",
      "Number is  16\n",
      "Number is  17\n",
      "Number is  18\n",
      "Number is  19\n",
      "Number is  20\n"
     ]
    }
   ],
   "source": [
    "for num in range(20):\n",
    "    num = num+1\n",
    "    if num == 5:\n",
    "        pass\n",
    "    print(\"Number is \",num)"
   ]
  },
  {
   "cell_type": "code",
   "execution_count": null,
   "id": "3a606e5c",
   "metadata": {},
   "outputs": [],
   "source": []
  },
  {
   "cell_type": "markdown",
   "id": "958c044a",
   "metadata": {},
   "source": [
    "#### What are functions?  \n",
    "Functions are blocks of reusable code that perform a specific task or a set of tasks.Some code-logic we write which you can reuse it.\n",
    "\n",
    "There are 2 types of functions:\n",
    "\n",
    "1. Pre-defined functions\n",
    "2. User-defined functions"
   ]
  },
  {
   "cell_type": "markdown",
   "id": "a31b86a8",
   "metadata": {},
   "source": [
    "key terminologies:  \n",
    "function def/logic - logic behind the creation of function.\n",
    "\n",
    "function call - Calling / activating / using or running the function which is defined.\n",
    "\n",
    "return - throw the value as output & it is catched by variable for further functions.\n",
    "\n",
    "**function should always be called by ()**\n",
    "\n"
   ]
  },
  {
   "cell_type": "markdown",
   "id": "53e7321d",
   "metadata": {},
   "source": [
    "**1. Pre-defined functions :**\n",
    "Pre-defined functions, also known as built-in functions, are functions that are already defined in the Python standard library and are available for direct use without the need for any additional package import. These functions provide a wide range of functionalities for common tasks in Python programming, and they are part of the core Python language.\n",
    "\n",
    "Pre-defined functions are an essential part of Python programming and provide a convenient and efficient way to perform common tasks without having to implement them from scratch. They greatly enhance the productivity and versatility of Python as a programming language.\n",
    "\n"
   ]
  },
  {
   "cell_type": "code",
   "execution_count": 2,
   "id": "daa19cb6",
   "metadata": {},
   "outputs": [
    {
     "name": "stdout",
     "output_type": "stream",
     "text": [
      "Hello!\n"
     ]
    }
   ],
   "source": [
    "#print is used to print the given output\n",
    "print(\"Hello!\")"
   ]
  },
  {
   "cell_type": "code",
   "execution_count": 3,
   "id": "d6099754",
   "metadata": {},
   "outputs": [],
   "source": [
    "sent = \"We are studying Python\""
   ]
  },
  {
   "cell_type": "code",
   "execution_count": 4,
   "id": "c794e730",
   "metadata": {},
   "outputs": [
    {
     "data": {
      "text/plain": [
       "22"
      ]
     },
     "execution_count": 4,
     "metadata": {},
     "output_type": "execute_result"
    }
   ],
   "source": [
    "#len is used to count the number of elements in the sequence\n",
    "len(sent)"
   ]
  },
  {
   "cell_type": "code",
   "execution_count": 6,
   "id": "bb51d2c9",
   "metadata": {},
   "outputs": [
    {
     "ename": "TypeError",
     "evalue": "object of type 'float' has no len()",
     "output_type": "error",
     "traceback": [
      "\u001b[1;31m---------------------------------------------------------------------------\u001b[0m",
      "\u001b[1;31mTypeError\u001b[0m                                 Traceback (most recent call last)",
      "Cell \u001b[1;32mIn[6], line 2\u001b[0m\n\u001b[0;32m      1\u001b[0m num\u001b[38;5;241m=\u001b[39m\u001b[38;5;241m232436.89898\u001b[39m\n\u001b[1;32m----> 2\u001b[0m \u001b[38;5;28mlen\u001b[39m(num)\n",
      "\u001b[1;31mTypeError\u001b[0m: object of type 'float' has no len()"
     ]
    }
   ],
   "source": [
    "num=232436.89898\n",
    "len(num)"
   ]
  },
  {
   "cell_type": "code",
   "execution_count": 7,
   "id": "c7c2cd4f",
   "metadata": {},
   "outputs": [
    {
     "ename": "TypeError",
     "evalue": "object of type 'bool' has no len()",
     "output_type": "error",
     "traceback": [
      "\u001b[1;31m---------------------------------------------------------------------------\u001b[0m",
      "\u001b[1;31mTypeError\u001b[0m                                 Traceback (most recent call last)",
      "Cell \u001b[1;32mIn[7], line 2\u001b[0m\n\u001b[0;32m      1\u001b[0m value \u001b[38;5;241m=\u001b[39m \u001b[38;5;28;01mTrue\u001b[39;00m\n\u001b[1;32m----> 2\u001b[0m \u001b[38;5;28mlen\u001b[39m(value)\n",
      "\u001b[1;31mTypeError\u001b[0m: object of type 'bool' has no len()"
     ]
    }
   ],
   "source": [
    "value = True\n",
    "len(value)"
   ]
  },
  {
   "cell_type": "code",
   "execution_count": 8,
   "id": "3d367a91",
   "metadata": {},
   "outputs": [
    {
     "name": "stdout",
     "output_type": "stream",
     "text": [
      "Enter you name--Jagruti\n",
      "Jagruti\n"
     ]
    }
   ],
   "source": [
    "#input is used to take user-input\\\n",
    "name = input(\"Enter you name--\")\n",
    "print(name)"
   ]
  },
  {
   "cell_type": "code",
   "execution_count": 11,
   "id": "af2be1d2",
   "metadata": {},
   "outputs": [
    {
     "name": "stdout",
     "output_type": "stream",
     "text": [
      "Number1: 23\n",
      "Number2: 50\n",
      "73\n"
     ]
    }
   ],
   "source": [
    "#int is used to convert the data into integer value\n",
    "num1 = int(input(\"Number1: \"))\n",
    "num2 = int(input(\"Number2: \"))\n",
    "\n",
    "add = num1 + num2\n",
    "print(add)"
   ]
  },
  {
   "cell_type": "code",
   "execution_count": 15,
   "id": "b8d05a44",
   "metadata": {},
   "outputs": [
    {
     "name": "stdout",
     "output_type": "stream",
     "text": [
      "[2, 3, 4, 5, 6, 7, 8, 9, 10]\n"
     ]
    }
   ],
   "source": [
    "#range will help to create range of numbers\n",
    "#list will help me create a list of numbers or convert the sequance into list\n",
    "numbers = list(range(2,11))\n",
    "print(numbers)"
   ]
  },
  {
   "cell_type": "code",
   "execution_count": 16,
   "id": "cf84c2ff",
   "metadata": {},
   "outputs": [
    {
     "name": "stdout",
     "output_type": "stream",
     "text": [
      "[0, 1, 2, 3, 4, 5, 6, 7, 8, 9, 10, 11, 12, 13, 14, 15, 16, 17, 18, 19, 20, 21, 22, 23, 24, 25, 26, 27, 28, 29, 30, 31, 32, 33, 34, 35, 36, 37, 38, 39, 40, 41, 42, 43, 44, 45, 46, 47, 48, 49, 50]\n"
     ]
    }
   ],
   "source": [
    "l1 = list(range(51))\n",
    "print(l1)"
   ]
  },
  {
   "cell_type": "code",
   "execution_count": 19,
   "id": "81449b9f",
   "metadata": {},
   "outputs": [
    {
     "name": "stdout",
     "output_type": "stream",
     "text": [
      "[0, 2, 4, 6, 8, 10, 12, 14, 16, 18, 20, 22, 24, 26, 28, 30, 32, 34, 36, 38, 40, 42, 44, 46, 48, 50]\n"
     ]
    }
   ],
   "source": [
    "l1 = list(range(0,51,2))\n",
    "print(l1)"
   ]
  },
  {
   "cell_type": "markdown",
   "id": "62dc52ea",
   "metadata": {},
   "source": [
    "**2. User- defined functions**  \n",
    "User defined - functions which are created/customized by the user according to the necessary condition."
   ]
  },
  {
   "cell_type": "code",
   "execution_count": 2,
   "id": "8ad140a9",
   "metadata": {},
   "outputs": [],
   "source": [
    "#parameterized\n",
    "# x,y are the parameters of the function\n",
    "def addition(x,y):\n",
    "    c = x+y\n",
    "    print(c)"
   ]
  },
  {
   "cell_type": "code",
   "execution_count": 24,
   "id": "e607decc",
   "metadata": {},
   "outputs": [
    {
     "name": "stdout",
     "output_type": "stream",
     "text": [
      "7\n"
     ]
    }
   ],
   "source": [
    "# 3,4 are the arguments (actual parameters) to make the function run\n",
    "addition(3,4)"
   ]
  },
  {
   "cell_type": "code",
   "execution_count": 3,
   "id": "bc89a9bd",
   "metadata": {},
   "outputs": [
    {
     "name": "stdout",
     "output_type": "stream",
     "text": [
      "100\n",
      "None\n"
     ]
    }
   ],
   "source": [
    "num1= 56\n",
    "num2= 44\n",
    "\n",
    "value = addition(num1,num2)\n",
    "print(value)"
   ]
  },
  {
   "cell_type": "code",
   "execution_count": 12,
   "id": "049dd815",
   "metadata": {},
   "outputs": [
    {
     "ename": "TypeError",
     "evalue": "unsupported operand type(s) for *: 'NoneType' and 'int'",
     "output_type": "error",
     "traceback": [
      "\u001b[1;31m---------------------------------------------------------------------------\u001b[0m",
      "\u001b[1;31mTypeError\u001b[0m                                 Traceback (most recent call last)",
      "Cell \u001b[1;32mIn[12], line 1\u001b[0m\n\u001b[1;32m----> 1\u001b[0m new \u001b[38;5;241m=\u001b[39m value\u001b[38;5;241m*\u001b[39m\u001b[38;5;241m2\u001b[39m\n\u001b[0;32m      2\u001b[0m \u001b[38;5;28mprint\u001b[39m(new)\n",
      "\u001b[1;31mTypeError\u001b[0m: unsupported operand type(s) for *: 'NoneType' and 'int'"
     ]
    }
   ],
   "source": [
    "new = value*2\n",
    "print(new)"
   ]
  },
  {
   "cell_type": "code",
   "execution_count": 30,
   "id": "0f32acbe",
   "metadata": {},
   "outputs": [],
   "source": [
    "def add(x,y):\n",
    "    c=x+y\n",
    "    return c"
   ]
  },
  {
   "cell_type": "code",
   "execution_count": 31,
   "id": "af690f34",
   "metadata": {},
   "outputs": [
    {
     "data": {
      "text/plain": [
       "100"
      ]
     },
     "execution_count": 31,
     "metadata": {},
     "output_type": "execute_result"
    }
   ],
   "source": [
    "add(num1,num2)"
   ]
  },
  {
   "cell_type": "code",
   "execution_count": 32,
   "id": "282742b8",
   "metadata": {},
   "outputs": [
    {
     "name": "stdout",
     "output_type": "stream",
     "text": [
      "100\n"
     ]
    }
   ],
   "source": [
    "value = add(num1,num2)\n",
    "print(value)"
   ]
  },
  {
   "cell_type": "code",
   "execution_count": 33,
   "id": "ddf1f43f",
   "metadata": {},
   "outputs": [
    {
     "name": "stdout",
     "output_type": "stream",
     "text": [
      "200\n"
     ]
    }
   ],
   "source": [
    "new = value*2\n",
    "print(new)"
   ]
  },
  {
   "cell_type": "code",
   "execution_count": 14,
   "id": "e9e7bcd3",
   "metadata": {},
   "outputs": [
    {
     "name": "stdout",
     "output_type": "stream",
     "text": [
      "Object `perimeter` not found.\n"
     ]
    }
   ],
   "source": [
    "?perimeter"
   ]
  },
  {
   "cell_type": "code",
   "execution_count": 4,
   "id": "24146c5d",
   "metadata": {},
   "outputs": [],
   "source": [
    "?range"
   ]
  },
  {
   "cell_type": "code",
   "execution_count": 40,
   "id": "4c6faa76",
   "metadata": {},
   "outputs": [],
   "source": [
    "?len"
   ]
  },
  {
   "cell_type": "code",
   "execution_count": 34,
   "id": "33535c27",
   "metadata": {},
   "outputs": [],
   "source": [
    "def perimeter(side1,side2,side3=10):\n",
    "    per=side1+side2+side3\n",
    "    return per"
   ]
  },
  {
   "cell_type": "code",
   "execution_count": 35,
   "id": "ca2cff55",
   "metadata": {},
   "outputs": [
    {
     "data": {
      "text/plain": [
       "71"
      ]
     },
     "execution_count": 35,
     "metadata": {},
     "output_type": "execute_result"
    }
   ],
   "source": [
    "a=15\n",
    "b=34\n",
    "c=22\n",
    "\n",
    "perimeter(a,b,c)"
   ]
  },
  {
   "cell_type": "code",
   "execution_count": 36,
   "id": "30c09c01",
   "metadata": {},
   "outputs": [
    {
     "data": {
      "text/plain": [
       "77"
      ]
     },
     "execution_count": 36,
     "metadata": {},
     "output_type": "execute_result"
    }
   ],
   "source": [
    "x=45\n",
    "y=22\n",
    "\n",
    "perimeter(x,y)"
   ]
  },
  {
   "cell_type": "code",
   "execution_count": 37,
   "id": "3f72147c",
   "metadata": {},
   "outputs": [
    {
     "data": {
      "text/plain": [
       "122"
      ]
     },
     "execution_count": 37,
     "metadata": {},
     "output_type": "execute_result"
    }
   ],
   "source": [
    "perimeter(side1=56,side2=22,side3=44)"
   ]
  },
  {
   "cell_type": "code",
   "execution_count": 41,
   "id": "05e1df2d",
   "metadata": {},
   "outputs": [],
   "source": [
    "def divide5(num):\n",
    "    if num%5==0:\n",
    "        print(\"The number is divisible by 5\")\n",
    "        if num%10==0:\n",
    "            print(\"The number is also divisible by 10\")\n",
    "        else:\n",
    "            print(\"The number is only divisible by 5\")\n",
    "    else:\n",
    "        print(\"The number is not a divisible of 5\")"
   ]
  },
  {
   "cell_type": "code",
   "execution_count": 44,
   "id": "adae6701",
   "metadata": {},
   "outputs": [
    {
     "name": "stdout",
     "output_type": "stream",
     "text": [
      "Enter your number:100\n",
      "The number is divisible by 5\n",
      "The number is also divisible by 10\n"
     ]
    }
   ],
   "source": [
    "val = int(input(\"Enter your number:\"))\n",
    "divide5(val)"
   ]
  },
  {
   "cell_type": "code",
   "execution_count": 7,
   "id": "db4c8309",
   "metadata": {},
   "outputs": [],
   "source": [
    "def evenOdd(l1):\n",
    "    even = 0\n",
    "    odd = 0\n",
    "    \n",
    "    for i in l1:\n",
    "        if i%2==0:\n",
    "            even+=1\n",
    "        else:\n",
    "            odd+=1\n",
    "    print(\"There are\",even,\"no.\")\n",
    "    print(\"There are\",odd,\"no\")"
   ]
  },
  {
   "cell_type": "code",
   "execution_count": 52,
   "id": "2b881a5e",
   "metadata": {},
   "outputs": [
    {
     "name": "stdout",
     "output_type": "stream",
     "text": [
      "There are 7 no.\n",
      "There are 6 no\n"
     ]
    }
   ],
   "source": [
    "num_list = [56,67,34,66,44,33,2,3,4,5,5,8,7]\n",
    "\n",
    "evenOdd(num_list)"
   ]
  },
  {
   "cell_type": "code",
   "execution_count": 57,
   "id": "237714e9",
   "metadata": {},
   "outputs": [],
   "source": [
    "#parameter-less\n",
    "def Hi():\n",
    "    a=10\n",
    "    b=20\n",
    "    print(\"Hello!\")\n",
    "    c=a+b\n",
    "    return c"
   ]
  },
  {
   "cell_type": "code",
   "execution_count": 69,
   "id": "81afd711",
   "metadata": {},
   "outputs": [
    {
     "name": "stdout",
     "output_type": "stream",
     "text": [
      "Hello!\n"
     ]
    },
    {
     "data": {
      "text/plain": [
       "30"
      ]
     },
     "execution_count": 69,
     "metadata": {},
     "output_type": "execute_result"
    }
   ],
   "source": [
    "Hi()"
   ]
  },
  {
   "cell_type": "code",
   "execution_count": 76,
   "id": "8f2d43bf",
   "metadata": {},
   "outputs": [
    {
     "name": "stdout",
     "output_type": "stream",
     "text": [
      "Enter your name:Jagruti\n",
      "Hello! Jagruti\n"
     ]
    }
   ],
   "source": [
    "user_1 = input(\"Enter your name:\")\n",
    "\n",
    "def username():\n",
    "    print(\"Hello!\",user_1)\n",
    "    \n",
    "username()"
   ]
  },
  {
   "cell_type": "code",
   "execution_count": 17,
   "id": "89fc4e99",
   "metadata": {},
   "outputs": [],
   "source": [
    "number = 33\n",
    "\n",
    "def even():\n",
    "    if number%2==0:\n",
    "        print(\"The number is Even\")"
   ]
  },
  {
   "cell_type": "code",
   "execution_count": 18,
   "id": "b8427742",
   "metadata": {},
   "outputs": [],
   "source": [
    "even()"
   ]
  },
  {
   "cell_type": "markdown",
   "id": "0db9fb89",
   "metadata": {},
   "source": [
    "**Lambda functions:**  \n",
    "These are small, single-use functions that do not have a name and are created using the lambda keyword. Lambda functions are typically used for short, simple operations that can be defined in a single line of code, and are often used in conjunction with other functions like map(), filter(), and reduce()."
   ]
  },
  {
   "cell_type": "code",
   "execution_count": 84,
   "id": "f6eccd98",
   "metadata": {},
   "outputs": [
    {
     "data": {
      "text/plain": [
       "8"
      ]
     },
     "execution_count": 84,
     "metadata": {},
     "output_type": "execute_result"
    }
   ],
   "source": [
    "x = lambda x: x*2\n",
    "x(4)"
   ]
  },
  {
   "cell_type": "code",
   "execution_count": 85,
   "id": "7afc5c3d",
   "metadata": {},
   "outputs": [
    {
     "ename": "TypeError",
     "evalue": "'int' object is not callable",
     "output_type": "error",
     "traceback": [
      "\u001b[1;31m---------------------------------------------------------------------------\u001b[0m",
      "\u001b[1;31mTypeError\u001b[0m                                 Traceback (most recent call last)",
      "Cell \u001b[1;32mIn[85], line 2\u001b[0m\n\u001b[0;32m      1\u001b[0m x\u001b[38;5;241m=\u001b[39m\u001b[38;5;241m34\u001b[39m\n\u001b[1;32m----> 2\u001b[0m x(\u001b[38;5;241m5\u001b[39m)\n",
      "\u001b[1;31mTypeError\u001b[0m: 'int' object is not callable"
     ]
    }
   ],
   "source": [
    "x=34\n",
    "x(5)"
   ]
  },
  {
   "cell_type": "code",
   "execution_count": 86,
   "id": "d7d63440",
   "metadata": {},
   "outputs": [
    {
     "name": "stdout",
     "output_type": "stream",
     "text": [
      "36\n"
     ]
    }
   ],
   "source": [
    "square = lambda x:x*x\n",
    "print(square(6))"
   ]
  },
  {
   "cell_type": "code",
   "execution_count": 87,
   "id": "e998b4ea",
   "metadata": {},
   "outputs": [
    {
     "data": {
      "text/plain": [
       "19"
      ]
     },
     "execution_count": 87,
     "metadata": {},
     "output_type": "execute_result"
    }
   ],
   "source": [
    "add = lambda a,b,c :  a+b+c\n",
    "add(3,7,9)"
   ]
  },
  {
   "cell_type": "code",
   "execution_count": null,
   "id": "a57dcaf5",
   "metadata": {},
   "outputs": [],
   "source": []
  }
 ],
 "metadata": {
  "kernelspec": {
   "display_name": "Python 3 (ipykernel)",
   "language": "python",
   "name": "python3"
  },
  "language_info": {
   "codemirror_mode": {
    "name": "ipython",
    "version": 3
   },
   "file_extension": ".py",
   "mimetype": "text/x-python",
   "name": "python",
   "nbconvert_exporter": "python",
   "pygments_lexer": "ipython3",
   "version": "3.11.3"
  }
 },
 "nbformat": 4,
 "nbformat_minor": 5
}
