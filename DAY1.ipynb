{
 "cells": [
  {
   "cell_type": "code",
   "execution_count": null,
   "id": "ae41546f",
   "metadata": {
    "id": "ae41546f"
   },
   "outputs": [],
   "source": []
  },
  {
   "cell_type": "markdown",
   "id": "5753a872",
   "metadata": {
    "id": "5753a872"
   },
   "source": [
    "### Variable\n",
    "Variable is an identifier which holds some value.Variables refers data in a computer memory.  \n",
    "Python Variable Name Rules:\n",
    "\n",
    "* A variable name must start with a letter or the underscore character\n",
    "* A variable name cannot start with a number\n",
    "* A variable name can only contain alpha-numeric characters and underscores (A-z, 0-9, and _ )\n",
    "* A variable name cannot contain any special character except underscore(_).\n",
    "* Variable names are case-sensitive (firstname, Firstname, FirstName and FIRSTNAME) are different variables)\n",
    "* Variable name cannot be with an in-built keyword\n"
   ]
  },
  {
   "cell_type": "code",
   "execution_count": 1,
   "id": "ce269b6c",
   "metadata": {
    "id": "ce269b6c",
    "outputId": "ca02ab84-8c67-4e22-e9ce-3082cad28e5a"
   },
   "outputs": [
    {
     "name": "stdout",
     "output_type": "stream",
     "text": [
      "Jagruti\n",
      "Pawashe\n"
     ]
    }
   ],
   "source": [
    "# RULE1\n",
    "name = \"Jagruti\"\n",
    "print(name)\n",
    "\n",
    "_lastname = \"Pawashe\"\n",
    "print(_lastname)"
   ]
  },
  {
   "cell_type": "code",
   "execution_count": 2,
   "id": "8d99b7a1",
   "metadata": {
    "id": "8d99b7a1",
    "outputId": "d07ca02e-74f5-40f5-9e3e-1cd702ab3310"
   },
   "outputs": [
    {
     "data": {
      "text/plain": [
       "'Jagruti'"
      ]
     },
     "execution_count": 2,
     "metadata": {},
     "output_type": "execute_result"
    }
   ],
   "source": [
    "name     #REPL"
   ]
  },
  {
   "cell_type": "code",
   "execution_count": 3,
   "id": "17e86e75",
   "metadata": {
    "id": "17e86e75",
    "outputId": "c06d1546-e3bf-4648-f5ae-acada96b80f8"
   },
   "outputs": [
    {
     "ename": "SyntaxError",
     "evalue": "invalid decimal literal (1302796640.py, line 2)",
     "output_type": "error",
     "traceback": [
      "\u001b[1;36m  Cell \u001b[1;32mIn[3], line 2\u001b[1;36m\u001b[0m\n\u001b[1;33m    1number = 1\u001b[0m\n\u001b[1;37m    ^\u001b[0m\n\u001b[1;31mSyntaxError\u001b[0m\u001b[1;31m:\u001b[0m invalid decimal literal\n"
     ]
    }
   ],
   "source": [
    "# RULE2\n",
    "1number = 1\n",
    "print(1number)"
   ]
  },
  {
   "cell_type": "code",
   "execution_count": 4,
   "id": "9308567a",
   "metadata": {
    "id": "9308567a",
    "outputId": "03e6d33e-9fb9-4f6d-bfac-8f2f7322478c"
   },
   "outputs": [
    {
     "name": "stdout",
     "output_type": "stream",
     "text": [
      "1\n"
     ]
    }
   ],
   "source": [
    "numb_1 = 1\n",
    "print(numb_1)"
   ]
  },
  {
   "cell_type": "code",
   "execution_count": 5,
   "id": "2b0ef9a1",
   "metadata": {
    "id": "2b0ef9a1",
    "outputId": "1e603d30-9fc6-41d6-d57e-282fea66f894"
   },
   "outputs": [
    {
     "name": "stdout",
     "output_type": "stream",
     "text": [
      "Jagruti Pawashe\n"
     ]
    }
   ],
   "source": [
    "#RULE3\n",
    "full_name = \"Jagruti Pawashe\"\n",
    "print(full_name)"
   ]
  },
  {
   "cell_type": "code",
   "execution_count": 6,
   "id": "5ad3511f",
   "metadata": {
    "id": "5ad3511f",
    "outputId": "85944dae-054e-440f-c87c-e806bc271a78"
   },
   "outputs": [
    {
     "ename": "SyntaxError",
     "evalue": "invalid syntax (2363943573.py, line 2)",
     "output_type": "error",
     "traceback": [
      "\u001b[1;36m  Cell \u001b[1;32mIn[6], line 2\u001b[1;36m\u001b[0m\n\u001b[1;33m    email@ = \"jagruti.pawashe@imarticus.com\"\u001b[0m\n\u001b[1;37m           ^\u001b[0m\n\u001b[1;31mSyntaxError\u001b[0m\u001b[1;31m:\u001b[0m invalid syntax\n"
     ]
    }
   ],
   "source": [
    "#RULE5\n",
    "email@ = \"jagruti.pawashe@imarticus.com\"\n",
    "print(email@)"
   ]
  },
  {
   "cell_type": "code",
   "execution_count": 8,
   "id": "4d1a8fd0",
   "metadata": {
    "id": "4d1a8fd0",
    "outputId": "c3a66533-9e28-4837-c59e-17165bc0b132"
   },
   "outputs": [
    {
     "name": "stdout",
     "output_type": "stream",
     "text": [
      "RIYA\n",
      "ERIC\n"
     ]
    }
   ],
   "source": [
    "# RULE6\n",
    "firstname = \"RIYA\"\n",
    "print(firstname)\n",
    "Firstname = \"ERIC\"\n",
    "print(Firstname)"
   ]
  },
  {
   "cell_type": "code",
   "execution_count": null,
   "id": "cf014020",
   "metadata": {
    "id": "cf014020",
    "outputId": "ac3615ab-a4c6-4a92-c9b5-2e71cc3d48cd"
   },
   "outputs": [
    {
     "ename": "SyntaxError",
     "evalue": "invalid syntax (616094811.py, line 2)",
     "output_type": "error",
     "traceback": [
      "\u001b[1;36m  Cell \u001b[1;32mIn[25], line 2\u001b[1;36m\u001b[0m\n\u001b[1;33m    in = 34\u001b[0m\n\u001b[1;37m    ^\u001b[0m\n\u001b[1;31mSyntaxError\u001b[0m\u001b[1;31m:\u001b[0m invalid syntax\n"
     ]
    }
   ],
   "source": [
    "# RULE7\n",
    "in = 34\n",
    "print(in)"
   ]
  },
  {
   "cell_type": "code",
   "execution_count": 9,
   "id": "20470780",
   "metadata": {
    "id": "20470780",
    "outputId": "1f284e52-5dcf-4e8d-c00e-0f25040f29ea"
   },
   "outputs": [
    {
     "name": "stdout",
     "output_type": "stream",
     "text": [
      "<class 'str'>\n",
      "25\n",
      "Mumbai\n"
     ]
    }
   ],
   "source": [
    "#multiple variable assignment\n",
    "name , age , city = \"Jagruti\", 25 , \"Mumbai\"\n",
    "print(type(name))\n",
    "print(age)\n",
    "print(city)"
   ]
  },
  {
   "cell_type": "code",
   "execution_count": 10,
   "id": "3937fc31",
   "metadata": {
    "id": "3937fc31",
    "outputId": "71ebecf9-1183-42bc-aa7c-e410b0354bcf"
   },
   "outputs": [
    {
     "name": "stdout",
     "output_type": "stream",
     "text": [
      "500\n",
      "500\n",
      "500\n"
     ]
    }
   ],
   "source": [
    "a=b=c=500\n",
    "print(a)\n",
    "print(b)\n",
    "print(c)"
   ]
  },
  {
   "cell_type": "markdown",
   "id": "df225883",
   "metadata": {
    "id": "df225883"
   },
   "source": [
    "When the Python itself automatically considers the data type of the values it is said to be 'implicit' in nature.\n",
    "When the programmers specifies what kind of data to be present in the variables then it is said to be 'explicit' in nature.\n",
    "\n"
   ]
  },
  {
   "cell_type": "code",
   "execution_count": 5,
   "id": "67637343",
   "metadata": {
    "id": "67637343",
    "outputId": "0e78ddee-c502-49a9-d12f-ab3b7021683a"
   },
   "outputs": [
    {
     "name": "stdout",
     "output_type": "stream",
     "text": [
      "<class 'float'>\n"
     ]
    }
   ],
   "source": [
    "num1 = 55\n",
    "#type(num1)\n",
    "print(type(float(num1)))"
   ]
  },
  {
   "cell_type": "code",
   "execution_count": 12,
   "id": "e1f00bea",
   "metadata": {
    "id": "e1f00bea",
    "outputId": "183321ef-931c-4294-c5af-e73c7147c8cf"
   },
   "outputs": [
    {
     "name": "stdout",
     "output_type": "stream",
     "text": [
      "<class 'str'>\n",
      "1\n"
     ]
    }
   ],
   "source": [
    "num2 = \"1\"\n",
    "print(type(num2))\n",
    "print(int(num2))"
   ]
  },
  {
   "cell_type": "code",
   "execution_count": 13,
   "id": "cbc3c61f",
   "metadata": {
    "id": "cbc3c61f",
    "outputId": "8613b3c6-20b1-44ce-e449-ca989b87b0f9"
   },
   "outputs": [
    {
     "name": "stdout",
     "output_type": "stream",
     "text": [
      "Hello World!\n"
     ]
    }
   ],
   "source": [
    "print(\"Hello World!\")"
   ]
  },
  {
   "cell_type": "markdown",
   "id": "a0b09501",
   "metadata": {
    "id": "a0b09501"
   },
   "source": [
    "### Built-in functions -\n",
    "In python there are some pre-defined code logics to perform some specific task."
   ]
  },
  {
   "cell_type": "code",
   "execution_count": 14,
   "id": "2d1de3bd",
   "metadata": {
    "id": "2d1de3bd",
    "outputId": "3ebac395-5442-49b3-c5a7-46b3d437d783"
   },
   "outputs": [
    {
     "data": {
      "text/plain": [
       "bool"
      ]
     },
     "execution_count": 14,
     "metadata": {},
     "output_type": "execute_result"
    }
   ],
   "source": [
    "value = False\n",
    "type(value)"
   ]
  },
  {
   "cell_type": "code",
   "execution_count": 15,
   "id": "fc592a99",
   "metadata": {
    "id": "fc592a99",
    "outputId": "c12296dc-bff7-46e4-8f53-4e6c5b538ff0"
   },
   "outputs": [
    {
     "name": "stdout",
     "output_type": "stream",
     "text": [
      "<class 'str'>\n",
      "9969069\n"
     ]
    },
    {
     "data": {
      "text/plain": [
       "int"
      ]
     },
     "execution_count": 15,
     "metadata": {},
     "output_type": "execute_result"
    }
   ],
   "source": [
    "number = \"9969069\"\n",
    "print(type(number))\n",
    "new = int(number)\n",
    "print(new)\n",
    "type(new)"
   ]
  },
  {
   "cell_type": "code",
   "execution_count": null,
   "id": "ec1e392c",
   "metadata": {
    "id": "ec1e392c",
    "outputId": "2cccac67-0a5a-4073-94a6-393ca8d5dd75"
   },
   "outputs": [
    {
     "name": "stdout",
     "output_type": "stream",
     "text": [
      "Enter your firstname: Eric\n",
      "Enter your lastname: Macwan\n",
      "The full name is, Eric Macwan\n"
     ]
    }
   ],
   "source": [
    "firstname = input(\"Enter your firstname: \")\n",
    "lastname = input(\"Enter your lastname: \")\n",
    "\n",
    "fullname = firstname +' '+ lastname\n",
    "print(\"The full name is,\",fullname)"
   ]
  },
  {
   "cell_type": "code",
   "execution_count": null,
   "id": "27d93a60",
   "metadata": {
    "id": "27d93a60",
    "outputId": "d7537141-5f14-40d2-f528-ebe40c0a9c4a"
   },
   "outputs": [
    {
     "name": "stdout",
     "output_type": "stream",
     "text": [
      "Enter your 1st no:45\n",
      "<class 'int'>\n",
      "Enter your 2nd no: 56\n",
      "101\n"
     ]
    }
   ],
   "source": [
    "num1 = int(input(\"Enter your 1st no:\"))\n",
    "print(type(num1))\n",
    "num2 = int(input(\"Enter your 2nd no: \"))\n",
    "add = num1 + num2\n",
    "print(add)"
   ]
  },
  {
   "cell_type": "code",
   "execution_count": null,
   "id": "c2c86089",
   "metadata": {
    "id": "c2c86089",
    "outputId": "44c7d5b6-bac9-47b7-a375-7d8a2a590288"
   },
   "outputs": [
    {
     "name": "stdout",
     "output_type": "stream",
     "text": [
      "Enter Side1: 45\n",
      "Enter Side2: 10\n",
      "Enter Side3: 10\n",
      "65\n"
     ]
    }
   ],
   "source": [
    "side1 = int(input(\"Enter Side1: \"))\n",
    "side2 = int(input(\"Enter Side2: \"))\n",
    "side3 = int(input(\"Enter Side3: \"))\n",
    "\n",
    "perimeter = side1+side2+side3\n",
    "print(perimeter)"
   ]
  },
  {
   "cell_type": "code",
   "execution_count": null,
   "id": "de56a7f8",
   "metadata": {
    "id": "de56a7f8"
   },
   "outputs": [],
   "source": []
  }
 ],
 "metadata": {
  "colab": {
   "provenance": []
  },
  "kernelspec": {
   "display_name": "Python 3 (ipykernel)",
   "language": "python",
   "name": "python3"
  },
  "language_info": {
   "codemirror_mode": {
    "name": "ipython",
    "version": 3
   },
   "file_extension": ".py",
   "mimetype": "text/x-python",
   "name": "python",
   "nbconvert_exporter": "python",
   "pygments_lexer": "ipython3",
   "version": "3.11.3"
  }
 },
 "nbformat": 4,
 "nbformat_minor": 5
}
