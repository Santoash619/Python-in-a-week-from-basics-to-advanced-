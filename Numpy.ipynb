{
 "cells": [
  {
   "cell_type": "markdown",
   "id": "e2b85f11",
   "metadata": {
    "id": "e2b85f11"
   },
   "source": [
    "## Numpy"
   ]
  },
  {
   "cell_type": "markdown",
   "id": "af0e49ce",
   "metadata": {
    "id": "af0e49ce"
   },
   "source": [
    "Numpy:- Numpy stands for numerical python and is the core library for numeric and scientific computing, It consists of multi-dimensional array objects\n",
    "\n",
    "* Its an homogeneous in nature the numpy list contains single datatype  \n",
    "* The array which we were using  doesnot supports multi-dimensional, It only allows 1(single dimension).  \n",
    "* So to work on multi-dimension array we use 3rd party package called Numpy"
   ]
  },
  {
   "cell_type": "code",
   "execution_count": 1,
   "id": "5cb1d55b",
   "metadata": {
    "colab": {
     "base_uri": "https://localhost:8080/"
    },
    "executionInfo": {
     "elapsed": 5164,
     "status": "ok",
     "timestamp": 1690371115351,
     "user": {
      "displayName": "Jagruti Pawashe",
      "userId": "13553701529318428856"
     },
     "user_tz": -330
    },
    "id": "5cb1d55b",
    "outputId": "4dcbb669-9355-4658-91cd-23070b96e72c"
   },
   "outputs": [
    {
     "name": "stdout",
     "output_type": "stream",
     "text": [
      "Requirement already satisfied: numpy in c:\\users\\admin\\anaconda3\\lib\\site-packages (1.23.5)\n"
     ]
    }
   ],
   "source": [
    "!pip install numpy"
   ]
  },
  {
   "cell_type": "code",
   "execution_count": 2,
   "id": "fb968458",
   "metadata": {},
   "outputs": [],
   "source": [
    "import numpy "
   ]
  },
  {
   "cell_type": "code",
   "execution_count": 3,
   "id": "0cf410df",
   "metadata": {},
   "outputs": [],
   "source": [
    "?numpy"
   ]
  },
  {
   "cell_type": "code",
   "execution_count": 4,
   "id": "637d9bc0",
   "metadata": {
    "id": "637d9bc0"
   },
   "outputs": [],
   "source": [
    "import warnings\n",
    "warnings.filterwarnings(\"ignore\")"
   ]
  },
  {
   "cell_type": "code",
   "execution_count": 1,
   "id": "697213e9",
   "metadata": {
    "colab": {
     "base_uri": "https://localhost:8080/",
     "height": 35
    },
    "executionInfo": {
     "elapsed": 426,
     "status": "ok",
     "timestamp": 1690371334854,
     "user": {
      "displayName": "Jagruti Pawashe",
      "userId": "13553701529318428856"
     },
     "user_tz": -330
    },
    "id": "697213e9",
    "outputId": "a41a861a-4e58-41c2-a3fd-264ac46a414e"
   },
   "outputs": [
    {
     "data": {
      "text/plain": [
       "'1.23.5'"
      ]
     },
     "execution_count": 1,
     "metadata": {},
     "output_type": "execute_result"
    }
   ],
   "source": [
    "import numpy as np\n",
    "np.__version__"
   ]
  },
  {
   "cell_type": "code",
   "execution_count": 10,
   "id": "6df4ea94",
   "metadata": {
    "colab": {
     "base_uri": "https://localhost:8080/"
    },
    "executionInfo": {
     "elapsed": 12,
     "status": "ok",
     "timestamp": 1690371720321,
     "user": {
      "displayName": "Jagruti Pawashe",
      "userId": "13553701529318428856"
     },
     "user_tz": -330
    },
    "id": "6df4ea94",
    "outputId": "a4e809d1-6f9a-447c-bdd2-5e7aa9a21c16"
   },
   "outputs": [
    {
     "name": "stdout",
     "output_type": "stream",
     "text": [
      "[3 4 4 9 0 5 0]\n"
     ]
    }
   ],
   "source": [
    "ar1 = np.array([3,4,4,9,0,5,0.5],dtype=\"int8\")\n",
    "print(ar1)\n",
    "#type(ar1)"
   ]
  },
  {
   "cell_type": "code",
   "execution_count": 11,
   "id": "b01c5472",
   "metadata": {
    "colab": {
     "base_uri": "https://localhost:8080/"
    },
    "executionInfo": {
     "elapsed": 712,
     "status": "ok",
     "timestamp": 1690371804831,
     "user": {
      "displayName": "Jagruti Pawashe",
      "userId": "13553701529318428856"
     },
     "user_tz": -330
    },
    "id": "b01c5472",
    "outputId": "eb2d9ebb-b63e-482a-e68f-5428a1f0c91f"
   },
   "outputs": [
    {
     "name": "stdout",
     "output_type": "stream",
     "text": [
      "1\n"
     ]
    }
   ],
   "source": [
    "# Getting the dimensions\n",
    "print(ar1.ndim)\n",
    "#ndim is used to find the dimension of the array\n"
   ]
  },
  {
   "cell_type": "code",
   "execution_count": 14,
   "id": "733c1543",
   "metadata": {},
   "outputs": [
    {
     "name": "stdout",
     "output_type": "stream",
     "text": [
      "[[ 3  4  5  6]\n",
      " [-2  4  1  0]\n",
      " [23 67 44  1]]\n",
      "2\n",
      "(3, 4)\n"
     ]
    }
   ],
   "source": [
    "b = np.array([[3,4,5,6],[-2,4,1,0],[23,67,44,1]])\n",
    "print(b)\n",
    "print(b.ndim)\n",
    "print(b.shape)"
   ]
  },
  {
   "cell_type": "code",
   "execution_count": 41,
   "id": "959a3365",
   "metadata": {
    "colab": {
     "base_uri": "https://localhost:8080/"
    },
    "collapsed": true,
    "executionInfo": {
     "elapsed": 13,
     "status": "ok",
     "timestamp": 1690372380177,
     "user": {
      "displayName": "Jagruti Pawashe",
      "userId": "13553701529318428856"
     },
     "user_tz": -330
    },
    "id": "959a3365",
    "outputId": "d8a5bbaf-fb6c-486c-b8d3-42345a0f21f7"
   },
   "outputs": [
    {
     "name": "stdout",
     "output_type": "stream",
     "text": [
      "[[ 2.  6.  9.  3.]\n",
      " [ 2.  4.  5.  1.]\n",
      " [ 5.  9.  0.  3.]\n",
      " [-2.  9.  4.  3.]]\n",
      "(4, 4)\n"
     ]
    }
   ],
   "source": [
    "c = np.array([[2,6,9,3],[2,4,5,1],[5,9,0,3],[-2,9,4,3]],dtype=\"float32\")\n",
    "# Getting the shape of the array\n",
    "print(c)\n",
    "print(c.shape)\n",
    "#shape is used to find out the no. of rows & columns in the array\n"
   ]
  },
  {
   "cell_type": "code",
   "execution_count": 43,
   "id": "2f46fdc4",
   "metadata": {},
   "outputs": [
    {
     "data": {
      "text/plain": [
       "array([[3, 6, 9],\n",
       "       [5, 9, 0]])"
      ]
     },
     "execution_count": 43,
     "metadata": {},
     "output_type": "execute_result"
    }
   ],
   "source": [
    "d = np.array([(3,6,9),(5,9,0)])\n",
    "d"
   ]
  },
  {
   "cell_type": "code",
   "execution_count": 16,
   "id": "758f10a2",
   "metadata": {
    "colab": {
     "base_uri": "https://localhost:8080/"
    },
    "executionInfo": {
     "elapsed": 481,
     "status": "ok",
     "timestamp": 1690372942637,
     "user": {
      "displayName": "Jagruti Pawashe",
      "userId": "13553701529318428856"
     },
     "user_tz": -330
    },
    "id": "758f10a2",
    "outputId": "672d7950-4217-4ea5-9f66-c5c5d893a421"
   },
   "outputs": [
    {
     "name": "stdout",
     "output_type": "stream",
     "text": [
      "[[[ 2  4  5]\n",
      "  [ 4  8  0]\n",
      "  [ 1  9  3]]\n",
      "\n",
      " [[ 2  6  3]\n",
      "  [ 1 -5 -3]\n",
      "  [ 5  6  7]]]\n",
      "3\n",
      "(2, 3, 3)\n"
     ]
    }
   ],
   "source": [
    "e = np.array([[[2,4,5],[4,8,0],[1,9,3]],[[2,6,3],[1,-5,-3],[5,6,7]]])\n",
    "print(e)\n",
    "print(e.ndim)\n",
    "print(e.shape)\n",
    "#2 - no. of sets, 3 - no. of rows , 4 - no. of columns"
   ]
  },
  {
   "cell_type": "code",
   "execution_count": 57,
   "id": "9a5644db",
   "metadata": {},
   "outputs": [
    {
     "data": {
      "text/plain": [
       "(1, 2, 3)"
      ]
     },
     "execution_count": 57,
     "metadata": {},
     "output_type": "execute_result"
    }
   ],
   "source": [
    "f = np.array([[[2,3,4],[4,5,6]]])\n",
    "f.shape"
   ]
  },
  {
   "cell_type": "markdown",
   "id": "c672721d",
   "metadata": {
    "id": "c672721d"
   },
   "source": [
    "### Indexing and Slicing"
   ]
  },
  {
   "cell_type": "code",
   "execution_count": 58,
   "id": "3c4c3953",
   "metadata": {
    "collapsed": true,
    "id": "3c4c3953",
    "outputId": "cb53af76-7bf7-4448-e6de-31786fa76fd3"
   },
   "outputs": [
    {
     "name": "stdout",
     "output_type": "stream",
     "text": [
      "[[2 3 4]\n",
      " [5 9 0]\n",
      " [2 8 7]\n",
      " [3 1 6]]\n",
      "0\n",
      "\n",
      "3\n",
      "\n",
      "7\n",
      "\n",
      "[2 5]\n",
      "\n",
      "[4 0 7 6]\n",
      "\n",
      "[2 8 7]\n",
      "\n",
      "[2 4]\n"
     ]
    }
   ],
   "source": [
    "x = np.array([[2,3,4],[5,9,0],[2,8,7],[3,1,6]])\n",
    "print(x)\n",
    "print(x[1,2])\n",
    "print()\n",
    "print(x[3,0])\n",
    "print()\n",
    "print(x[2,2])\n",
    "print()\n",
    "print(x[0:2,0])\n",
    "print()\n",
    "print(x[:,2])\n",
    "print()\n",
    "print(x[2,:])\n",
    "print()\n",
    "print(x[0, ::2])"
   ]
  },
  {
   "cell_type": "code",
   "execution_count": 59,
   "id": "89c46f0b",
   "metadata": {
    "colab": {
     "base_uri": "https://localhost:8080/"
    },
    "collapsed": true,
    "executionInfo": {
     "elapsed": 69,
     "status": "ok",
     "timestamp": 1690449524639,
     "user": {
      "displayName": "Jagruti Pawashe",
      "userId": "13553701529318428856"
     },
     "user_tz": -330
    },
    "id": "89c46f0b",
    "outputId": "c454bbce-4327-4b4b-d3df-6b5a12cf1593"
   },
   "outputs": [
    {
     "name": "stdout",
     "output_type": "stream",
     "text": [
      "[[ 1  2  3  4]\n",
      " [ 3  4  5  6]\n",
      " [ 8  9 10 11]]\n",
      "8\n",
      "[ 3  5 10]\n",
      "[[1 2 3 4]\n",
      " [3 4 5 6]]\n"
     ]
    }
   ],
   "source": [
    "a=np.array([[1,2,3,4],[3,4,5,6],[8,9,10,11]])\n",
    "print(a)\n",
    "print(a[2,0])\n",
    "print(a[:,2])\n",
    "print(a[0:2,:])"
   ]
  },
  {
   "cell_type": "code",
   "execution_count": 60,
   "id": "139046a9",
   "metadata": {
    "collapsed": true,
    "id": "139046a9"
   },
   "outputs": [
    {
     "name": "stdout",
     "output_type": "stream",
     "text": [
      "[[[1 3]\n",
      "  [3 4]]\n",
      "\n",
      " [[5 6]\n",
      "  [7 8]]]\n",
      "3\n"
     ]
    }
   ],
   "source": [
    "b = np.array([[[1,3],[3,4]],[[5,6],[7,8]]],dtype='int64')\n",
    "print(b)\n",
    "print(b.ndim)"
   ]
  },
  {
   "cell_type": "code",
   "execution_count": 61,
   "id": "bca94318",
   "metadata": {
    "id": "bca94318"
   },
   "outputs": [
    {
     "name": "stdout",
     "output_type": "stream",
     "text": [
      "4\n"
     ]
    }
   ],
   "source": [
    "print(b[0,1,1])"
   ]
  },
  {
   "cell_type": "code",
   "execution_count": 62,
   "id": "0bba6ae2",
   "metadata": {
    "collapsed": true,
    "id": "0bba6ae2"
   },
   "outputs": [
    {
     "name": "stdout",
     "output_type": "stream",
     "text": [
      "[[3 4]\n",
      " [7 8]]\n"
     ]
    }
   ],
   "source": [
    "print(b[:,1,:])"
   ]
  },
  {
   "cell_type": "markdown",
   "id": "180e0c97",
   "metadata": {
    "id": "180e0c97"
   },
   "source": [
    "#### Initializing Different Types of Arrays"
   ]
  },
  {
   "cell_type": "code",
   "execution_count": 68,
   "id": "10916f18",
   "metadata": {
    "colab": {
     "base_uri": "https://localhost:8080/"
    },
    "collapsed": true,
    "executionInfo": {
     "elapsed": 521,
     "status": "ok",
     "timestamp": 1690451462557,
     "user": {
      "displayName": "Jagruti Pawashe",
      "userId": "13553701529318428856"
     },
     "user_tz": -330
    },
    "id": "10916f18",
    "outputId": "3f970e58-6a2c-4764-fa46-84e0debe67c1"
   },
   "outputs": [
    {
     "name": "stdout",
     "output_type": "stream",
     "text": [
      "[[1. 1. 1. 1. 1.]\n",
      " [1. 1. 1. 1. 1.]]\n",
      "\n",
      "[[[1 1 1 1 1 1 1]\n",
      "  [1 1 1 1 1 1 1]\n",
      "  [1 1 1 1 1 1 1]\n",
      "  [1 1 1 1 1 1 1]]\n",
      "\n",
      " [[1 1 1 1 1 1 1]\n",
      "  [1 1 1 1 1 1 1]\n",
      "  [1 1 1 1 1 1 1]\n",
      "  [1 1 1 1 1 1 1]]\n",
      "\n",
      " [[1 1 1 1 1 1 1]\n",
      "  [1 1 1 1 1 1 1]\n",
      "  [1 1 1 1 1 1 1]\n",
      "  [1 1 1 1 1 1 1]]]\n"
     ]
    }
   ],
   "source": [
    "a1 = np.ones((2,5))\n",
    "print(a1)\n",
    "print()\n",
    "a2 = np.ones((3,4,7),dtype=\"i\")\n",
    "print(a2)"
   ]
  },
  {
   "cell_type": "code",
   "execution_count": 70,
   "id": "ef9e1e4e",
   "metadata": {
    "colab": {
     "base_uri": "https://localhost:8080/"
    },
    "collapsed": true,
    "executionInfo": {
     "elapsed": 914,
     "status": "ok",
     "timestamp": 1690451757744,
     "user": {
      "displayName": "Jagruti Pawashe",
      "userId": "13553701529318428856"
     },
     "user_tz": -330
    },
    "id": "ef9e1e4e",
    "outputId": "bbf3eabe-590d-4149-fb84-8c0908d137b4"
   },
   "outputs": [
    {
     "name": "stdout",
     "output_type": "stream",
     "text": [
      "[[0. 0. 0. 0. 0.]\n",
      " [0. 0. 0. 0. 0.]\n",
      " [0. 0. 0. 0. 0.]]\n",
      "\n",
      "[[[0 0 0 0 0]\n",
      "  [0 0 0 0 0]]\n",
      "\n",
      " [[0 0 0 0 0]\n",
      "  [0 0 0 0 0]]]\n"
     ]
    }
   ],
   "source": [
    "b1 = np.zeros((3,5))\n",
    "print(b1)\n",
    "print()\n",
    "\n",
    "b2 = np.zeros((2,2,5),dtype=\"int16\")\n",
    "print(b2)"
   ]
  },
  {
   "cell_type": "code",
   "execution_count": 75,
   "id": "632f5978",
   "metadata": {
    "colab": {
     "base_uri": "https://localhost:8080/"
    },
    "collapsed": true,
    "executionInfo": {
     "elapsed": 16,
     "status": "ok",
     "timestamp": 1690452007990,
     "user": {
      "displayName": "Jagruti Pawashe",
      "userId": "13553701529318428856"
     },
     "user_tz": -330
    },
    "id": "632f5978",
    "outputId": "489b91ee-62d6-4ddb-b9cf-9177ff76ec5d"
   },
   "outputs": [
    {
     "name": "stdout",
     "output_type": "stream",
     "text": [
      "[['x' 'x' 'x' 'x' 'x']\n",
      " ['x' 'x' 'x' 'x' 'x']]\n",
      "[[[0.001 0.001]\n",
      "  [0.001 0.001]\n",
      "  [0.001 0.001]\n",
      "  [0.001 0.001]\n",
      "  [0.001 0.001]]\n",
      "\n",
      " [[0.001 0.001]\n",
      "  [0.001 0.001]\n",
      "  [0.001 0.001]\n",
      "  [0.001 0.001]\n",
      "  [0.001 0.001]]]\n"
     ]
    }
   ],
   "source": [
    "c1 = np.full((2,5),\"x\")\n",
    "print(c1)\n",
    "\n",
    "c2 = np.full((2,5,2),0.001)\n",
    "print(c2)"
   ]
  },
  {
   "cell_type": "code",
   "execution_count": 81,
   "id": "fff86c20",
   "metadata": {
    "collapsed": true,
    "id": "fff86c20"
   },
   "outputs": [
    {
     "name": "stdout",
     "output_type": "stream",
     "text": [
      "[[1. 0. 0.]\n",
      " [0. 1. 0.]\n",
      " [0. 0. 1.]]\n",
      "[[1 0 0 0 0 0]\n",
      " [0 1 0 0 0 0]\n",
      " [0 0 1 0 0 0]\n",
      " [0 0 0 1 0 0]\n",
      " [0 0 0 0 1 0]\n",
      " [0 0 0 0 0 1]]\n"
     ]
    }
   ],
   "source": [
    "d = np.identity(3)\n",
    "print(d)\n",
    "\n",
    "d2 = np.identity(6,dtype=\"i\")\n",
    "print(d2)"
   ]
  },
  {
   "cell_type": "code",
   "execution_count": 156,
   "id": "f118f323",
   "metadata": {},
   "outputs": [
    {
     "data": {
      "text/plain": [
       "array([[4.17022005e-01, 7.20324493e-01, 1.14374817e-04],\n",
       "       [3.02332573e-01, 1.46755891e-01, 9.23385948e-02]])"
      ]
     },
     "execution_count": 156,
     "metadata": {},
     "output_type": "execute_result"
    }
   ],
   "source": [
    "np.random.seed(1)\n",
    "\n",
    "new = np.random.random((2,3))\n",
    "new"
   ]
  },
  {
   "cell_type": "code",
   "execution_count": 94,
   "id": "f1426733",
   "metadata": {
    "colab": {
     "base_uri": "https://localhost:8080/"
    },
    "collapsed": true,
    "executionInfo": {
     "elapsed": 57,
     "status": "ok",
     "timestamp": 1690453495803,
     "user": {
      "displayName": "Jagruti Pawashe",
      "userId": "13553701529318428856"
     },
     "user_tz": -330
    },
    "id": "f1426733",
    "outputId": "21f22e57-9ec6-42d6-b215-52e8e2aea895"
   },
   "outputs": [
    {
     "name": "stdout",
     "output_type": "stream",
     "text": [
      "[ 0.  12.5 25.  37.5 50. ]\n",
      "\n",
      "[ 0  3  6  9 12 15 18]\n",
      "\n",
      "[[0.85187607 0.03507378 0.87880459]\n",
      " [0.3438901  0.19889997 0.05581883]]\n",
      "\n",
      "[[99 89 55 89]\n",
      " [69 96 56 90]\n",
      " [86 67 83 86]]\n"
     ]
    }
   ],
   "source": [
    "#np.random.seed(10)\n",
    "#it is used to get fixed output everytime\n",
    "\n",
    "a=np.linspace(0,50,5)\n",
    "#linspace is used if I want to divide my range into\n",
    "#n no.of parts\n",
    "print(a)\n",
    "print()\n",
    "\n",
    "a=np.arange(0,21,3)\n",
    "# it works by creating step difference in your given range by creating array\n",
    "print(a)\n",
    "print()\n",
    "\n",
    "a=np.random.random((2,3))\n",
    "#randomnly creates an array of desired range most\n",
    "#of the times it is between 0-1\n",
    "print(a)\n",
    "print()\n",
    "\n",
    "a=np.random.randint(50,101,(2,3,4))\n",
    "# randomly creates an array of desired range & the arrays\n",
    "#consists of integer datatype in the given range.\n",
    "print(a)"
   ]
  },
  {
   "cell_type": "code",
   "execution_count": 157,
   "id": "57fbe133",
   "metadata": {
    "colab": {
     "base_uri": "https://localhost:8080/"
    },
    "executionInfo": {
     "elapsed": 16,
     "status": "ok",
     "timestamp": 1690453953755,
     "user": {
      "displayName": "Jagruti Pawashe",
      "userId": "13553701529318428856"
     },
     "user_tz": -330
    },
    "id": "57fbe133",
    "outputId": "e992f1f7-8016-405b-eb69-334555e7347d"
   },
   "outputs": [
    {
     "name": "stdout",
     "output_type": "stream",
     "text": [
      "[[[59.31301057 67.27803635 69.83837371]\n",
      "  [76.9408367  70.95972572 84.26097502]]\n",
      "\n",
      " [[60.22261249 93.90587182 51.36937966]\n",
      "  [83.52337551 70.86524012 77.93449142]]]\n"
     ]
    }
   ],
   "source": [
    "#np.random.seed(10)\n",
    "#uniform helps to give the float output from the given range\n",
    "a=np.random.uniform(50,100,(2,2,3))\n",
    "print(a)"
   ]
  },
  {
   "cell_type": "markdown",
   "id": "bb3432d4",
   "metadata": {},
   "source": [
    "1. Sahil\n",
    "2. Umesh\n",
    "3. Dhruv Soni\n",
    "4. Shubham\n",
    "5. Tarun Joshi\n",
    "6. Anand Nambothri\n",
    "7. Manoj\n",
    "8. Rohan Walke"
   ]
  },
  {
   "cell_type": "code",
   "execution_count": 21,
   "id": "e0a03563",
   "metadata": {
    "collapsed": true
   },
   "outputs": [
    {
     "name": "stdout",
     "output_type": "stream",
     "text": [
      "[[3, 4], [3, 6], [9, 0], 'str']\n"
     ]
    },
    {
     "ename": "TypeError",
     "evalue": "'>' not supported between instances of 'str' and 'list'",
     "output_type": "error",
     "traceback": [
      "\u001b[1;31m---------------------------------------------------------------------------\u001b[0m",
      "\u001b[1;31mTypeError\u001b[0m                                 Traceback (most recent call last)",
      "Cell \u001b[1;32mIn[21], line 3\u001b[0m\n\u001b[0;32m      1\u001b[0m l1 \u001b[38;5;241m=\u001b[39m [[\u001b[38;5;241m3\u001b[39m,\u001b[38;5;241m4\u001b[39m],[\u001b[38;5;241m3\u001b[39m,\u001b[38;5;241m6\u001b[39m],[\u001b[38;5;241m9\u001b[39m,\u001b[38;5;241m0\u001b[39m],\u001b[38;5;124m\"\u001b[39m\u001b[38;5;124mstr\u001b[39m\u001b[38;5;124m\"\u001b[39m]\n\u001b[0;32m      2\u001b[0m \u001b[38;5;28mprint\u001b[39m(l1)\n\u001b[1;32m----> 3\u001b[0m \u001b[38;5;28;43mmax\u001b[39;49m\u001b[43m(\u001b[49m\u001b[43ml1\u001b[49m\u001b[43m)\u001b[49m\n",
      "\u001b[1;31mTypeError\u001b[0m: '>' not supported between instances of 'str' and 'list'"
     ]
    }
   ],
   "source": [
    "l1 = [[3,4],[3,6],[9,0],\"str\"]\n",
    "print(l1)\n",
    "max(l1)"
   ]
  },
  {
   "cell_type": "code",
   "execution_count": 25,
   "id": "f2455be5",
   "metadata": {
    "colab": {
     "base_uri": "https://localhost:8080/"
    },
    "collapsed": true,
    "executionInfo": {
     "elapsed": 450,
     "status": "ok",
     "timestamp": 1690454378472,
     "user": {
      "displayName": "Jagruti Pawashe",
      "userId": "13553701529318428856"
     },
     "user_tz": -330
    },
    "id": "f2455be5",
    "outputId": "c75c4725-8bc5-4a99-f77d-7623d04acdeb"
   },
   "outputs": [
    {
     "name": "stdout",
     "output_type": "stream",
     "text": [
      "[[ 8  9]\n",
      " [10 11]\n",
      " [12 13]]\n",
      "(3, 2)\n",
      "8\n",
      "13\n",
      "63\n",
      "10.5\n",
      "10.5\n"
     ]
    }
   ],
   "source": [
    "#aggregate functions\n",
    "a=np.array([[8,9],[10,11],[12,13]])\n",
    "print(a)\n",
    "print(a.shape)\n",
    "print(a.min())\n",
    "print(a.max())\n",
    "print(a.sum())\n",
    "print(a.mean())\n",
    "print(np.mean(a))"
   ]
  },
  {
   "cell_type": "code",
   "execution_count": 28,
   "id": "fa18dd31",
   "metadata": {},
   "outputs": [],
   "source": [
    "import warnings\n",
    "warnings.filterwarnings(\"ignore\")"
   ]
  },
  {
   "cell_type": "code",
   "execution_count": 29,
   "id": "308ab178",
   "metadata": {
    "collapsed": true,
    "id": "308ab178",
    "outputId": "6326c99c-5bf5-4fee-a0f5-e88c0d538033"
   },
   "outputs": [
    {
     "name": "stdout",
     "output_type": "stream",
     "text": [
      "[[1.         0.         1.73205081]\n",
      " [1.73205081 2.         2.23606798]]\n",
      "1.699673171197595\n",
      "[[0.               -inf 1.09861229]\n",
      " [1.09861229 1.38629436 1.60943791]]\n",
      "[[1.   0.   1.73]\n",
      " [1.73 2.   2.24]]\n",
      "[[1.     0.     1.7321]\n",
      " [1.7321 2.     2.2361]]\n"
     ]
    }
   ],
   "source": [
    "#math functions\n",
    "a=np.array([[1,0,3],[3,4,5]])\n",
    "print(np.sqrt(a))\n",
    "print(np.std(a))\n",
    "print(np.log(a))\n",
    "b=np.sqrt(a)\n",
    "print(b.round(2))\n",
    "print(b.round(4))"
   ]
  },
  {
   "cell_type": "code",
   "execution_count": 33,
   "id": "be49fac7",
   "metadata": {
    "collapsed": true
   },
   "outputs": [
    {
     "name": "stdout",
     "output_type": "stream",
     "text": [
      "[6]\n",
      "[6, 2]\n",
      "[6, 2, 8]\n",
      "[6, 2, 8, 9]\n"
     ]
    }
   ],
   "source": [
    "x = [4,0,6,7]\n",
    "new = []\n",
    "for i in x:\n",
    "    n =i+2\n",
    "    new.append(n)\n",
    "    print(new)"
   ]
  },
  {
   "cell_type": "code",
   "execution_count": 35,
   "id": "bfbdcb6b",
   "metadata": {
    "collapsed": true
   },
   "outputs": [
    {
     "ename": "TypeError",
     "evalue": "unsupported operand type(s) for ** or pow(): 'list' and 'int'",
     "output_type": "error",
     "traceback": [
      "\u001b[1;31m---------------------------------------------------------------------------\u001b[0m",
      "\u001b[1;31mTypeError\u001b[0m                                 Traceback (most recent call last)",
      "Cell \u001b[1;32mIn[35], line 2\u001b[0m\n\u001b[0;32m      1\u001b[0m x \u001b[38;5;241m=\u001b[39m [\u001b[38;5;241m6\u001b[39m,\u001b[38;5;241m8\u001b[39m,\u001b[38;5;241m9\u001b[39m,\u001b[38;5;241m0\u001b[39m]\n\u001b[1;32m----> 2\u001b[0m \u001b[43mx\u001b[49m\u001b[38;5;241;43m*\u001b[39;49m\u001b[38;5;241;43m*\u001b[39;49m\u001b[38;5;241;43m2\u001b[39;49m\n",
      "\u001b[1;31mTypeError\u001b[0m: unsupported operand type(s) for ** or pow(): 'list' and 'int'"
     ]
    }
   ],
   "source": [
    "x = [6,8,9,0]\n",
    "x**2"
   ]
  },
  {
   "cell_type": "code",
   "execution_count": 42,
   "id": "6642f61f",
   "metadata": {},
   "outputs": [
    {
     "data": {
      "text/plain": [
       "array([[0, 1, 0],\n",
       "       [1, 0, 1]], dtype=int32)"
      ]
     },
     "execution_count": 42,
     "metadata": {},
     "output_type": "execute_result"
    }
   ],
   "source": [
    "#SIMD - Single instruction multiple data\n",
    "a = np.array([4,5,6,7])\n",
    "a+2\n",
    "\n",
    "b = np.array([[2,3,4],[3,4,5]])\n",
    "b%2"
   ]
  },
  {
   "cell_type": "code",
   "execution_count": 43,
   "id": "002c1720",
   "metadata": {
    "collapsed": true,
    "id": "002c1720",
    "outputId": "d96749a0-9b25-4bdd-e347-cc4a34c739e8"
   },
   "outputs": [
    {
     "name": "stdout",
     "output_type": "stream",
     "text": [
      "[[1 2]\n",
      " [3 4]]\n",
      "[[5 6]\n",
      " [3 4]]\n",
      "[[6 8]\n",
      " [6 8]]\n",
      "[[-4 -4]\n",
      " [ 0  0]]\n",
      "[[ 5 12]\n",
      " [ 9 16]]\n",
      "[[0.2        0.33333333]\n",
      " [1.         1.        ]]\n",
      "[[1 2]\n",
      " [0 0]]\n",
      "[[11 14]\n",
      " [27 34]]\n"
     ]
    }
   ],
   "source": [
    "x=np.array([[1,2],[3,4]])\n",
    "y=np.array([[5,6],[3,4]])\n",
    "print(x)\n",
    "print(y)\n",
    "print(x+y)\n",
    "print(x-y)\n",
    "print(x*y)\n",
    "print(x/y)\n",
    "print(x%y)\n",
    "print(x@y)"
   ]
  },
  {
   "cell_type": "code",
   "execution_count": 50,
   "id": "d08a9cf6",
   "metadata": {
    "id": "d08a9cf6",
    "outputId": "edbe4e96-75d8-4c8b-ef6a-8c2c86fd3d9f"
   },
   "outputs": [
    {
     "name": "stdout",
     "output_type": "stream",
     "text": [
      "[[ 1 10  3]\n",
      " [ 3  4  5]]\n",
      "\n",
      "[[ -2  10   3]\n",
      " [-10   4   5]]\n"
     ]
    }
   ],
   "source": [
    "x=np.array([(1,2,3),(3,4,5)])\n",
    "x[0,1]=10\n",
    "print(x)\n",
    "print()\n",
    "x[:,0]=[-2,-10]\n",
    "print(x)"
   ]
  },
  {
   "cell_type": "code",
   "execution_count": 51,
   "id": "4035c0f6",
   "metadata": {
    "collapsed": true,
    "id": "4035c0f6",
    "outputId": "1414d6ba-53a7-4336-a287-a6b7d0cade44"
   },
   "outputs": [
    {
     "name": "stdout",
     "output_type": "stream",
     "text": [
      "[[[ 1  2  8]\n",
      "  [ 3  4  0]]\n",
      "\n",
      " [[ 5  6 -3]\n",
      "  [ 7  8 11]]]\n",
      "3\n",
      "(2, 2, 3)\n"
     ]
    }
   ],
   "source": [
    "b = np.array([[[1,2,8],[3,4,0]],[[5,6,-3],[7,8,11]]])\n",
    "print(b)\n",
    "print(b.ndim)\n",
    "print(b.shape)"
   ]
  },
  {
   "cell_type": "code",
   "execution_count": 55,
   "id": "9d369759",
   "metadata": {
    "collapsed": true,
    "id": "9d369759",
    "outputId": "70a6948f-d4ac-4b29-e8bd-650fb9ae4d2e"
   },
   "outputs": [
    {
     "data": {
      "text/plain": [
       "array([[[ 1,  2,  8],\n",
       "        [ 0, -3,  0]],\n",
       "\n",
       "       [[ 5,  6, -3],\n",
       "        [ 7,  8, 11]]])"
      ]
     },
     "execution_count": 55,
     "metadata": {},
     "output_type": "execute_result"
    }
   ],
   "source": [
    "b[0,1,:2]=[0,-3]\n",
    "b"
   ]
  },
  {
   "cell_type": "code",
   "execution_count": 60,
   "id": "c399b5c0",
   "metadata": {
    "collapsed": true
   },
   "outputs": [
    {
     "data": {
      "text/plain": [
       "array([[[ 3, 11, 33],\n",
       "        [ 0, -3,  0]],\n",
       "\n",
       "       [[-8, -3,  8],\n",
       "        [ 7,  8, 11]]])"
      ]
     },
     "execution_count": 60,
     "metadata": {},
     "output_type": "execute_result"
    }
   ],
   "source": [
    "b[:,0,:]=[[3,11,33],[-8,-3,8]]\n",
    "b"
   ]
  },
  {
   "cell_type": "code",
   "execution_count": 70,
   "id": "30950268",
   "metadata": {
    "id": "30950268",
    "outputId": "2786f919-14e7-4926-8c06-e88861f562cc"
   },
   "outputs": [
    {
     "data": {
      "text/plain": [
       "array([ 3, 11, 33,  0, -3,  0, -8, -3,  8,  7,  8, 11])"
      ]
     },
     "execution_count": 70,
     "metadata": {},
     "output_type": "execute_result"
    }
   ],
   "source": [
    "#ravel puts the 2d 3d in 1d\n",
    "b = b.ravel()\n",
    "b.shape\n",
    "b"
   ]
  },
  {
   "cell_type": "code",
   "execution_count": 83,
   "id": "8f0e6493",
   "metadata": {
    "id": "8f0e6493",
    "outputId": "02759e1d-4cb5-467b-f7bf-2602063f63a8"
   },
   "outputs": [
    {
     "name": "stdout",
     "output_type": "stream",
     "text": [
      "[[ 3 11 33  0 -3  0]\n",
      " [-8 -3  8  7  8 11]]\n"
     ]
    }
   ],
   "source": [
    "\"\"\"\n",
    "Reshaping means changing the shape of an array.\n",
    "\n",
    "The shape of an array is the number of elements in each dimension.\n",
    "\n",
    "By reshaping we can add or remove dimensions or change \n",
    "number of elements in each dimension.\n",
    "\"\"\"\n",
    "print(b.reshape(2,6))"
   ]
  },
  {
   "cell_type": "code",
   "execution_count": 92,
   "id": "7669217e",
   "metadata": {
    "id": "7669217e"
   },
   "outputs": [],
   "source": [
    "y = np.array([1, 2, 3, 4, 5, 6, 7, 8, 9, 10, 11, 12,13,14,15,16,17,-3])\n",
    "new = y.reshape(2,3,3)"
   ]
  },
  {
   "cell_type": "code",
   "execution_count": 93,
   "id": "c1591986",
   "metadata": {},
   "outputs": [
    {
     "data": {
      "text/plain": [
       "array([[[ 1,  2,  3],\n",
       "        [ 4,  5,  6],\n",
       "        [ 7,  8,  9]],\n",
       "\n",
       "       [[10, 11, 12],\n",
       "        [13, 14, 15],\n",
       "        [16, 17, -3]]])"
      ]
     },
     "execution_count": 93,
     "metadata": {},
     "output_type": "execute_result"
    }
   ],
   "source": [
    "new"
   ]
  }
 ],
 "metadata": {
  "colab": {
   "provenance": []
  },
  "kernelspec": {
   "display_name": "Python 3 (ipykernel)",
   "language": "python",
   "name": "python3"
  },
  "language_info": {
   "codemirror_mode": {
    "name": "ipython",
    "version": 3
   },
   "file_extension": ".py",
   "mimetype": "text/x-python",
   "name": "python",
   "nbconvert_exporter": "python",
   "pygments_lexer": "ipython3",
   "version": "3.11.3"
  }
 },
 "nbformat": 4,
 "nbformat_minor": 5
}
